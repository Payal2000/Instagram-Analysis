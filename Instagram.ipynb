{
 "cells": [
  {
   "cell_type": "code",
   "execution_count": 28,
   "metadata": {},
   "outputs": [],
   "source": [
    "import pandas as pd\n",
    "import numpy as np\n",
    "import matplotlib.pyplot as plt\n",
    "import seaborn as sns\n",
    "import plotly\n",
    "import plotly.express as px\n",
    "import plotly.graph_objects as go\n",
    "import plotly.io as pio\n",
    "pio.templates.default = \"plotly_white\""
   ]
  },
  {
   "cell_type": "code",
   "execution_count": 29,
   "metadata": {},
   "outputs": [],
   "source": [
    "df = pd.read_csv('Instagram_data.csv', encoding='latin-1')\n"
   ]
  },
  {
   "cell_type": "code",
   "execution_count": 30,
   "metadata": {},
   "outputs": [
    {
     "data": {
      "text/html": [
       "<div>\n",
       "<style scoped>\n",
       "    .dataframe tbody tr th:only-of-type {\n",
       "        vertical-align: middle;\n",
       "    }\n",
       "\n",
       "    .dataframe tbody tr th {\n",
       "        vertical-align: top;\n",
       "    }\n",
       "\n",
       "    .dataframe thead th {\n",
       "        text-align: right;\n",
       "    }\n",
       "</style>\n",
       "<table border=\"1\" class=\"dataframe\">\n",
       "  <thead>\n",
       "    <tr style=\"text-align: right;\">\n",
       "      <th></th>\n",
       "      <th>Impressions</th>\n",
       "      <th>From Home</th>\n",
       "      <th>From Hashtags</th>\n",
       "      <th>From Explore</th>\n",
       "      <th>From Other</th>\n",
       "      <th>Saves</th>\n",
       "      <th>Comments</th>\n",
       "      <th>Shares</th>\n",
       "      <th>Likes</th>\n",
       "      <th>Profile Visits</th>\n",
       "      <th>Follows</th>\n",
       "      <th>Caption</th>\n",
       "      <th>Hashtags</th>\n",
       "    </tr>\n",
       "  </thead>\n",
       "  <tbody>\n",
       "    <tr>\n",
       "      <th>0</th>\n",
       "      <td>3920</td>\n",
       "      <td>2586</td>\n",
       "      <td>1028</td>\n",
       "      <td>619</td>\n",
       "      <td>56</td>\n",
       "      <td>98</td>\n",
       "      <td>9</td>\n",
       "      <td>5</td>\n",
       "      <td>162</td>\n",
       "      <td>35</td>\n",
       "      <td>2</td>\n",
       "      <td>Here are some of the most important data visua...</td>\n",
       "      <td>#finance #money #business #investing #investme...</td>\n",
       "    </tr>\n",
       "    <tr>\n",
       "      <th>1</th>\n",
       "      <td>5394</td>\n",
       "      <td>2727</td>\n",
       "      <td>1838</td>\n",
       "      <td>1174</td>\n",
       "      <td>78</td>\n",
       "      <td>194</td>\n",
       "      <td>7</td>\n",
       "      <td>14</td>\n",
       "      <td>224</td>\n",
       "      <td>48</td>\n",
       "      <td>10</td>\n",
       "      <td>Here are some of the best data science project...</td>\n",
       "      <td>#healthcare #health #covid #data #datascience ...</td>\n",
       "    </tr>\n",
       "    <tr>\n",
       "      <th>2</th>\n",
       "      <td>4021</td>\n",
       "      <td>2085</td>\n",
       "      <td>1188</td>\n",
       "      <td>0</td>\n",
       "      <td>533</td>\n",
       "      <td>41</td>\n",
       "      <td>11</td>\n",
       "      <td>1</td>\n",
       "      <td>131</td>\n",
       "      <td>62</td>\n",
       "      <td>12</td>\n",
       "      <td>Learn how to train a machine learning model an...</td>\n",
       "      <td>#data #datascience #dataanalysis #dataanalytic...</td>\n",
       "    </tr>\n",
       "    <tr>\n",
       "      <th>3</th>\n",
       "      <td>4528</td>\n",
       "      <td>2700</td>\n",
       "      <td>621</td>\n",
       "      <td>932</td>\n",
       "      <td>73</td>\n",
       "      <td>172</td>\n",
       "      <td>10</td>\n",
       "      <td>7</td>\n",
       "      <td>213</td>\n",
       "      <td>23</td>\n",
       "      <td>8</td>\n",
       "      <td>Heres how you can write a Python program to d...</td>\n",
       "      <td>#python #pythonprogramming #pythonprojects #py...</td>\n",
       "    </tr>\n",
       "    <tr>\n",
       "      <th>4</th>\n",
       "      <td>2518</td>\n",
       "      <td>1704</td>\n",
       "      <td>255</td>\n",
       "      <td>279</td>\n",
       "      <td>37</td>\n",
       "      <td>96</td>\n",
       "      <td>5</td>\n",
       "      <td>4</td>\n",
       "      <td>123</td>\n",
       "      <td>8</td>\n",
       "      <td>0</td>\n",
       "      <td>Plotting annotations while visualizing your da...</td>\n",
       "      <td>#datavisualization #datascience #data #dataana...</td>\n",
       "    </tr>\n",
       "    <tr>\n",
       "      <th>5</th>\n",
       "      <td>3884</td>\n",
       "      <td>2046</td>\n",
       "      <td>1214</td>\n",
       "      <td>329</td>\n",
       "      <td>43</td>\n",
       "      <td>74</td>\n",
       "      <td>7</td>\n",
       "      <td>10</td>\n",
       "      <td>144</td>\n",
       "      <td>9</td>\n",
       "      <td>2</td>\n",
       "      <td>Here are some of the most important soft skill...</td>\n",
       "      <td>#data #datascience #dataanalysis #dataanalytic...</td>\n",
       "    </tr>\n",
       "    <tr>\n",
       "      <th>6</th>\n",
       "      <td>2621</td>\n",
       "      <td>1543</td>\n",
       "      <td>599</td>\n",
       "      <td>333</td>\n",
       "      <td>25</td>\n",
       "      <td>22</td>\n",
       "      <td>5</td>\n",
       "      <td>1</td>\n",
       "      <td>76</td>\n",
       "      <td>26</td>\n",
       "      <td>0</td>\n",
       "      <td>Learn how to analyze a candlestick chart as a ...</td>\n",
       "      <td>#stockmarket #investing #stocks #trading #mone...</td>\n",
       "    </tr>\n",
       "    <tr>\n",
       "      <th>7</th>\n",
       "      <td>3541</td>\n",
       "      <td>2071</td>\n",
       "      <td>628</td>\n",
       "      <td>500</td>\n",
       "      <td>60</td>\n",
       "      <td>135</td>\n",
       "      <td>4</td>\n",
       "      <td>9</td>\n",
       "      <td>124</td>\n",
       "      <td>12</td>\n",
       "      <td>6</td>\n",
       "      <td>Here are some of the best books that you can f...</td>\n",
       "      <td>#python #pythonprogramming #pythonprojects #py...</td>\n",
       "    </tr>\n",
       "    <tr>\n",
       "      <th>8</th>\n",
       "      <td>3749</td>\n",
       "      <td>2384</td>\n",
       "      <td>857</td>\n",
       "      <td>248</td>\n",
       "      <td>49</td>\n",
       "      <td>155</td>\n",
       "      <td>6</td>\n",
       "      <td>8</td>\n",
       "      <td>159</td>\n",
       "      <td>36</td>\n",
       "      <td>4</td>\n",
       "      <td>Here are some of the best data analysis projec...</td>\n",
       "      <td>#dataanalytics #datascience #data #machinelear...</td>\n",
       "    </tr>\n",
       "    <tr>\n",
       "      <th>9</th>\n",
       "      <td>4115</td>\n",
       "      <td>2609</td>\n",
       "      <td>1104</td>\n",
       "      <td>178</td>\n",
       "      <td>46</td>\n",
       "      <td>122</td>\n",
       "      <td>6</td>\n",
       "      <td>3</td>\n",
       "      <td>191</td>\n",
       "      <td>31</td>\n",
       "      <td>6</td>\n",
       "      <td>Here are two best ways to count the number of ...</td>\n",
       "      <td>#python #pythonprogramming #pythonprojects #py...</td>\n",
       "    </tr>\n",
       "  </tbody>\n",
       "</table>\n",
       "</div>"
      ],
      "text/plain": [
       "   Impressions  From Home  From Hashtags  From Explore  From Other  Saves  \\\n",
       "0         3920       2586           1028           619          56     98   \n",
       "1         5394       2727           1838          1174          78    194   \n",
       "2         4021       2085           1188             0         533     41   \n",
       "3         4528       2700            621           932          73    172   \n",
       "4         2518       1704            255           279          37     96   \n",
       "5         3884       2046           1214           329          43     74   \n",
       "6         2621       1543            599           333          25     22   \n",
       "7         3541       2071            628           500          60    135   \n",
       "8         3749       2384            857           248          49    155   \n",
       "9         4115       2609           1104           178          46    122   \n",
       "\n",
       "   Comments  Shares  Likes  Profile Visits  Follows  \\\n",
       "0         9       5    162              35        2   \n",
       "1         7      14    224              48       10   \n",
       "2        11       1    131              62       12   \n",
       "3        10       7    213              23        8   \n",
       "4         5       4    123               8        0   \n",
       "5         7      10    144               9        2   \n",
       "6         5       1     76              26        0   \n",
       "7         4       9    124              12        6   \n",
       "8         6       8    159              36        4   \n",
       "9         6       3    191              31        6   \n",
       "\n",
       "                                             Caption  \\\n",
       "0  Here are some of the most important data visua...   \n",
       "1  Here are some of the best data science project...   \n",
       "2  Learn how to train a machine learning model an...   \n",
       "3  Heres how you can write a Python program to d...   \n",
       "4  Plotting annotations while visualizing your da...   \n",
       "5  Here are some of the most important soft skill...   \n",
       "6  Learn how to analyze a candlestick chart as a ...   \n",
       "7  Here are some of the best books that you can f...   \n",
       "8  Here are some of the best data analysis projec...   \n",
       "9  Here are two best ways to count the number of ...   \n",
       "\n",
       "                                            Hashtags  \n",
       "0  #finance #money #business #investing #investme...  \n",
       "1  #healthcare #health #covid #data #datascience ...  \n",
       "2  #data #datascience #dataanalysis #dataanalytic...  \n",
       "3  #python #pythonprogramming #pythonprojects #py...  \n",
       "4  #datavisualization #datascience #data #dataana...  \n",
       "5  #data #datascience #dataanalysis #dataanalytic...  \n",
       "6  #stockmarket #investing #stocks #trading #mone...  \n",
       "7  #python #pythonprogramming #pythonprojects #py...  \n",
       "8  #dataanalytics #datascience #data #machinelear...  \n",
       "9  #python #pythonprogramming #pythonprojects #py...  "
      ]
     },
     "execution_count": 30,
     "metadata": {},
     "output_type": "execute_result"
    }
   ],
   "source": [
    "df.head(10)"
   ]
  },
  {
   "cell_type": "code",
   "execution_count": 31,
   "metadata": {},
   "outputs": [
    {
     "data": {
      "text/plain": [
       "Index(['Impressions', 'From Home', 'From Hashtags', 'From Explore',\n",
       "       'From Other', 'Saves', 'Comments', 'Shares', 'Likes', 'Profile Visits',\n",
       "       'Follows', 'Caption', 'Hashtags'],\n",
       "      dtype='object')"
      ]
     },
     "execution_count": 31,
     "metadata": {},
     "output_type": "execute_result"
    }
   ],
   "source": [
    "df.columns"
   ]
  },
  {
   "cell_type": "code",
   "execution_count": 32,
   "metadata": {},
   "outputs": [
    {
     "name": "stdout",
     "output_type": "stream",
     "text": [
      "<class 'pandas.core.frame.DataFrame'>\n",
      "RangeIndex: 119 entries, 0 to 118\n",
      "Data columns (total 13 columns):\n",
      " #   Column          Non-Null Count  Dtype \n",
      "---  ------          --------------  ----- \n",
      " 0   Impressions     119 non-null    int64 \n",
      " 1   From Home       119 non-null    int64 \n",
      " 2   From Hashtags   119 non-null    int64 \n",
      " 3   From Explore    119 non-null    int64 \n",
      " 4   From Other      119 non-null    int64 \n",
      " 5   Saves           119 non-null    int64 \n",
      " 6   Comments        119 non-null    int64 \n",
      " 7   Shares          119 non-null    int64 \n",
      " 8   Likes           119 non-null    int64 \n",
      " 9   Profile Visits  119 non-null    int64 \n",
      " 10  Follows         119 non-null    int64 \n",
      " 11  Caption         119 non-null    object\n",
      " 12  Hashtags        119 non-null    object\n",
      "dtypes: int64(11), object(2)\n",
      "memory usage: 12.2+ KB\n"
     ]
    }
   ],
   "source": [
    "df.info()"
   ]
  },
  {
   "cell_type": "code",
   "execution_count": 33,
   "metadata": {},
   "outputs": [
    {
     "data": {
      "text/html": [
       "<div>\n",
       "<style scoped>\n",
       "    .dataframe tbody tr th:only-of-type {\n",
       "        vertical-align: middle;\n",
       "    }\n",
       "\n",
       "    .dataframe tbody tr th {\n",
       "        vertical-align: top;\n",
       "    }\n",
       "\n",
       "    .dataframe thead th {\n",
       "        text-align: right;\n",
       "    }\n",
       "</style>\n",
       "<table border=\"1\" class=\"dataframe\">\n",
       "  <thead>\n",
       "    <tr style=\"text-align: right;\">\n",
       "      <th></th>\n",
       "      <th>Impressions</th>\n",
       "      <th>From Home</th>\n",
       "      <th>From Hashtags</th>\n",
       "      <th>From Explore</th>\n",
       "      <th>From Other</th>\n",
       "      <th>Saves</th>\n",
       "      <th>Comments</th>\n",
       "      <th>Shares</th>\n",
       "      <th>Likes</th>\n",
       "      <th>Profile Visits</th>\n",
       "      <th>Follows</th>\n",
       "    </tr>\n",
       "  </thead>\n",
       "  <tbody>\n",
       "    <tr>\n",
       "      <th>count</th>\n",
       "      <td>119.000000</td>\n",
       "      <td>119.000000</td>\n",
       "      <td>119.000000</td>\n",
       "      <td>119.000000</td>\n",
       "      <td>119.000000</td>\n",
       "      <td>119.000000</td>\n",
       "      <td>119.000000</td>\n",
       "      <td>119.000000</td>\n",
       "      <td>119.000000</td>\n",
       "      <td>119.000000</td>\n",
       "      <td>119.000000</td>\n",
       "    </tr>\n",
       "    <tr>\n",
       "      <th>mean</th>\n",
       "      <td>5703.991597</td>\n",
       "      <td>2475.789916</td>\n",
       "      <td>1887.512605</td>\n",
       "      <td>1078.100840</td>\n",
       "      <td>171.092437</td>\n",
       "      <td>153.310924</td>\n",
       "      <td>6.663866</td>\n",
       "      <td>9.361345</td>\n",
       "      <td>173.781513</td>\n",
       "      <td>50.621849</td>\n",
       "      <td>20.756303</td>\n",
       "    </tr>\n",
       "    <tr>\n",
       "      <th>std</th>\n",
       "      <td>4843.780105</td>\n",
       "      <td>1489.386348</td>\n",
       "      <td>1884.361443</td>\n",
       "      <td>2613.026132</td>\n",
       "      <td>289.431031</td>\n",
       "      <td>156.317731</td>\n",
       "      <td>3.544576</td>\n",
       "      <td>10.089205</td>\n",
       "      <td>82.378947</td>\n",
       "      <td>87.088402</td>\n",
       "      <td>40.921580</td>\n",
       "    </tr>\n",
       "    <tr>\n",
       "      <th>min</th>\n",
       "      <td>1941.000000</td>\n",
       "      <td>1133.000000</td>\n",
       "      <td>116.000000</td>\n",
       "      <td>0.000000</td>\n",
       "      <td>9.000000</td>\n",
       "      <td>22.000000</td>\n",
       "      <td>0.000000</td>\n",
       "      <td>0.000000</td>\n",
       "      <td>72.000000</td>\n",
       "      <td>4.000000</td>\n",
       "      <td>0.000000</td>\n",
       "    </tr>\n",
       "    <tr>\n",
       "      <th>25%</th>\n",
       "      <td>3467.000000</td>\n",
       "      <td>1945.000000</td>\n",
       "      <td>726.000000</td>\n",
       "      <td>157.500000</td>\n",
       "      <td>38.000000</td>\n",
       "      <td>65.000000</td>\n",
       "      <td>4.000000</td>\n",
       "      <td>3.000000</td>\n",
       "      <td>121.500000</td>\n",
       "      <td>15.000000</td>\n",
       "      <td>4.000000</td>\n",
       "    </tr>\n",
       "    <tr>\n",
       "      <th>50%</th>\n",
       "      <td>4289.000000</td>\n",
       "      <td>2207.000000</td>\n",
       "      <td>1278.000000</td>\n",
       "      <td>326.000000</td>\n",
       "      <td>74.000000</td>\n",
       "      <td>109.000000</td>\n",
       "      <td>6.000000</td>\n",
       "      <td>6.000000</td>\n",
       "      <td>151.000000</td>\n",
       "      <td>23.000000</td>\n",
       "      <td>8.000000</td>\n",
       "    </tr>\n",
       "    <tr>\n",
       "      <th>75%</th>\n",
       "      <td>6138.000000</td>\n",
       "      <td>2602.500000</td>\n",
       "      <td>2363.500000</td>\n",
       "      <td>689.500000</td>\n",
       "      <td>196.000000</td>\n",
       "      <td>169.000000</td>\n",
       "      <td>8.000000</td>\n",
       "      <td>13.500000</td>\n",
       "      <td>204.000000</td>\n",
       "      <td>42.000000</td>\n",
       "      <td>18.000000</td>\n",
       "    </tr>\n",
       "    <tr>\n",
       "      <th>max</th>\n",
       "      <td>36919.000000</td>\n",
       "      <td>13473.000000</td>\n",
       "      <td>11817.000000</td>\n",
       "      <td>17414.000000</td>\n",
       "      <td>2547.000000</td>\n",
       "      <td>1095.000000</td>\n",
       "      <td>19.000000</td>\n",
       "      <td>75.000000</td>\n",
       "      <td>549.000000</td>\n",
       "      <td>611.000000</td>\n",
       "      <td>260.000000</td>\n",
       "    </tr>\n",
       "  </tbody>\n",
       "</table>\n",
       "</div>"
      ],
      "text/plain": [
       "        Impressions     From Home  From Hashtags  From Explore   From Other  \\\n",
       "count    119.000000    119.000000     119.000000    119.000000   119.000000   \n",
       "mean    5703.991597   2475.789916    1887.512605   1078.100840   171.092437   \n",
       "std     4843.780105   1489.386348    1884.361443   2613.026132   289.431031   \n",
       "min     1941.000000   1133.000000     116.000000      0.000000     9.000000   \n",
       "25%     3467.000000   1945.000000     726.000000    157.500000    38.000000   \n",
       "50%     4289.000000   2207.000000    1278.000000    326.000000    74.000000   \n",
       "75%     6138.000000   2602.500000    2363.500000    689.500000   196.000000   \n",
       "max    36919.000000  13473.000000   11817.000000  17414.000000  2547.000000   \n",
       "\n",
       "             Saves    Comments      Shares       Likes  Profile Visits  \\\n",
       "count   119.000000  119.000000  119.000000  119.000000      119.000000   \n",
       "mean    153.310924    6.663866    9.361345  173.781513       50.621849   \n",
       "std     156.317731    3.544576   10.089205   82.378947       87.088402   \n",
       "min      22.000000    0.000000    0.000000   72.000000        4.000000   \n",
       "25%      65.000000    4.000000    3.000000  121.500000       15.000000   \n",
       "50%     109.000000    6.000000    6.000000  151.000000       23.000000   \n",
       "75%     169.000000    8.000000   13.500000  204.000000       42.000000   \n",
       "max    1095.000000   19.000000   75.000000  549.000000      611.000000   \n",
       "\n",
       "          Follows  \n",
       "count  119.000000  \n",
       "mean    20.756303  \n",
       "std     40.921580  \n",
       "min      0.000000  \n",
       "25%      4.000000  \n",
       "50%      8.000000  \n",
       "75%     18.000000  \n",
       "max    260.000000  "
      ]
     },
     "execution_count": 33,
     "metadata": {},
     "output_type": "execute_result"
    }
   ],
   "source": [
    "#Descriptive statistics of the datav\n",
    "df.describe()"
   ]
  },
  {
   "cell_type": "code",
   "execution_count": 34,
   "metadata": {},
   "outputs": [
    {
     "data": {
      "text/plain": [
       "Impressions       0\n",
       "From Home         0\n",
       "From Hashtags     0\n",
       "From Explore      0\n",
       "From Other        0\n",
       "Saves             0\n",
       "Comments          0\n",
       "Shares            0\n",
       "Likes             0\n",
       "Profile Visits    0\n",
       "Follows           0\n",
       "Caption           0\n",
       "Hashtags          0\n",
       "dtype: int64"
      ]
     },
     "execution_count": 34,
     "metadata": {},
     "output_type": "execute_result"
    }
   ],
   "source": [
    "#Look if your data contains any missing values or not\n",
    "df.isnull().sum()"
   ]
  },
  {
   "cell_type": "code",
   "execution_count": 35,
   "metadata": {},
   "outputs": [
    {
     "data": {
      "application/vnd.plotly.v1+json": {
       "config": {
        "plotlyServerURL": "https://plot.ly"
       },
       "data": [
        {
         "alignmentgroup": "True",
         "bingroup": "x",
         "hovertemplate": "Impressions=%{x}<br>count=%{y}<extra></extra>",
         "legendgroup": "",
         "marker": {
          "color": "#636efa",
          "pattern": {
           "shape": ""
          }
         },
         "name": "",
         "nbinsx": 10,
         "offsetgroup": "",
         "orientation": "v",
         "showlegend": false,
         "type": "histogram",
         "x": [
          3920,
          5394,
          4021,
          4528,
          2518,
          3884,
          2621,
          3541,
          3749,
          4115,
          2218,
          3234,
          4344,
          3216,
          9453,
          5055,
          4002,
          3169,
          6168,
          2407,
          2064,
          3973,
          7281,
          3052,
          4628,
          4082,
          5394,
          2766,
          3924,
          3015,
          6666,
          3854,
          4355,
          4343,
          6108,
          2523,
          2327,
          3990,
          2191,
          1941,
          16062,
          4998,
          4289,
          3880,
          3786,
          4298,
          3630,
          2826,
          7407,
          10386,
          2998,
          7018,
          2941,
          6432,
          10667,
          3988,
          4978,
          3388,
          4467,
          3246,
          5072,
          6339,
          4239,
          3454,
          7571,
          3333,
          3818,
          10933,
          5058,
          3601,
          3480,
          3525,
          3606,
          5542,
          6559,
          3623,
          10493,
          4446,
          2957,
          5538,
          4681,
          5273,
          5055,
          4002,
          3169,
          6168,
          2407,
          3630,
          2826,
          7407,
          10386,
          2998,
          3052,
          4628,
          4082,
          5394,
          2766,
          3924,
          3015,
          5409,
          5323,
          8001,
          4150,
          4609,
          6348,
          11068,
          7231,
          17396,
          6814,
          17713,
          5563,
          4842,
          11149,
          10206,
          13700,
          5731,
          4139,
          32695,
          36919
         ],
         "xaxis": "x",
         "yaxis": "y"
        }
       ],
       "layout": {
        "barmode": "relative",
        "legend": {
         "tracegroupgap": 0
        },
        "template": {
         "data": {
          "bar": [
           {
            "error_x": {
             "color": "#2a3f5f"
            },
            "error_y": {
             "color": "#2a3f5f"
            },
            "marker": {
             "line": {
              "color": "white",
              "width": 0.5
             },
             "pattern": {
              "fillmode": "overlay",
              "size": 10,
              "solidity": 0.2
             }
            },
            "type": "bar"
           }
          ],
          "barpolar": [
           {
            "marker": {
             "line": {
              "color": "white",
              "width": 0.5
             },
             "pattern": {
              "fillmode": "overlay",
              "size": 10,
              "solidity": 0.2
             }
            },
            "type": "barpolar"
           }
          ],
          "carpet": [
           {
            "aaxis": {
             "endlinecolor": "#2a3f5f",
             "gridcolor": "#C8D4E3",
             "linecolor": "#C8D4E3",
             "minorgridcolor": "#C8D4E3",
             "startlinecolor": "#2a3f5f"
            },
            "baxis": {
             "endlinecolor": "#2a3f5f",
             "gridcolor": "#C8D4E3",
             "linecolor": "#C8D4E3",
             "minorgridcolor": "#C8D4E3",
             "startlinecolor": "#2a3f5f"
            },
            "type": "carpet"
           }
          ],
          "choropleth": [
           {
            "colorbar": {
             "outlinewidth": 0,
             "ticks": ""
            },
            "type": "choropleth"
           }
          ],
          "contour": [
           {
            "colorbar": {
             "outlinewidth": 0,
             "ticks": ""
            },
            "colorscale": [
             [
              0,
              "#0d0887"
             ],
             [
              0.1111111111111111,
              "#46039f"
             ],
             [
              0.2222222222222222,
              "#7201a8"
             ],
             [
              0.3333333333333333,
              "#9c179e"
             ],
             [
              0.4444444444444444,
              "#bd3786"
             ],
             [
              0.5555555555555556,
              "#d8576b"
             ],
             [
              0.6666666666666666,
              "#ed7953"
             ],
             [
              0.7777777777777778,
              "#fb9f3a"
             ],
             [
              0.8888888888888888,
              "#fdca26"
             ],
             [
              1,
              "#f0f921"
             ]
            ],
            "type": "contour"
           }
          ],
          "contourcarpet": [
           {
            "colorbar": {
             "outlinewidth": 0,
             "ticks": ""
            },
            "type": "contourcarpet"
           }
          ],
          "heatmap": [
           {
            "colorbar": {
             "outlinewidth": 0,
             "ticks": ""
            },
            "colorscale": [
             [
              0,
              "#0d0887"
             ],
             [
              0.1111111111111111,
              "#46039f"
             ],
             [
              0.2222222222222222,
              "#7201a8"
             ],
             [
              0.3333333333333333,
              "#9c179e"
             ],
             [
              0.4444444444444444,
              "#bd3786"
             ],
             [
              0.5555555555555556,
              "#d8576b"
             ],
             [
              0.6666666666666666,
              "#ed7953"
             ],
             [
              0.7777777777777778,
              "#fb9f3a"
             ],
             [
              0.8888888888888888,
              "#fdca26"
             ],
             [
              1,
              "#f0f921"
             ]
            ],
            "type": "heatmap"
           }
          ],
          "heatmapgl": [
           {
            "colorbar": {
             "outlinewidth": 0,
             "ticks": ""
            },
            "colorscale": [
             [
              0,
              "#0d0887"
             ],
             [
              0.1111111111111111,
              "#46039f"
             ],
             [
              0.2222222222222222,
              "#7201a8"
             ],
             [
              0.3333333333333333,
              "#9c179e"
             ],
             [
              0.4444444444444444,
              "#bd3786"
             ],
             [
              0.5555555555555556,
              "#d8576b"
             ],
             [
              0.6666666666666666,
              "#ed7953"
             ],
             [
              0.7777777777777778,
              "#fb9f3a"
             ],
             [
              0.8888888888888888,
              "#fdca26"
             ],
             [
              1,
              "#f0f921"
             ]
            ],
            "type": "heatmapgl"
           }
          ],
          "histogram": [
           {
            "marker": {
             "pattern": {
              "fillmode": "overlay",
              "size": 10,
              "solidity": 0.2
             }
            },
            "type": "histogram"
           }
          ],
          "histogram2d": [
           {
            "colorbar": {
             "outlinewidth": 0,
             "ticks": ""
            },
            "colorscale": [
             [
              0,
              "#0d0887"
             ],
             [
              0.1111111111111111,
              "#46039f"
             ],
             [
              0.2222222222222222,
              "#7201a8"
             ],
             [
              0.3333333333333333,
              "#9c179e"
             ],
             [
              0.4444444444444444,
              "#bd3786"
             ],
             [
              0.5555555555555556,
              "#d8576b"
             ],
             [
              0.6666666666666666,
              "#ed7953"
             ],
             [
              0.7777777777777778,
              "#fb9f3a"
             ],
             [
              0.8888888888888888,
              "#fdca26"
             ],
             [
              1,
              "#f0f921"
             ]
            ],
            "type": "histogram2d"
           }
          ],
          "histogram2dcontour": [
           {
            "colorbar": {
             "outlinewidth": 0,
             "ticks": ""
            },
            "colorscale": [
             [
              0,
              "#0d0887"
             ],
             [
              0.1111111111111111,
              "#46039f"
             ],
             [
              0.2222222222222222,
              "#7201a8"
             ],
             [
              0.3333333333333333,
              "#9c179e"
             ],
             [
              0.4444444444444444,
              "#bd3786"
             ],
             [
              0.5555555555555556,
              "#d8576b"
             ],
             [
              0.6666666666666666,
              "#ed7953"
             ],
             [
              0.7777777777777778,
              "#fb9f3a"
             ],
             [
              0.8888888888888888,
              "#fdca26"
             ],
             [
              1,
              "#f0f921"
             ]
            ],
            "type": "histogram2dcontour"
           }
          ],
          "mesh3d": [
           {
            "colorbar": {
             "outlinewidth": 0,
             "ticks": ""
            },
            "type": "mesh3d"
           }
          ],
          "parcoords": [
           {
            "line": {
             "colorbar": {
              "outlinewidth": 0,
              "ticks": ""
             }
            },
            "type": "parcoords"
           }
          ],
          "pie": [
           {
            "automargin": true,
            "type": "pie"
           }
          ],
          "scatter": [
           {
            "fillpattern": {
             "fillmode": "overlay",
             "size": 10,
             "solidity": 0.2
            },
            "type": "scatter"
           }
          ],
          "scatter3d": [
           {
            "line": {
             "colorbar": {
              "outlinewidth": 0,
              "ticks": ""
             }
            },
            "marker": {
             "colorbar": {
              "outlinewidth": 0,
              "ticks": ""
             }
            },
            "type": "scatter3d"
           }
          ],
          "scattercarpet": [
           {
            "marker": {
             "colorbar": {
              "outlinewidth": 0,
              "ticks": ""
             }
            },
            "type": "scattercarpet"
           }
          ],
          "scattergeo": [
           {
            "marker": {
             "colorbar": {
              "outlinewidth": 0,
              "ticks": ""
             }
            },
            "type": "scattergeo"
           }
          ],
          "scattergl": [
           {
            "marker": {
             "colorbar": {
              "outlinewidth": 0,
              "ticks": ""
             }
            },
            "type": "scattergl"
           }
          ],
          "scattermapbox": [
           {
            "marker": {
             "colorbar": {
              "outlinewidth": 0,
              "ticks": ""
             }
            },
            "type": "scattermapbox"
           }
          ],
          "scatterpolar": [
           {
            "marker": {
             "colorbar": {
              "outlinewidth": 0,
              "ticks": ""
             }
            },
            "type": "scatterpolar"
           }
          ],
          "scatterpolargl": [
           {
            "marker": {
             "colorbar": {
              "outlinewidth": 0,
              "ticks": ""
             }
            },
            "type": "scatterpolargl"
           }
          ],
          "scatterternary": [
           {
            "marker": {
             "colorbar": {
              "outlinewidth": 0,
              "ticks": ""
             }
            },
            "type": "scatterternary"
           }
          ],
          "surface": [
           {
            "colorbar": {
             "outlinewidth": 0,
             "ticks": ""
            },
            "colorscale": [
             [
              0,
              "#0d0887"
             ],
             [
              0.1111111111111111,
              "#46039f"
             ],
             [
              0.2222222222222222,
              "#7201a8"
             ],
             [
              0.3333333333333333,
              "#9c179e"
             ],
             [
              0.4444444444444444,
              "#bd3786"
             ],
             [
              0.5555555555555556,
              "#d8576b"
             ],
             [
              0.6666666666666666,
              "#ed7953"
             ],
             [
              0.7777777777777778,
              "#fb9f3a"
             ],
             [
              0.8888888888888888,
              "#fdca26"
             ],
             [
              1,
              "#f0f921"
             ]
            ],
            "type": "surface"
           }
          ],
          "table": [
           {
            "cells": {
             "fill": {
              "color": "#EBF0F8"
             },
             "line": {
              "color": "white"
             }
            },
            "header": {
             "fill": {
              "color": "#C8D4E3"
             },
             "line": {
              "color": "white"
             }
            },
            "type": "table"
           }
          ]
         },
         "layout": {
          "annotationdefaults": {
           "arrowcolor": "#2a3f5f",
           "arrowhead": 0,
           "arrowwidth": 1
          },
          "autotypenumbers": "strict",
          "coloraxis": {
           "colorbar": {
            "outlinewidth": 0,
            "ticks": ""
           }
          },
          "colorscale": {
           "diverging": [
            [
             0,
             "#8e0152"
            ],
            [
             0.1,
             "#c51b7d"
            ],
            [
             0.2,
             "#de77ae"
            ],
            [
             0.3,
             "#f1b6da"
            ],
            [
             0.4,
             "#fde0ef"
            ],
            [
             0.5,
             "#f7f7f7"
            ],
            [
             0.6,
             "#e6f5d0"
            ],
            [
             0.7,
             "#b8e186"
            ],
            [
             0.8,
             "#7fbc41"
            ],
            [
             0.9,
             "#4d9221"
            ],
            [
             1,
             "#276419"
            ]
           ],
           "sequential": [
            [
             0,
             "#0d0887"
            ],
            [
             0.1111111111111111,
             "#46039f"
            ],
            [
             0.2222222222222222,
             "#7201a8"
            ],
            [
             0.3333333333333333,
             "#9c179e"
            ],
            [
             0.4444444444444444,
             "#bd3786"
            ],
            [
             0.5555555555555556,
             "#d8576b"
            ],
            [
             0.6666666666666666,
             "#ed7953"
            ],
            [
             0.7777777777777778,
             "#fb9f3a"
            ],
            [
             0.8888888888888888,
             "#fdca26"
            ],
            [
             1,
             "#f0f921"
            ]
           ],
           "sequentialminus": [
            [
             0,
             "#0d0887"
            ],
            [
             0.1111111111111111,
             "#46039f"
            ],
            [
             0.2222222222222222,
             "#7201a8"
            ],
            [
             0.3333333333333333,
             "#9c179e"
            ],
            [
             0.4444444444444444,
             "#bd3786"
            ],
            [
             0.5555555555555556,
             "#d8576b"
            ],
            [
             0.6666666666666666,
             "#ed7953"
            ],
            [
             0.7777777777777778,
             "#fb9f3a"
            ],
            [
             0.8888888888888888,
             "#fdca26"
            ],
            [
             1,
             "#f0f921"
            ]
           ]
          },
          "colorway": [
           "#636efa",
           "#EF553B",
           "#00cc96",
           "#ab63fa",
           "#FFA15A",
           "#19d3f3",
           "#FF6692",
           "#B6E880",
           "#FF97FF",
           "#FECB52"
          ],
          "font": {
           "color": "#2a3f5f"
          },
          "geo": {
           "bgcolor": "white",
           "lakecolor": "white",
           "landcolor": "white",
           "showlakes": true,
           "showland": true,
           "subunitcolor": "#C8D4E3"
          },
          "hoverlabel": {
           "align": "left"
          },
          "hovermode": "closest",
          "mapbox": {
           "style": "light"
          },
          "paper_bgcolor": "white",
          "plot_bgcolor": "white",
          "polar": {
           "angularaxis": {
            "gridcolor": "#EBF0F8",
            "linecolor": "#EBF0F8",
            "ticks": ""
           },
           "bgcolor": "white",
           "radialaxis": {
            "gridcolor": "#EBF0F8",
            "linecolor": "#EBF0F8",
            "ticks": ""
           }
          },
          "scene": {
           "xaxis": {
            "backgroundcolor": "white",
            "gridcolor": "#DFE8F3",
            "gridwidth": 2,
            "linecolor": "#EBF0F8",
            "showbackground": true,
            "ticks": "",
            "zerolinecolor": "#EBF0F8"
           },
           "yaxis": {
            "backgroundcolor": "white",
            "gridcolor": "#DFE8F3",
            "gridwidth": 2,
            "linecolor": "#EBF0F8",
            "showbackground": true,
            "ticks": "",
            "zerolinecolor": "#EBF0F8"
           },
           "zaxis": {
            "backgroundcolor": "white",
            "gridcolor": "#DFE8F3",
            "gridwidth": 2,
            "linecolor": "#EBF0F8",
            "showbackground": true,
            "ticks": "",
            "zerolinecolor": "#EBF0F8"
           }
          },
          "shapedefaults": {
           "line": {
            "color": "#2a3f5f"
           }
          },
          "ternary": {
           "aaxis": {
            "gridcolor": "#DFE8F3",
            "linecolor": "#A2B1C6",
            "ticks": ""
           },
           "baxis": {
            "gridcolor": "#DFE8F3",
            "linecolor": "#A2B1C6",
            "ticks": ""
           },
           "bgcolor": "white",
           "caxis": {
            "gridcolor": "#DFE8F3",
            "linecolor": "#A2B1C6",
            "ticks": ""
           }
          },
          "title": {
           "x": 0.05
          },
          "xaxis": {
           "automargin": true,
           "gridcolor": "#EBF0F8",
           "linecolor": "#EBF0F8",
           "ticks": "",
           "title": {
            "standoff": 15
           },
           "zerolinecolor": "#EBF0F8",
           "zerolinewidth": 2
          },
          "yaxis": {
           "automargin": true,
           "gridcolor": "#EBF0F8",
           "linecolor": "#EBF0F8",
           "ticks": "",
           "title": {
            "standoff": 15
           },
           "zerolinecolor": "#EBF0F8",
           "zerolinewidth": 2
          }
         }
        },
        "title": {
         "text": "Distribution of Impressions"
        },
        "xaxis": {
         "anchor": "y",
         "domain": [
          0,
          1
         ],
         "title": {
          "text": "Impressions"
         }
        },
        "yaxis": {
         "anchor": "x",
         "domain": [
          0,
          1
         ],
         "title": {
          "text": "count"
         }
        }
       }
      }
     },
     "metadata": {},
     "output_type": "display_data"
    }
   ],
   "source": [
    "fig = px.histogram(df, \n",
    "                   x='Impressions', \n",
    "                   nbins=10, \n",
    "                   title='Distribution of Impressions')\n",
    "fig.show()"
   ]
  },
  {
   "cell_type": "markdown",
   "metadata": {},
   "source": [
    "Using the Plotly Express library to create a histogram plot of the 'Impressions' column from the 'df' DataFrame. \n",
    "The histogram will have 10 bins and a title 'Distribution of Impressions'. \n"
   ]
  },
  {
   "cell_type": "code",
   "execution_count": 36,
   "metadata": {},
   "outputs": [
    {
     "data": {
      "application/vnd.plotly.v1+json": {
       "config": {
        "plotlyServerURL": "https://plot.ly"
       },
       "data": [
        {
         "hovertemplate": "index=%{x}<br>Impressions=%{y}<extra></extra>",
         "legendgroup": "",
         "line": {
          "color": "#636efa",
          "dash": "solid"
         },
         "marker": {
          "symbol": "circle"
         },
         "mode": "lines",
         "name": "",
         "orientation": "v",
         "showlegend": false,
         "type": "scatter",
         "x": [
          0,
          1,
          2,
          3,
          4,
          5,
          6,
          7,
          8,
          9,
          10,
          11,
          12,
          13,
          14,
          15,
          16,
          17,
          18,
          19,
          20,
          21,
          22,
          23,
          24,
          25,
          26,
          27,
          28,
          29,
          30,
          31,
          32,
          33,
          34,
          35,
          36,
          37,
          38,
          39,
          40,
          41,
          42,
          43,
          44,
          45,
          46,
          47,
          48,
          49,
          50,
          51,
          52,
          53,
          54,
          55,
          56,
          57,
          58,
          59,
          60,
          61,
          62,
          63,
          64,
          65,
          66,
          67,
          68,
          69,
          70,
          71,
          72,
          73,
          74,
          75,
          76,
          77,
          78,
          79,
          80,
          81,
          82,
          83,
          84,
          85,
          86,
          87,
          88,
          89,
          90,
          91,
          92,
          93,
          94,
          95,
          96,
          97,
          98,
          99,
          100,
          101,
          102,
          103,
          104,
          105,
          106,
          107,
          108,
          109,
          110,
          111,
          112,
          113,
          114,
          115,
          116,
          117,
          118
         ],
         "xaxis": "x",
         "y": [
          3920,
          5394,
          4021,
          4528,
          2518,
          3884,
          2621,
          3541,
          3749,
          4115,
          2218,
          3234,
          4344,
          3216,
          9453,
          5055,
          4002,
          3169,
          6168,
          2407,
          2064,
          3973,
          7281,
          3052,
          4628,
          4082,
          5394,
          2766,
          3924,
          3015,
          6666,
          3854,
          4355,
          4343,
          6108,
          2523,
          2327,
          3990,
          2191,
          1941,
          16062,
          4998,
          4289,
          3880,
          3786,
          4298,
          3630,
          2826,
          7407,
          10386,
          2998,
          7018,
          2941,
          6432,
          10667,
          3988,
          4978,
          3388,
          4467,
          3246,
          5072,
          6339,
          4239,
          3454,
          7571,
          3333,
          3818,
          10933,
          5058,
          3601,
          3480,
          3525,
          3606,
          5542,
          6559,
          3623,
          10493,
          4446,
          2957,
          5538,
          4681,
          5273,
          5055,
          4002,
          3169,
          6168,
          2407,
          3630,
          2826,
          7407,
          10386,
          2998,
          3052,
          4628,
          4082,
          5394,
          2766,
          3924,
          3015,
          5409,
          5323,
          8001,
          4150,
          4609,
          6348,
          11068,
          7231,
          17396,
          6814,
          17713,
          5563,
          4842,
          11149,
          10206,
          13700,
          5731,
          4139,
          32695,
          36919
         ],
         "yaxis": "y"
        }
       ],
       "layout": {
        "legend": {
         "tracegroupgap": 0
        },
        "template": {
         "data": {
          "bar": [
           {
            "error_x": {
             "color": "#2a3f5f"
            },
            "error_y": {
             "color": "#2a3f5f"
            },
            "marker": {
             "line": {
              "color": "white",
              "width": 0.5
             },
             "pattern": {
              "fillmode": "overlay",
              "size": 10,
              "solidity": 0.2
             }
            },
            "type": "bar"
           }
          ],
          "barpolar": [
           {
            "marker": {
             "line": {
              "color": "white",
              "width": 0.5
             },
             "pattern": {
              "fillmode": "overlay",
              "size": 10,
              "solidity": 0.2
             }
            },
            "type": "barpolar"
           }
          ],
          "carpet": [
           {
            "aaxis": {
             "endlinecolor": "#2a3f5f",
             "gridcolor": "#C8D4E3",
             "linecolor": "#C8D4E3",
             "minorgridcolor": "#C8D4E3",
             "startlinecolor": "#2a3f5f"
            },
            "baxis": {
             "endlinecolor": "#2a3f5f",
             "gridcolor": "#C8D4E3",
             "linecolor": "#C8D4E3",
             "minorgridcolor": "#C8D4E3",
             "startlinecolor": "#2a3f5f"
            },
            "type": "carpet"
           }
          ],
          "choropleth": [
           {
            "colorbar": {
             "outlinewidth": 0,
             "ticks": ""
            },
            "type": "choropleth"
           }
          ],
          "contour": [
           {
            "colorbar": {
             "outlinewidth": 0,
             "ticks": ""
            },
            "colorscale": [
             [
              0,
              "#0d0887"
             ],
             [
              0.1111111111111111,
              "#46039f"
             ],
             [
              0.2222222222222222,
              "#7201a8"
             ],
             [
              0.3333333333333333,
              "#9c179e"
             ],
             [
              0.4444444444444444,
              "#bd3786"
             ],
             [
              0.5555555555555556,
              "#d8576b"
             ],
             [
              0.6666666666666666,
              "#ed7953"
             ],
             [
              0.7777777777777778,
              "#fb9f3a"
             ],
             [
              0.8888888888888888,
              "#fdca26"
             ],
             [
              1,
              "#f0f921"
             ]
            ],
            "type": "contour"
           }
          ],
          "contourcarpet": [
           {
            "colorbar": {
             "outlinewidth": 0,
             "ticks": ""
            },
            "type": "contourcarpet"
           }
          ],
          "heatmap": [
           {
            "colorbar": {
             "outlinewidth": 0,
             "ticks": ""
            },
            "colorscale": [
             [
              0,
              "#0d0887"
             ],
             [
              0.1111111111111111,
              "#46039f"
             ],
             [
              0.2222222222222222,
              "#7201a8"
             ],
             [
              0.3333333333333333,
              "#9c179e"
             ],
             [
              0.4444444444444444,
              "#bd3786"
             ],
             [
              0.5555555555555556,
              "#d8576b"
             ],
             [
              0.6666666666666666,
              "#ed7953"
             ],
             [
              0.7777777777777778,
              "#fb9f3a"
             ],
             [
              0.8888888888888888,
              "#fdca26"
             ],
             [
              1,
              "#f0f921"
             ]
            ],
            "type": "heatmap"
           }
          ],
          "heatmapgl": [
           {
            "colorbar": {
             "outlinewidth": 0,
             "ticks": ""
            },
            "colorscale": [
             [
              0,
              "#0d0887"
             ],
             [
              0.1111111111111111,
              "#46039f"
             ],
             [
              0.2222222222222222,
              "#7201a8"
             ],
             [
              0.3333333333333333,
              "#9c179e"
             ],
             [
              0.4444444444444444,
              "#bd3786"
             ],
             [
              0.5555555555555556,
              "#d8576b"
             ],
             [
              0.6666666666666666,
              "#ed7953"
             ],
             [
              0.7777777777777778,
              "#fb9f3a"
             ],
             [
              0.8888888888888888,
              "#fdca26"
             ],
             [
              1,
              "#f0f921"
             ]
            ],
            "type": "heatmapgl"
           }
          ],
          "histogram": [
           {
            "marker": {
             "pattern": {
              "fillmode": "overlay",
              "size": 10,
              "solidity": 0.2
             }
            },
            "type": "histogram"
           }
          ],
          "histogram2d": [
           {
            "colorbar": {
             "outlinewidth": 0,
             "ticks": ""
            },
            "colorscale": [
             [
              0,
              "#0d0887"
             ],
             [
              0.1111111111111111,
              "#46039f"
             ],
             [
              0.2222222222222222,
              "#7201a8"
             ],
             [
              0.3333333333333333,
              "#9c179e"
             ],
             [
              0.4444444444444444,
              "#bd3786"
             ],
             [
              0.5555555555555556,
              "#d8576b"
             ],
             [
              0.6666666666666666,
              "#ed7953"
             ],
             [
              0.7777777777777778,
              "#fb9f3a"
             ],
             [
              0.8888888888888888,
              "#fdca26"
             ],
             [
              1,
              "#f0f921"
             ]
            ],
            "type": "histogram2d"
           }
          ],
          "histogram2dcontour": [
           {
            "colorbar": {
             "outlinewidth": 0,
             "ticks": ""
            },
            "colorscale": [
             [
              0,
              "#0d0887"
             ],
             [
              0.1111111111111111,
              "#46039f"
             ],
             [
              0.2222222222222222,
              "#7201a8"
             ],
             [
              0.3333333333333333,
              "#9c179e"
             ],
             [
              0.4444444444444444,
              "#bd3786"
             ],
             [
              0.5555555555555556,
              "#d8576b"
             ],
             [
              0.6666666666666666,
              "#ed7953"
             ],
             [
              0.7777777777777778,
              "#fb9f3a"
             ],
             [
              0.8888888888888888,
              "#fdca26"
             ],
             [
              1,
              "#f0f921"
             ]
            ],
            "type": "histogram2dcontour"
           }
          ],
          "mesh3d": [
           {
            "colorbar": {
             "outlinewidth": 0,
             "ticks": ""
            },
            "type": "mesh3d"
           }
          ],
          "parcoords": [
           {
            "line": {
             "colorbar": {
              "outlinewidth": 0,
              "ticks": ""
             }
            },
            "type": "parcoords"
           }
          ],
          "pie": [
           {
            "automargin": true,
            "type": "pie"
           }
          ],
          "scatter": [
           {
            "fillpattern": {
             "fillmode": "overlay",
             "size": 10,
             "solidity": 0.2
            },
            "type": "scatter"
           }
          ],
          "scatter3d": [
           {
            "line": {
             "colorbar": {
              "outlinewidth": 0,
              "ticks": ""
             }
            },
            "marker": {
             "colorbar": {
              "outlinewidth": 0,
              "ticks": ""
             }
            },
            "type": "scatter3d"
           }
          ],
          "scattercarpet": [
           {
            "marker": {
             "colorbar": {
              "outlinewidth": 0,
              "ticks": ""
             }
            },
            "type": "scattercarpet"
           }
          ],
          "scattergeo": [
           {
            "marker": {
             "colorbar": {
              "outlinewidth": 0,
              "ticks": ""
             }
            },
            "type": "scattergeo"
           }
          ],
          "scattergl": [
           {
            "marker": {
             "colorbar": {
              "outlinewidth": 0,
              "ticks": ""
             }
            },
            "type": "scattergl"
           }
          ],
          "scattermapbox": [
           {
            "marker": {
             "colorbar": {
              "outlinewidth": 0,
              "ticks": ""
             }
            },
            "type": "scattermapbox"
           }
          ],
          "scatterpolar": [
           {
            "marker": {
             "colorbar": {
              "outlinewidth": 0,
              "ticks": ""
             }
            },
            "type": "scatterpolar"
           }
          ],
          "scatterpolargl": [
           {
            "marker": {
             "colorbar": {
              "outlinewidth": 0,
              "ticks": ""
             }
            },
            "type": "scatterpolargl"
           }
          ],
          "scatterternary": [
           {
            "marker": {
             "colorbar": {
              "outlinewidth": 0,
              "ticks": ""
             }
            },
            "type": "scatterternary"
           }
          ],
          "surface": [
           {
            "colorbar": {
             "outlinewidth": 0,
             "ticks": ""
            },
            "colorscale": [
             [
              0,
              "#0d0887"
             ],
             [
              0.1111111111111111,
              "#46039f"
             ],
             [
              0.2222222222222222,
              "#7201a8"
             ],
             [
              0.3333333333333333,
              "#9c179e"
             ],
             [
              0.4444444444444444,
              "#bd3786"
             ],
             [
              0.5555555555555556,
              "#d8576b"
             ],
             [
              0.6666666666666666,
              "#ed7953"
             ],
             [
              0.7777777777777778,
              "#fb9f3a"
             ],
             [
              0.8888888888888888,
              "#fdca26"
             ],
             [
              1,
              "#f0f921"
             ]
            ],
            "type": "surface"
           }
          ],
          "table": [
           {
            "cells": {
             "fill": {
              "color": "#EBF0F8"
             },
             "line": {
              "color": "white"
             }
            },
            "header": {
             "fill": {
              "color": "#C8D4E3"
             },
             "line": {
              "color": "white"
             }
            },
            "type": "table"
           }
          ]
         },
         "layout": {
          "annotationdefaults": {
           "arrowcolor": "#2a3f5f",
           "arrowhead": 0,
           "arrowwidth": 1
          },
          "autotypenumbers": "strict",
          "coloraxis": {
           "colorbar": {
            "outlinewidth": 0,
            "ticks": ""
           }
          },
          "colorscale": {
           "diverging": [
            [
             0,
             "#8e0152"
            ],
            [
             0.1,
             "#c51b7d"
            ],
            [
             0.2,
             "#de77ae"
            ],
            [
             0.3,
             "#f1b6da"
            ],
            [
             0.4,
             "#fde0ef"
            ],
            [
             0.5,
             "#f7f7f7"
            ],
            [
             0.6,
             "#e6f5d0"
            ],
            [
             0.7,
             "#b8e186"
            ],
            [
             0.8,
             "#7fbc41"
            ],
            [
             0.9,
             "#4d9221"
            ],
            [
             1,
             "#276419"
            ]
           ],
           "sequential": [
            [
             0,
             "#0d0887"
            ],
            [
             0.1111111111111111,
             "#46039f"
            ],
            [
             0.2222222222222222,
             "#7201a8"
            ],
            [
             0.3333333333333333,
             "#9c179e"
            ],
            [
             0.4444444444444444,
             "#bd3786"
            ],
            [
             0.5555555555555556,
             "#d8576b"
            ],
            [
             0.6666666666666666,
             "#ed7953"
            ],
            [
             0.7777777777777778,
             "#fb9f3a"
            ],
            [
             0.8888888888888888,
             "#fdca26"
            ],
            [
             1,
             "#f0f921"
            ]
           ],
           "sequentialminus": [
            [
             0,
             "#0d0887"
            ],
            [
             0.1111111111111111,
             "#46039f"
            ],
            [
             0.2222222222222222,
             "#7201a8"
            ],
            [
             0.3333333333333333,
             "#9c179e"
            ],
            [
             0.4444444444444444,
             "#bd3786"
            ],
            [
             0.5555555555555556,
             "#d8576b"
            ],
            [
             0.6666666666666666,
             "#ed7953"
            ],
            [
             0.7777777777777778,
             "#fb9f3a"
            ],
            [
             0.8888888888888888,
             "#fdca26"
            ],
            [
             1,
             "#f0f921"
            ]
           ]
          },
          "colorway": [
           "#636efa",
           "#EF553B",
           "#00cc96",
           "#ab63fa",
           "#FFA15A",
           "#19d3f3",
           "#FF6692",
           "#B6E880",
           "#FF97FF",
           "#FECB52"
          ],
          "font": {
           "color": "#2a3f5f"
          },
          "geo": {
           "bgcolor": "white",
           "lakecolor": "white",
           "landcolor": "white",
           "showlakes": true,
           "showland": true,
           "subunitcolor": "#C8D4E3"
          },
          "hoverlabel": {
           "align": "left"
          },
          "hovermode": "closest",
          "mapbox": {
           "style": "light"
          },
          "paper_bgcolor": "white",
          "plot_bgcolor": "white",
          "polar": {
           "angularaxis": {
            "gridcolor": "#EBF0F8",
            "linecolor": "#EBF0F8",
            "ticks": ""
           },
           "bgcolor": "white",
           "radialaxis": {
            "gridcolor": "#EBF0F8",
            "linecolor": "#EBF0F8",
            "ticks": ""
           }
          },
          "scene": {
           "xaxis": {
            "backgroundcolor": "white",
            "gridcolor": "#DFE8F3",
            "gridwidth": 2,
            "linecolor": "#EBF0F8",
            "showbackground": true,
            "ticks": "",
            "zerolinecolor": "#EBF0F8"
           },
           "yaxis": {
            "backgroundcolor": "white",
            "gridcolor": "#DFE8F3",
            "gridwidth": 2,
            "linecolor": "#EBF0F8",
            "showbackground": true,
            "ticks": "",
            "zerolinecolor": "#EBF0F8"
           },
           "zaxis": {
            "backgroundcolor": "white",
            "gridcolor": "#DFE8F3",
            "gridwidth": 2,
            "linecolor": "#EBF0F8",
            "showbackground": true,
            "ticks": "",
            "zerolinecolor": "#EBF0F8"
           }
          },
          "shapedefaults": {
           "line": {
            "color": "#2a3f5f"
           }
          },
          "ternary": {
           "aaxis": {
            "gridcolor": "#DFE8F3",
            "linecolor": "#A2B1C6",
            "ticks": ""
           },
           "baxis": {
            "gridcolor": "#DFE8F3",
            "linecolor": "#A2B1C6",
            "ticks": ""
           },
           "bgcolor": "white",
           "caxis": {
            "gridcolor": "#DFE8F3",
            "linecolor": "#A2B1C6",
            "ticks": ""
           }
          },
          "title": {
           "x": 0.05
          },
          "xaxis": {
           "automargin": true,
           "gridcolor": "#EBF0F8",
           "linecolor": "#EBF0F8",
           "ticks": "",
           "title": {
            "standoff": 15
           },
           "zerolinecolor": "#EBF0F8",
           "zerolinewidth": 2
          },
          "yaxis": {
           "automargin": true,
           "gridcolor": "#EBF0F8",
           "linecolor": "#EBF0F8",
           "ticks": "",
           "title": {
            "standoff": 15
           },
           "zerolinecolor": "#EBF0F8",
           "zerolinewidth": 2
          }
         }
        },
        "title": {
         "text": "Impressions Over Time"
        },
        "xaxis": {
         "anchor": "y",
         "domain": [
          0,
          1
         ],
         "title": {
          "text": "index"
         }
        },
        "yaxis": {
         "anchor": "x",
         "domain": [
          0,
          1
         ],
         "title": {
          "text": "Impressions"
         }
        }
       }
      }
     },
     "metadata": {},
     "output_type": "display_data"
    }
   ],
   "source": [
    "#the number of impressions on each post over time\n",
    "\n",
    "fig = px.line(df, x= df.index, \n",
    "              y='Impressions', \n",
    "              title='Impressions Over Time')\n",
    "fig.show()"
   ]
  },
  {
   "cell_type": "code",
   "execution_count": 37,
   "metadata": {},
   "outputs": [
    {
     "data": {
      "application/vnd.plotly.v1+json": {
       "config": {
        "plotlyServerURL": "https://plot.ly"
       },
       "data": [
        {
         "name": "Likes",
         "type": "scatter",
         "x": [
          0,
          1,
          2,
          3,
          4,
          5,
          6,
          7,
          8,
          9,
          10,
          11,
          12,
          13,
          14,
          15,
          16,
          17,
          18,
          19,
          20,
          21,
          22,
          23,
          24,
          25,
          26,
          27,
          28,
          29,
          30,
          31,
          32,
          33,
          34,
          35,
          36,
          37,
          38,
          39,
          40,
          41,
          42,
          43,
          44,
          45,
          46,
          47,
          48,
          49,
          50,
          51,
          52,
          53,
          54,
          55,
          56,
          57,
          58,
          59,
          60,
          61,
          62,
          63,
          64,
          65,
          66,
          67,
          68,
          69,
          70,
          71,
          72,
          73,
          74,
          75,
          76,
          77,
          78,
          79,
          80,
          81,
          82,
          83,
          84,
          85,
          86,
          87,
          88,
          89,
          90,
          91,
          92,
          93,
          94,
          95,
          96,
          97,
          98,
          99,
          100,
          101,
          102,
          103,
          104,
          105,
          106,
          107,
          108,
          109,
          110,
          111,
          112,
          113,
          114,
          115,
          116,
          117,
          118
         ],
         "y": [
          162,
          224,
          131,
          213,
          123,
          144,
          76,
          124,
          159,
          191,
          81,
          151,
          162,
          142,
          294,
          159,
          205,
          121,
          151,
          72,
          76,
          91,
          195,
          129,
          160,
          175,
          147,
          114,
          151,
          92,
          214,
          150,
          122,
          152,
          196,
          86,
          85,
          156,
          72,
          82,
          416,
          180,
          150,
          127,
          167,
          225,
          137,
          114,
          263,
          328,
          126,
          236,
          99,
          212,
          297,
          142,
          186,
          112,
          149,
          132,
          115,
          248,
          178,
          107,
          269,
          96,
          134,
          301,
          187,
          94,
          114,
          96,
          138,
          122,
          257,
          95,
          244,
          190,
          118,
          178,
          170,
          250,
          159,
          205,
          121,
          151,
          72,
          137,
          114,
          263,
          328,
          126,
          129,
          160,
          175,
          147,
          114,
          151,
          92,
          275,
          192,
          203,
          145,
          168,
          194,
          250,
          171,
          416,
          249,
          308,
          163,
          86,
          210,
          172,
          373,
          148,
          92,
          549,
          443
         ]
        },
        {
         "name": "Saves",
         "type": "scatter",
         "x": [
          0,
          1,
          2,
          3,
          4,
          5,
          6,
          7,
          8,
          9,
          10,
          11,
          12,
          13,
          14,
          15,
          16,
          17,
          18,
          19,
          20,
          21,
          22,
          23,
          24,
          25,
          26,
          27,
          28,
          29,
          30,
          31,
          32,
          33,
          34,
          35,
          36,
          37,
          38,
          39,
          40,
          41,
          42,
          43,
          44,
          45,
          46,
          47,
          48,
          49,
          50,
          51,
          52,
          53,
          54,
          55,
          56,
          57,
          58,
          59,
          60,
          61,
          62,
          63,
          64,
          65,
          66,
          67,
          68,
          69,
          70,
          71,
          72,
          73,
          74,
          75,
          76,
          77,
          78,
          79,
          80,
          81,
          82,
          83,
          84,
          85,
          86,
          87,
          88,
          89,
          90,
          91,
          92,
          93,
          94,
          95,
          96,
          97,
          98,
          99,
          100,
          101,
          102,
          103,
          104,
          105,
          106,
          107,
          108,
          109,
          110,
          111,
          112,
          113,
          114,
          115,
          116,
          117,
          118
         ],
         "y": [
          98,
          194,
          41,
          172,
          96,
          74,
          22,
          135,
          155,
          122,
          28,
          122,
          119,
          121,
          100,
          101,
          111,
          106,
          82,
          40,
          49,
          72,
          167,
          63,
          144,
          135,
          61,
          40,
          139,
          52,
          84,
          81,
          79,
          105,
          90,
          34,
          45,
          98,
          35,
          49,
          252,
          167,
          111,
          90,
          144,
          263,
          137,
          67,
          288,
          668,
          42,
          342,
          48,
          250,
          219,
          118,
          143,
          99,
          89,
          148,
          42,
          171,
          109,
          38,
          421,
          38,
          116,
          225,
          144,
          51,
          104,
          33,
          174,
          46,
          179,
          34,
          99,
          174,
          70,
          149,
          207,
          318,
          101,
          111,
          106,
          82,
          40,
          137,
          67,
          288,
          668,
          42,
          63,
          144,
          135,
          61,
          40,
          139,
          52,
          393,
          152,
          83,
          74,
          94,
          188,
          214,
          73,
          285,
          469,
          504,
          149,
          55,
          273,
          182,
          573,
          135,
          36,
          1095,
          653
         ]
        },
        {
         "name": "Follows",
         "type": "scatter",
         "x": [
          0,
          1,
          2,
          3,
          4,
          5,
          6,
          7,
          8,
          9,
          10,
          11,
          12,
          13,
          14,
          15,
          16,
          17,
          18,
          19,
          20,
          21,
          22,
          23,
          24,
          25,
          26,
          27,
          28,
          29,
          30,
          31,
          32,
          33,
          34,
          35,
          36,
          37,
          38,
          39,
          40,
          41,
          42,
          43,
          44,
          45,
          46,
          47,
          48,
          49,
          50,
          51,
          52,
          53,
          54,
          55,
          56,
          57,
          58,
          59,
          60,
          61,
          62,
          63,
          64,
          65,
          66,
          67,
          68,
          69,
          70,
          71,
          72,
          73,
          74,
          75,
          76,
          77,
          78,
          79,
          80,
          81,
          82,
          83,
          84,
          85,
          86,
          87,
          88,
          89,
          90,
          91,
          92,
          93,
          94,
          95,
          96,
          97,
          98,
          99,
          100,
          101,
          102,
          103,
          104,
          105,
          106,
          107,
          108,
          109,
          110,
          111,
          112,
          113,
          114,
          115,
          116,
          117,
          118
         ],
         "y": [
          2,
          10,
          12,
          8,
          0,
          2,
          0,
          6,
          4,
          6,
          4,
          0,
          2,
          4,
          42,
          6,
          2,
          2,
          30,
          0,
          0,
          24,
          100,
          2,
          4,
          6,
          6,
          6,
          2,
          2,
          20,
          2,
          4,
          8,
          26,
          2,
          2,
          4,
          0,
          2,
          94,
          8,
          18,
          10,
          4,
          4,
          4,
          4,
          18,
          38,
          10,
          12,
          4,
          4,
          74,
          0,
          6,
          6,
          0,
          6,
          12,
          10,
          8,
          8,
          46,
          12,
          10,
          94,
          6,
          10,
          6,
          4,
          12,
          16,
          12,
          8,
          32,
          8,
          16,
          6,
          10,
          10,
          6,
          2,
          2,
          30,
          0,
          4,
          4,
          18,
          38,
          10,
          2,
          4,
          6,
          6,
          6,
          2,
          2,
          14,
          8,
          14,
          28,
          18,
          12,
          34,
          26,
          260,
          16,
          96,
          20,
          30,
          58,
          100,
          80,
          18,
          10,
          214,
          228
         ]
        }
       ],
       "layout": {
        "template": {
         "data": {
          "bar": [
           {
            "error_x": {
             "color": "#2a3f5f"
            },
            "error_y": {
             "color": "#2a3f5f"
            },
            "marker": {
             "line": {
              "color": "white",
              "width": 0.5
             },
             "pattern": {
              "fillmode": "overlay",
              "size": 10,
              "solidity": 0.2
             }
            },
            "type": "bar"
           }
          ],
          "barpolar": [
           {
            "marker": {
             "line": {
              "color": "white",
              "width": 0.5
             },
             "pattern": {
              "fillmode": "overlay",
              "size": 10,
              "solidity": 0.2
             }
            },
            "type": "barpolar"
           }
          ],
          "carpet": [
           {
            "aaxis": {
             "endlinecolor": "#2a3f5f",
             "gridcolor": "#C8D4E3",
             "linecolor": "#C8D4E3",
             "minorgridcolor": "#C8D4E3",
             "startlinecolor": "#2a3f5f"
            },
            "baxis": {
             "endlinecolor": "#2a3f5f",
             "gridcolor": "#C8D4E3",
             "linecolor": "#C8D4E3",
             "minorgridcolor": "#C8D4E3",
             "startlinecolor": "#2a3f5f"
            },
            "type": "carpet"
           }
          ],
          "choropleth": [
           {
            "colorbar": {
             "outlinewidth": 0,
             "ticks": ""
            },
            "type": "choropleth"
           }
          ],
          "contour": [
           {
            "colorbar": {
             "outlinewidth": 0,
             "ticks": ""
            },
            "colorscale": [
             [
              0,
              "#0d0887"
             ],
             [
              0.1111111111111111,
              "#46039f"
             ],
             [
              0.2222222222222222,
              "#7201a8"
             ],
             [
              0.3333333333333333,
              "#9c179e"
             ],
             [
              0.4444444444444444,
              "#bd3786"
             ],
             [
              0.5555555555555556,
              "#d8576b"
             ],
             [
              0.6666666666666666,
              "#ed7953"
             ],
             [
              0.7777777777777778,
              "#fb9f3a"
             ],
             [
              0.8888888888888888,
              "#fdca26"
             ],
             [
              1,
              "#f0f921"
             ]
            ],
            "type": "contour"
           }
          ],
          "contourcarpet": [
           {
            "colorbar": {
             "outlinewidth": 0,
             "ticks": ""
            },
            "type": "contourcarpet"
           }
          ],
          "heatmap": [
           {
            "colorbar": {
             "outlinewidth": 0,
             "ticks": ""
            },
            "colorscale": [
             [
              0,
              "#0d0887"
             ],
             [
              0.1111111111111111,
              "#46039f"
             ],
             [
              0.2222222222222222,
              "#7201a8"
             ],
             [
              0.3333333333333333,
              "#9c179e"
             ],
             [
              0.4444444444444444,
              "#bd3786"
             ],
             [
              0.5555555555555556,
              "#d8576b"
             ],
             [
              0.6666666666666666,
              "#ed7953"
             ],
             [
              0.7777777777777778,
              "#fb9f3a"
             ],
             [
              0.8888888888888888,
              "#fdca26"
             ],
             [
              1,
              "#f0f921"
             ]
            ],
            "type": "heatmap"
           }
          ],
          "heatmapgl": [
           {
            "colorbar": {
             "outlinewidth": 0,
             "ticks": ""
            },
            "colorscale": [
             [
              0,
              "#0d0887"
             ],
             [
              0.1111111111111111,
              "#46039f"
             ],
             [
              0.2222222222222222,
              "#7201a8"
             ],
             [
              0.3333333333333333,
              "#9c179e"
             ],
             [
              0.4444444444444444,
              "#bd3786"
             ],
             [
              0.5555555555555556,
              "#d8576b"
             ],
             [
              0.6666666666666666,
              "#ed7953"
             ],
             [
              0.7777777777777778,
              "#fb9f3a"
             ],
             [
              0.8888888888888888,
              "#fdca26"
             ],
             [
              1,
              "#f0f921"
             ]
            ],
            "type": "heatmapgl"
           }
          ],
          "histogram": [
           {
            "marker": {
             "pattern": {
              "fillmode": "overlay",
              "size": 10,
              "solidity": 0.2
             }
            },
            "type": "histogram"
           }
          ],
          "histogram2d": [
           {
            "colorbar": {
             "outlinewidth": 0,
             "ticks": ""
            },
            "colorscale": [
             [
              0,
              "#0d0887"
             ],
             [
              0.1111111111111111,
              "#46039f"
             ],
             [
              0.2222222222222222,
              "#7201a8"
             ],
             [
              0.3333333333333333,
              "#9c179e"
             ],
             [
              0.4444444444444444,
              "#bd3786"
             ],
             [
              0.5555555555555556,
              "#d8576b"
             ],
             [
              0.6666666666666666,
              "#ed7953"
             ],
             [
              0.7777777777777778,
              "#fb9f3a"
             ],
             [
              0.8888888888888888,
              "#fdca26"
             ],
             [
              1,
              "#f0f921"
             ]
            ],
            "type": "histogram2d"
           }
          ],
          "histogram2dcontour": [
           {
            "colorbar": {
             "outlinewidth": 0,
             "ticks": ""
            },
            "colorscale": [
             [
              0,
              "#0d0887"
             ],
             [
              0.1111111111111111,
              "#46039f"
             ],
             [
              0.2222222222222222,
              "#7201a8"
             ],
             [
              0.3333333333333333,
              "#9c179e"
             ],
             [
              0.4444444444444444,
              "#bd3786"
             ],
             [
              0.5555555555555556,
              "#d8576b"
             ],
             [
              0.6666666666666666,
              "#ed7953"
             ],
             [
              0.7777777777777778,
              "#fb9f3a"
             ],
             [
              0.8888888888888888,
              "#fdca26"
             ],
             [
              1,
              "#f0f921"
             ]
            ],
            "type": "histogram2dcontour"
           }
          ],
          "mesh3d": [
           {
            "colorbar": {
             "outlinewidth": 0,
             "ticks": ""
            },
            "type": "mesh3d"
           }
          ],
          "parcoords": [
           {
            "line": {
             "colorbar": {
              "outlinewidth": 0,
              "ticks": ""
             }
            },
            "type": "parcoords"
           }
          ],
          "pie": [
           {
            "automargin": true,
            "type": "pie"
           }
          ],
          "scatter": [
           {
            "fillpattern": {
             "fillmode": "overlay",
             "size": 10,
             "solidity": 0.2
            },
            "type": "scatter"
           }
          ],
          "scatter3d": [
           {
            "line": {
             "colorbar": {
              "outlinewidth": 0,
              "ticks": ""
             }
            },
            "marker": {
             "colorbar": {
              "outlinewidth": 0,
              "ticks": ""
             }
            },
            "type": "scatter3d"
           }
          ],
          "scattercarpet": [
           {
            "marker": {
             "colorbar": {
              "outlinewidth": 0,
              "ticks": ""
             }
            },
            "type": "scattercarpet"
           }
          ],
          "scattergeo": [
           {
            "marker": {
             "colorbar": {
              "outlinewidth": 0,
              "ticks": ""
             }
            },
            "type": "scattergeo"
           }
          ],
          "scattergl": [
           {
            "marker": {
             "colorbar": {
              "outlinewidth": 0,
              "ticks": ""
             }
            },
            "type": "scattergl"
           }
          ],
          "scattermapbox": [
           {
            "marker": {
             "colorbar": {
              "outlinewidth": 0,
              "ticks": ""
             }
            },
            "type": "scattermapbox"
           }
          ],
          "scatterpolar": [
           {
            "marker": {
             "colorbar": {
              "outlinewidth": 0,
              "ticks": ""
             }
            },
            "type": "scatterpolar"
           }
          ],
          "scatterpolargl": [
           {
            "marker": {
             "colorbar": {
              "outlinewidth": 0,
              "ticks": ""
             }
            },
            "type": "scatterpolargl"
           }
          ],
          "scatterternary": [
           {
            "marker": {
             "colorbar": {
              "outlinewidth": 0,
              "ticks": ""
             }
            },
            "type": "scatterternary"
           }
          ],
          "surface": [
           {
            "colorbar": {
             "outlinewidth": 0,
             "ticks": ""
            },
            "colorscale": [
             [
              0,
              "#0d0887"
             ],
             [
              0.1111111111111111,
              "#46039f"
             ],
             [
              0.2222222222222222,
              "#7201a8"
             ],
             [
              0.3333333333333333,
              "#9c179e"
             ],
             [
              0.4444444444444444,
              "#bd3786"
             ],
             [
              0.5555555555555556,
              "#d8576b"
             ],
             [
              0.6666666666666666,
              "#ed7953"
             ],
             [
              0.7777777777777778,
              "#fb9f3a"
             ],
             [
              0.8888888888888888,
              "#fdca26"
             ],
             [
              1,
              "#f0f921"
             ]
            ],
            "type": "surface"
           }
          ],
          "table": [
           {
            "cells": {
             "fill": {
              "color": "#EBF0F8"
             },
             "line": {
              "color": "white"
             }
            },
            "header": {
             "fill": {
              "color": "#C8D4E3"
             },
             "line": {
              "color": "white"
             }
            },
            "type": "table"
           }
          ]
         },
         "layout": {
          "annotationdefaults": {
           "arrowcolor": "#2a3f5f",
           "arrowhead": 0,
           "arrowwidth": 1
          },
          "autotypenumbers": "strict",
          "coloraxis": {
           "colorbar": {
            "outlinewidth": 0,
            "ticks": ""
           }
          },
          "colorscale": {
           "diverging": [
            [
             0,
             "#8e0152"
            ],
            [
             0.1,
             "#c51b7d"
            ],
            [
             0.2,
             "#de77ae"
            ],
            [
             0.3,
             "#f1b6da"
            ],
            [
             0.4,
             "#fde0ef"
            ],
            [
             0.5,
             "#f7f7f7"
            ],
            [
             0.6,
             "#e6f5d0"
            ],
            [
             0.7,
             "#b8e186"
            ],
            [
             0.8,
             "#7fbc41"
            ],
            [
             0.9,
             "#4d9221"
            ],
            [
             1,
             "#276419"
            ]
           ],
           "sequential": [
            [
             0,
             "#0d0887"
            ],
            [
             0.1111111111111111,
             "#46039f"
            ],
            [
             0.2222222222222222,
             "#7201a8"
            ],
            [
             0.3333333333333333,
             "#9c179e"
            ],
            [
             0.4444444444444444,
             "#bd3786"
            ],
            [
             0.5555555555555556,
             "#d8576b"
            ],
            [
             0.6666666666666666,
             "#ed7953"
            ],
            [
             0.7777777777777778,
             "#fb9f3a"
            ],
            [
             0.8888888888888888,
             "#fdca26"
            ],
            [
             1,
             "#f0f921"
            ]
           ],
           "sequentialminus": [
            [
             0,
             "#0d0887"
            ],
            [
             0.1111111111111111,
             "#46039f"
            ],
            [
             0.2222222222222222,
             "#7201a8"
            ],
            [
             0.3333333333333333,
             "#9c179e"
            ],
            [
             0.4444444444444444,
             "#bd3786"
            ],
            [
             0.5555555555555556,
             "#d8576b"
            ],
            [
             0.6666666666666666,
             "#ed7953"
            ],
            [
             0.7777777777777778,
             "#fb9f3a"
            ],
            [
             0.8888888888888888,
             "#fdca26"
            ],
            [
             1,
             "#f0f921"
            ]
           ]
          },
          "colorway": [
           "#636efa",
           "#EF553B",
           "#00cc96",
           "#ab63fa",
           "#FFA15A",
           "#19d3f3",
           "#FF6692",
           "#B6E880",
           "#FF97FF",
           "#FECB52"
          ],
          "font": {
           "color": "#2a3f5f"
          },
          "geo": {
           "bgcolor": "white",
           "lakecolor": "white",
           "landcolor": "white",
           "showlakes": true,
           "showland": true,
           "subunitcolor": "#C8D4E3"
          },
          "hoverlabel": {
           "align": "left"
          },
          "hovermode": "closest",
          "mapbox": {
           "style": "light"
          },
          "paper_bgcolor": "white",
          "plot_bgcolor": "white",
          "polar": {
           "angularaxis": {
            "gridcolor": "#EBF0F8",
            "linecolor": "#EBF0F8",
            "ticks": ""
           },
           "bgcolor": "white",
           "radialaxis": {
            "gridcolor": "#EBF0F8",
            "linecolor": "#EBF0F8",
            "ticks": ""
           }
          },
          "scene": {
           "xaxis": {
            "backgroundcolor": "white",
            "gridcolor": "#DFE8F3",
            "gridwidth": 2,
            "linecolor": "#EBF0F8",
            "showbackground": true,
            "ticks": "",
            "zerolinecolor": "#EBF0F8"
           },
           "yaxis": {
            "backgroundcolor": "white",
            "gridcolor": "#DFE8F3",
            "gridwidth": 2,
            "linecolor": "#EBF0F8",
            "showbackground": true,
            "ticks": "",
            "zerolinecolor": "#EBF0F8"
           },
           "zaxis": {
            "backgroundcolor": "white",
            "gridcolor": "#DFE8F3",
            "gridwidth": 2,
            "linecolor": "#EBF0F8",
            "showbackground": true,
            "ticks": "",
            "zerolinecolor": "#EBF0F8"
           }
          },
          "shapedefaults": {
           "line": {
            "color": "#2a3f5f"
           }
          },
          "ternary": {
           "aaxis": {
            "gridcolor": "#DFE8F3",
            "linecolor": "#A2B1C6",
            "ticks": ""
           },
           "baxis": {
            "gridcolor": "#DFE8F3",
            "linecolor": "#A2B1C6",
            "ticks": ""
           },
           "bgcolor": "white",
           "caxis": {
            "gridcolor": "#DFE8F3",
            "linecolor": "#A2B1C6",
            "ticks": ""
           }
          },
          "title": {
           "x": 0.05
          },
          "xaxis": {
           "automargin": true,
           "gridcolor": "#EBF0F8",
           "linecolor": "#EBF0F8",
           "ticks": "",
           "title": {
            "standoff": 15
           },
           "zerolinecolor": "#EBF0F8",
           "zerolinewidth": 2
          },
          "yaxis": {
           "automargin": true,
           "gridcolor": "#EBF0F8",
           "linecolor": "#EBF0F8",
           "ticks": "",
           "title": {
            "standoff": 15
           },
           "zerolinecolor": "#EBF0F8",
           "zerolinewidth": 2
          }
         }
        },
        "title": {
         "text": "Metrics Over Time"
        },
        "xaxis": {
         "title": {
          "text": "Date"
         }
        },
        "yaxis": {
         "title": {
          "text": "Count"
         }
        }
       }
      }
     },
     "metadata": {},
     "output_type": "display_data"
    }
   ],
   "source": [
    "#The metrics like Likes, Saves, and Follows from each post over time\n",
    "\n",
    "fig = go.Figure()\n",
    "\n",
    "fig.add_trace(go.Scatter(x=df.index, y=df['Likes'], name='Likes'))\n",
    "fig.add_trace(go.Scatter(x=df.index, y=df['Saves'], name='Saves'))\n",
    "fig.add_trace(go.Scatter(x=df.index, y=df['Follows'], name='Follows'))\n",
    "\n",
    "fig.update_layout(title='Metrics Over Time',\n",
    "                  xaxis_title='Date',\n",
    "                  yaxis_title='Count')\n",
    "\n",
    "fig.show()"
   ]
  },
  {
   "cell_type": "code",
   "execution_count": 38,
   "metadata": {},
   "outputs": [
    {
     "data": {
      "application/vnd.plotly.v1+json": {
       "config": {
        "plotlyServerURL": "https://plot.ly"
       },
       "data": [
        {
         "domain": {
          "x": [
           0,
           1
          ],
          "y": [
           0,
           1
          ]
         },
         "hovertemplate": "label=%{label}<br>value=%{value}<extra></extra>",
         "labels": [
          "From Home",
          "From Hashtags",
          "From Explore",
          "From Other"
         ],
         "legendgroup": "",
         "name": "",
         "showlegend": true,
         "type": "pie",
         "values": [
          294619,
          224614,
          128294,
          20360
         ]
        }
       ],
       "layout": {
        "legend": {
         "tracegroupgap": 0
        },
        "piecolorway": [
         "#FFB6C1",
         "#87CEFA",
         "#90EE90",
         "#FFDAB9"
        ],
        "template": {
         "data": {
          "bar": [
           {
            "error_x": {
             "color": "#2a3f5f"
            },
            "error_y": {
             "color": "#2a3f5f"
            },
            "marker": {
             "line": {
              "color": "white",
              "width": 0.5
             },
             "pattern": {
              "fillmode": "overlay",
              "size": 10,
              "solidity": 0.2
             }
            },
            "type": "bar"
           }
          ],
          "barpolar": [
           {
            "marker": {
             "line": {
              "color": "white",
              "width": 0.5
             },
             "pattern": {
              "fillmode": "overlay",
              "size": 10,
              "solidity": 0.2
             }
            },
            "type": "barpolar"
           }
          ],
          "carpet": [
           {
            "aaxis": {
             "endlinecolor": "#2a3f5f",
             "gridcolor": "#C8D4E3",
             "linecolor": "#C8D4E3",
             "minorgridcolor": "#C8D4E3",
             "startlinecolor": "#2a3f5f"
            },
            "baxis": {
             "endlinecolor": "#2a3f5f",
             "gridcolor": "#C8D4E3",
             "linecolor": "#C8D4E3",
             "minorgridcolor": "#C8D4E3",
             "startlinecolor": "#2a3f5f"
            },
            "type": "carpet"
           }
          ],
          "choropleth": [
           {
            "colorbar": {
             "outlinewidth": 0,
             "ticks": ""
            },
            "type": "choropleth"
           }
          ],
          "contour": [
           {
            "colorbar": {
             "outlinewidth": 0,
             "ticks": ""
            },
            "colorscale": [
             [
              0,
              "#0d0887"
             ],
             [
              0.1111111111111111,
              "#46039f"
             ],
             [
              0.2222222222222222,
              "#7201a8"
             ],
             [
              0.3333333333333333,
              "#9c179e"
             ],
             [
              0.4444444444444444,
              "#bd3786"
             ],
             [
              0.5555555555555556,
              "#d8576b"
             ],
             [
              0.6666666666666666,
              "#ed7953"
             ],
             [
              0.7777777777777778,
              "#fb9f3a"
             ],
             [
              0.8888888888888888,
              "#fdca26"
             ],
             [
              1,
              "#f0f921"
             ]
            ],
            "type": "contour"
           }
          ],
          "contourcarpet": [
           {
            "colorbar": {
             "outlinewidth": 0,
             "ticks": ""
            },
            "type": "contourcarpet"
           }
          ],
          "heatmap": [
           {
            "colorbar": {
             "outlinewidth": 0,
             "ticks": ""
            },
            "colorscale": [
             [
              0,
              "#0d0887"
             ],
             [
              0.1111111111111111,
              "#46039f"
             ],
             [
              0.2222222222222222,
              "#7201a8"
             ],
             [
              0.3333333333333333,
              "#9c179e"
             ],
             [
              0.4444444444444444,
              "#bd3786"
             ],
             [
              0.5555555555555556,
              "#d8576b"
             ],
             [
              0.6666666666666666,
              "#ed7953"
             ],
             [
              0.7777777777777778,
              "#fb9f3a"
             ],
             [
              0.8888888888888888,
              "#fdca26"
             ],
             [
              1,
              "#f0f921"
             ]
            ],
            "type": "heatmap"
           }
          ],
          "heatmapgl": [
           {
            "colorbar": {
             "outlinewidth": 0,
             "ticks": ""
            },
            "colorscale": [
             [
              0,
              "#0d0887"
             ],
             [
              0.1111111111111111,
              "#46039f"
             ],
             [
              0.2222222222222222,
              "#7201a8"
             ],
             [
              0.3333333333333333,
              "#9c179e"
             ],
             [
              0.4444444444444444,
              "#bd3786"
             ],
             [
              0.5555555555555556,
              "#d8576b"
             ],
             [
              0.6666666666666666,
              "#ed7953"
             ],
             [
              0.7777777777777778,
              "#fb9f3a"
             ],
             [
              0.8888888888888888,
              "#fdca26"
             ],
             [
              1,
              "#f0f921"
             ]
            ],
            "type": "heatmapgl"
           }
          ],
          "histogram": [
           {
            "marker": {
             "pattern": {
              "fillmode": "overlay",
              "size": 10,
              "solidity": 0.2
             }
            },
            "type": "histogram"
           }
          ],
          "histogram2d": [
           {
            "colorbar": {
             "outlinewidth": 0,
             "ticks": ""
            },
            "colorscale": [
             [
              0,
              "#0d0887"
             ],
             [
              0.1111111111111111,
              "#46039f"
             ],
             [
              0.2222222222222222,
              "#7201a8"
             ],
             [
              0.3333333333333333,
              "#9c179e"
             ],
             [
              0.4444444444444444,
              "#bd3786"
             ],
             [
              0.5555555555555556,
              "#d8576b"
             ],
             [
              0.6666666666666666,
              "#ed7953"
             ],
             [
              0.7777777777777778,
              "#fb9f3a"
             ],
             [
              0.8888888888888888,
              "#fdca26"
             ],
             [
              1,
              "#f0f921"
             ]
            ],
            "type": "histogram2d"
           }
          ],
          "histogram2dcontour": [
           {
            "colorbar": {
             "outlinewidth": 0,
             "ticks": ""
            },
            "colorscale": [
             [
              0,
              "#0d0887"
             ],
             [
              0.1111111111111111,
              "#46039f"
             ],
             [
              0.2222222222222222,
              "#7201a8"
             ],
             [
              0.3333333333333333,
              "#9c179e"
             ],
             [
              0.4444444444444444,
              "#bd3786"
             ],
             [
              0.5555555555555556,
              "#d8576b"
             ],
             [
              0.6666666666666666,
              "#ed7953"
             ],
             [
              0.7777777777777778,
              "#fb9f3a"
             ],
             [
              0.8888888888888888,
              "#fdca26"
             ],
             [
              1,
              "#f0f921"
             ]
            ],
            "type": "histogram2dcontour"
           }
          ],
          "mesh3d": [
           {
            "colorbar": {
             "outlinewidth": 0,
             "ticks": ""
            },
            "type": "mesh3d"
           }
          ],
          "parcoords": [
           {
            "line": {
             "colorbar": {
              "outlinewidth": 0,
              "ticks": ""
             }
            },
            "type": "parcoords"
           }
          ],
          "pie": [
           {
            "automargin": true,
            "type": "pie"
           }
          ],
          "scatter": [
           {
            "fillpattern": {
             "fillmode": "overlay",
             "size": 10,
             "solidity": 0.2
            },
            "type": "scatter"
           }
          ],
          "scatter3d": [
           {
            "line": {
             "colorbar": {
              "outlinewidth": 0,
              "ticks": ""
             }
            },
            "marker": {
             "colorbar": {
              "outlinewidth": 0,
              "ticks": ""
             }
            },
            "type": "scatter3d"
           }
          ],
          "scattercarpet": [
           {
            "marker": {
             "colorbar": {
              "outlinewidth": 0,
              "ticks": ""
             }
            },
            "type": "scattercarpet"
           }
          ],
          "scattergeo": [
           {
            "marker": {
             "colorbar": {
              "outlinewidth": 0,
              "ticks": ""
             }
            },
            "type": "scattergeo"
           }
          ],
          "scattergl": [
           {
            "marker": {
             "colorbar": {
              "outlinewidth": 0,
              "ticks": ""
             }
            },
            "type": "scattergl"
           }
          ],
          "scattermapbox": [
           {
            "marker": {
             "colorbar": {
              "outlinewidth": 0,
              "ticks": ""
             }
            },
            "type": "scattermapbox"
           }
          ],
          "scatterpolar": [
           {
            "marker": {
             "colorbar": {
              "outlinewidth": 0,
              "ticks": ""
             }
            },
            "type": "scatterpolar"
           }
          ],
          "scatterpolargl": [
           {
            "marker": {
             "colorbar": {
              "outlinewidth": 0,
              "ticks": ""
             }
            },
            "type": "scatterpolargl"
           }
          ],
          "scatterternary": [
           {
            "marker": {
             "colorbar": {
              "outlinewidth": 0,
              "ticks": ""
             }
            },
            "type": "scatterternary"
           }
          ],
          "surface": [
           {
            "colorbar": {
             "outlinewidth": 0,
             "ticks": ""
            },
            "colorscale": [
             [
              0,
              "#0d0887"
             ],
             [
              0.1111111111111111,
              "#46039f"
             ],
             [
              0.2222222222222222,
              "#7201a8"
             ],
             [
              0.3333333333333333,
              "#9c179e"
             ],
             [
              0.4444444444444444,
              "#bd3786"
             ],
             [
              0.5555555555555556,
              "#d8576b"
             ],
             [
              0.6666666666666666,
              "#ed7953"
             ],
             [
              0.7777777777777778,
              "#fb9f3a"
             ],
             [
              0.8888888888888888,
              "#fdca26"
             ],
             [
              1,
              "#f0f921"
             ]
            ],
            "type": "surface"
           }
          ],
          "table": [
           {
            "cells": {
             "fill": {
              "color": "#EBF0F8"
             },
             "line": {
              "color": "white"
             }
            },
            "header": {
             "fill": {
              "color": "#C8D4E3"
             },
             "line": {
              "color": "white"
             }
            },
            "type": "table"
           }
          ]
         },
         "layout": {
          "annotationdefaults": {
           "arrowcolor": "#2a3f5f",
           "arrowhead": 0,
           "arrowwidth": 1
          },
          "autotypenumbers": "strict",
          "coloraxis": {
           "colorbar": {
            "outlinewidth": 0,
            "ticks": ""
           }
          },
          "colorscale": {
           "diverging": [
            [
             0,
             "#8e0152"
            ],
            [
             0.1,
             "#c51b7d"
            ],
            [
             0.2,
             "#de77ae"
            ],
            [
             0.3,
             "#f1b6da"
            ],
            [
             0.4,
             "#fde0ef"
            ],
            [
             0.5,
             "#f7f7f7"
            ],
            [
             0.6,
             "#e6f5d0"
            ],
            [
             0.7,
             "#b8e186"
            ],
            [
             0.8,
             "#7fbc41"
            ],
            [
             0.9,
             "#4d9221"
            ],
            [
             1,
             "#276419"
            ]
           ],
           "sequential": [
            [
             0,
             "#0d0887"
            ],
            [
             0.1111111111111111,
             "#46039f"
            ],
            [
             0.2222222222222222,
             "#7201a8"
            ],
            [
             0.3333333333333333,
             "#9c179e"
            ],
            [
             0.4444444444444444,
             "#bd3786"
            ],
            [
             0.5555555555555556,
             "#d8576b"
            ],
            [
             0.6666666666666666,
             "#ed7953"
            ],
            [
             0.7777777777777778,
             "#fb9f3a"
            ],
            [
             0.8888888888888888,
             "#fdca26"
            ],
            [
             1,
             "#f0f921"
            ]
           ],
           "sequentialminus": [
            [
             0,
             "#0d0887"
            ],
            [
             0.1111111111111111,
             "#46039f"
            ],
            [
             0.2222222222222222,
             "#7201a8"
            ],
            [
             0.3333333333333333,
             "#9c179e"
            ],
            [
             0.4444444444444444,
             "#bd3786"
            ],
            [
             0.5555555555555556,
             "#d8576b"
            ],
            [
             0.6666666666666666,
             "#ed7953"
            ],
            [
             0.7777777777777778,
             "#fb9f3a"
            ],
            [
             0.8888888888888888,
             "#fdca26"
            ],
            [
             1,
             "#f0f921"
            ]
           ]
          },
          "colorway": [
           "#636efa",
           "#EF553B",
           "#00cc96",
           "#ab63fa",
           "#FFA15A",
           "#19d3f3",
           "#FF6692",
           "#B6E880",
           "#FF97FF",
           "#FECB52"
          ],
          "font": {
           "color": "#2a3f5f"
          },
          "geo": {
           "bgcolor": "white",
           "lakecolor": "white",
           "landcolor": "white",
           "showlakes": true,
           "showland": true,
           "subunitcolor": "#C8D4E3"
          },
          "hoverlabel": {
           "align": "left"
          },
          "hovermode": "closest",
          "mapbox": {
           "style": "light"
          },
          "paper_bgcolor": "white",
          "plot_bgcolor": "white",
          "polar": {
           "angularaxis": {
            "gridcolor": "#EBF0F8",
            "linecolor": "#EBF0F8",
            "ticks": ""
           },
           "bgcolor": "white",
           "radialaxis": {
            "gridcolor": "#EBF0F8",
            "linecolor": "#EBF0F8",
            "ticks": ""
           }
          },
          "scene": {
           "xaxis": {
            "backgroundcolor": "white",
            "gridcolor": "#DFE8F3",
            "gridwidth": 2,
            "linecolor": "#EBF0F8",
            "showbackground": true,
            "ticks": "",
            "zerolinecolor": "#EBF0F8"
           },
           "yaxis": {
            "backgroundcolor": "white",
            "gridcolor": "#DFE8F3",
            "gridwidth": 2,
            "linecolor": "#EBF0F8",
            "showbackground": true,
            "ticks": "",
            "zerolinecolor": "#EBF0F8"
           },
           "zaxis": {
            "backgroundcolor": "white",
            "gridcolor": "#DFE8F3",
            "gridwidth": 2,
            "linecolor": "#EBF0F8",
            "showbackground": true,
            "ticks": "",
            "zerolinecolor": "#EBF0F8"
           }
          },
          "shapedefaults": {
           "line": {
            "color": "#2a3f5f"
           }
          },
          "ternary": {
           "aaxis": {
            "gridcolor": "#DFE8F3",
            "linecolor": "#A2B1C6",
            "ticks": ""
           },
           "baxis": {
            "gridcolor": "#DFE8F3",
            "linecolor": "#A2B1C6",
            "ticks": ""
           },
           "bgcolor": "white",
           "caxis": {
            "gridcolor": "#DFE8F3",
            "linecolor": "#A2B1C6",
            "ticks": ""
           }
          },
          "title": {
           "x": 0.05
          },
          "xaxis": {
           "automargin": true,
           "gridcolor": "#EBF0F8",
           "linecolor": "#EBF0F8",
           "ticks": "",
           "title": {
            "standoff": 15
           },
           "zerolinecolor": "#EBF0F8",
           "zerolinewidth": 2
          },
          "yaxis": {
           "automargin": true,
           "gridcolor": "#EBF0F8",
           "linecolor": "#EBF0F8",
           "ticks": "",
           "title": {
            "standoff": 15
           },
           "zerolinecolor": "#EBF0F8",
           "zerolinewidth": 2
          }
         }
        },
        "title": {
         "text": "Reach from Different Sources"
        }
       }
      }
     },
     "metadata": {},
     "output_type": "display_data"
    }
   ],
   "source": [
    "#the distribution of reach from different sources:\n",
    "\n",
    "reach_sources = ['From Home', 'From Hashtags', 'From Explore', 'From Other']\n",
    "reach_counts = [df[source].sum() for source in reach_sources]\n",
    "\n",
    "colors = ['#FFB6C1', '#87CEFA', '#90EE90', '#FFDAB9']\n",
    "\n",
    "fig = px.pie(data_frame=df, names=reach_sources, \n",
    "             values=reach_counts, \n",
    "             title='Reach from Different Sources',\n",
    "             color_discrete_sequence=colors)\n",
    "fig.show()\n"
   ]
  },
  {
   "cell_type": "code",
   "execution_count": 39,
   "metadata": {},
   "outputs": [
    {
     "data": {
      "application/vnd.plotly.v1+json": {
       "config": {
        "plotlyServerURL": "https://plot.ly"
       },
       "data": [
        {
         "domain": {
          "x": [
           0,
           1
          ],
          "y": [
           0,
           1
          ]
         },
         "hovertemplate": "label=%{label}<br>value=%{value}<extra></extra>",
         "labels": [
          "Saves",
          "Comments",
          "Shares",
          "Likes"
         ],
         "legendgroup": "",
         "name": "",
         "showlegend": true,
         "type": "pie",
         "values": [
          18244,
          793,
          1114,
          20680
         ]
        }
       ],
       "layout": {
        "legend": {
         "tracegroupgap": 0
        },
        "piecolorway": [
         "#FFB6C1",
         "#87CEFA",
         "#90EE90",
         "#FFDAB9"
        ],
        "template": {
         "data": {
          "bar": [
           {
            "error_x": {
             "color": "#2a3f5f"
            },
            "error_y": {
             "color": "#2a3f5f"
            },
            "marker": {
             "line": {
              "color": "white",
              "width": 0.5
             },
             "pattern": {
              "fillmode": "overlay",
              "size": 10,
              "solidity": 0.2
             }
            },
            "type": "bar"
           }
          ],
          "barpolar": [
           {
            "marker": {
             "line": {
              "color": "white",
              "width": 0.5
             },
             "pattern": {
              "fillmode": "overlay",
              "size": 10,
              "solidity": 0.2
             }
            },
            "type": "barpolar"
           }
          ],
          "carpet": [
           {
            "aaxis": {
             "endlinecolor": "#2a3f5f",
             "gridcolor": "#C8D4E3",
             "linecolor": "#C8D4E3",
             "minorgridcolor": "#C8D4E3",
             "startlinecolor": "#2a3f5f"
            },
            "baxis": {
             "endlinecolor": "#2a3f5f",
             "gridcolor": "#C8D4E3",
             "linecolor": "#C8D4E3",
             "minorgridcolor": "#C8D4E3",
             "startlinecolor": "#2a3f5f"
            },
            "type": "carpet"
           }
          ],
          "choropleth": [
           {
            "colorbar": {
             "outlinewidth": 0,
             "ticks": ""
            },
            "type": "choropleth"
           }
          ],
          "contour": [
           {
            "colorbar": {
             "outlinewidth": 0,
             "ticks": ""
            },
            "colorscale": [
             [
              0,
              "#0d0887"
             ],
             [
              0.1111111111111111,
              "#46039f"
             ],
             [
              0.2222222222222222,
              "#7201a8"
             ],
             [
              0.3333333333333333,
              "#9c179e"
             ],
             [
              0.4444444444444444,
              "#bd3786"
             ],
             [
              0.5555555555555556,
              "#d8576b"
             ],
             [
              0.6666666666666666,
              "#ed7953"
             ],
             [
              0.7777777777777778,
              "#fb9f3a"
             ],
             [
              0.8888888888888888,
              "#fdca26"
             ],
             [
              1,
              "#f0f921"
             ]
            ],
            "type": "contour"
           }
          ],
          "contourcarpet": [
           {
            "colorbar": {
             "outlinewidth": 0,
             "ticks": ""
            },
            "type": "contourcarpet"
           }
          ],
          "heatmap": [
           {
            "colorbar": {
             "outlinewidth": 0,
             "ticks": ""
            },
            "colorscale": [
             [
              0,
              "#0d0887"
             ],
             [
              0.1111111111111111,
              "#46039f"
             ],
             [
              0.2222222222222222,
              "#7201a8"
             ],
             [
              0.3333333333333333,
              "#9c179e"
             ],
             [
              0.4444444444444444,
              "#bd3786"
             ],
             [
              0.5555555555555556,
              "#d8576b"
             ],
             [
              0.6666666666666666,
              "#ed7953"
             ],
             [
              0.7777777777777778,
              "#fb9f3a"
             ],
             [
              0.8888888888888888,
              "#fdca26"
             ],
             [
              1,
              "#f0f921"
             ]
            ],
            "type": "heatmap"
           }
          ],
          "heatmapgl": [
           {
            "colorbar": {
             "outlinewidth": 0,
             "ticks": ""
            },
            "colorscale": [
             [
              0,
              "#0d0887"
             ],
             [
              0.1111111111111111,
              "#46039f"
             ],
             [
              0.2222222222222222,
              "#7201a8"
             ],
             [
              0.3333333333333333,
              "#9c179e"
             ],
             [
              0.4444444444444444,
              "#bd3786"
             ],
             [
              0.5555555555555556,
              "#d8576b"
             ],
             [
              0.6666666666666666,
              "#ed7953"
             ],
             [
              0.7777777777777778,
              "#fb9f3a"
             ],
             [
              0.8888888888888888,
              "#fdca26"
             ],
             [
              1,
              "#f0f921"
             ]
            ],
            "type": "heatmapgl"
           }
          ],
          "histogram": [
           {
            "marker": {
             "pattern": {
              "fillmode": "overlay",
              "size": 10,
              "solidity": 0.2
             }
            },
            "type": "histogram"
           }
          ],
          "histogram2d": [
           {
            "colorbar": {
             "outlinewidth": 0,
             "ticks": ""
            },
            "colorscale": [
             [
              0,
              "#0d0887"
             ],
             [
              0.1111111111111111,
              "#46039f"
             ],
             [
              0.2222222222222222,
              "#7201a8"
             ],
             [
              0.3333333333333333,
              "#9c179e"
             ],
             [
              0.4444444444444444,
              "#bd3786"
             ],
             [
              0.5555555555555556,
              "#d8576b"
             ],
             [
              0.6666666666666666,
              "#ed7953"
             ],
             [
              0.7777777777777778,
              "#fb9f3a"
             ],
             [
              0.8888888888888888,
              "#fdca26"
             ],
             [
              1,
              "#f0f921"
             ]
            ],
            "type": "histogram2d"
           }
          ],
          "histogram2dcontour": [
           {
            "colorbar": {
             "outlinewidth": 0,
             "ticks": ""
            },
            "colorscale": [
             [
              0,
              "#0d0887"
             ],
             [
              0.1111111111111111,
              "#46039f"
             ],
             [
              0.2222222222222222,
              "#7201a8"
             ],
             [
              0.3333333333333333,
              "#9c179e"
             ],
             [
              0.4444444444444444,
              "#bd3786"
             ],
             [
              0.5555555555555556,
              "#d8576b"
             ],
             [
              0.6666666666666666,
              "#ed7953"
             ],
             [
              0.7777777777777778,
              "#fb9f3a"
             ],
             [
              0.8888888888888888,
              "#fdca26"
             ],
             [
              1,
              "#f0f921"
             ]
            ],
            "type": "histogram2dcontour"
           }
          ],
          "mesh3d": [
           {
            "colorbar": {
             "outlinewidth": 0,
             "ticks": ""
            },
            "type": "mesh3d"
           }
          ],
          "parcoords": [
           {
            "line": {
             "colorbar": {
              "outlinewidth": 0,
              "ticks": ""
             }
            },
            "type": "parcoords"
           }
          ],
          "pie": [
           {
            "automargin": true,
            "type": "pie"
           }
          ],
          "scatter": [
           {
            "fillpattern": {
             "fillmode": "overlay",
             "size": 10,
             "solidity": 0.2
            },
            "type": "scatter"
           }
          ],
          "scatter3d": [
           {
            "line": {
             "colorbar": {
              "outlinewidth": 0,
              "ticks": ""
             }
            },
            "marker": {
             "colorbar": {
              "outlinewidth": 0,
              "ticks": ""
             }
            },
            "type": "scatter3d"
           }
          ],
          "scattercarpet": [
           {
            "marker": {
             "colorbar": {
              "outlinewidth": 0,
              "ticks": ""
             }
            },
            "type": "scattercarpet"
           }
          ],
          "scattergeo": [
           {
            "marker": {
             "colorbar": {
              "outlinewidth": 0,
              "ticks": ""
             }
            },
            "type": "scattergeo"
           }
          ],
          "scattergl": [
           {
            "marker": {
             "colorbar": {
              "outlinewidth": 0,
              "ticks": ""
             }
            },
            "type": "scattergl"
           }
          ],
          "scattermapbox": [
           {
            "marker": {
             "colorbar": {
              "outlinewidth": 0,
              "ticks": ""
             }
            },
            "type": "scattermapbox"
           }
          ],
          "scatterpolar": [
           {
            "marker": {
             "colorbar": {
              "outlinewidth": 0,
              "ticks": ""
             }
            },
            "type": "scatterpolar"
           }
          ],
          "scatterpolargl": [
           {
            "marker": {
             "colorbar": {
              "outlinewidth": 0,
              "ticks": ""
             }
            },
            "type": "scatterpolargl"
           }
          ],
          "scatterternary": [
           {
            "marker": {
             "colorbar": {
              "outlinewidth": 0,
              "ticks": ""
             }
            },
            "type": "scatterternary"
           }
          ],
          "surface": [
           {
            "colorbar": {
             "outlinewidth": 0,
             "ticks": ""
            },
            "colorscale": [
             [
              0,
              "#0d0887"
             ],
             [
              0.1111111111111111,
              "#46039f"
             ],
             [
              0.2222222222222222,
              "#7201a8"
             ],
             [
              0.3333333333333333,
              "#9c179e"
             ],
             [
              0.4444444444444444,
              "#bd3786"
             ],
             [
              0.5555555555555556,
              "#d8576b"
             ],
             [
              0.6666666666666666,
              "#ed7953"
             ],
             [
              0.7777777777777778,
              "#fb9f3a"
             ],
             [
              0.8888888888888888,
              "#fdca26"
             ],
             [
              1,
              "#f0f921"
             ]
            ],
            "type": "surface"
           }
          ],
          "table": [
           {
            "cells": {
             "fill": {
              "color": "#EBF0F8"
             },
             "line": {
              "color": "white"
             }
            },
            "header": {
             "fill": {
              "color": "#C8D4E3"
             },
             "line": {
              "color": "white"
             }
            },
            "type": "table"
           }
          ]
         },
         "layout": {
          "annotationdefaults": {
           "arrowcolor": "#2a3f5f",
           "arrowhead": 0,
           "arrowwidth": 1
          },
          "autotypenumbers": "strict",
          "coloraxis": {
           "colorbar": {
            "outlinewidth": 0,
            "ticks": ""
           }
          },
          "colorscale": {
           "diverging": [
            [
             0,
             "#8e0152"
            ],
            [
             0.1,
             "#c51b7d"
            ],
            [
             0.2,
             "#de77ae"
            ],
            [
             0.3,
             "#f1b6da"
            ],
            [
             0.4,
             "#fde0ef"
            ],
            [
             0.5,
             "#f7f7f7"
            ],
            [
             0.6,
             "#e6f5d0"
            ],
            [
             0.7,
             "#b8e186"
            ],
            [
             0.8,
             "#7fbc41"
            ],
            [
             0.9,
             "#4d9221"
            ],
            [
             1,
             "#276419"
            ]
           ],
           "sequential": [
            [
             0,
             "#0d0887"
            ],
            [
             0.1111111111111111,
             "#46039f"
            ],
            [
             0.2222222222222222,
             "#7201a8"
            ],
            [
             0.3333333333333333,
             "#9c179e"
            ],
            [
             0.4444444444444444,
             "#bd3786"
            ],
            [
             0.5555555555555556,
             "#d8576b"
            ],
            [
             0.6666666666666666,
             "#ed7953"
            ],
            [
             0.7777777777777778,
             "#fb9f3a"
            ],
            [
             0.8888888888888888,
             "#fdca26"
            ],
            [
             1,
             "#f0f921"
            ]
           ],
           "sequentialminus": [
            [
             0,
             "#0d0887"
            ],
            [
             0.1111111111111111,
             "#46039f"
            ],
            [
             0.2222222222222222,
             "#7201a8"
            ],
            [
             0.3333333333333333,
             "#9c179e"
            ],
            [
             0.4444444444444444,
             "#bd3786"
            ],
            [
             0.5555555555555556,
             "#d8576b"
            ],
            [
             0.6666666666666666,
             "#ed7953"
            ],
            [
             0.7777777777777778,
             "#fb9f3a"
            ],
            [
             0.8888888888888888,
             "#fdca26"
            ],
            [
             1,
             "#f0f921"
            ]
           ]
          },
          "colorway": [
           "#636efa",
           "#EF553B",
           "#00cc96",
           "#ab63fa",
           "#FFA15A",
           "#19d3f3",
           "#FF6692",
           "#B6E880",
           "#FF97FF",
           "#FECB52"
          ],
          "font": {
           "color": "#2a3f5f"
          },
          "geo": {
           "bgcolor": "white",
           "lakecolor": "white",
           "landcolor": "white",
           "showlakes": true,
           "showland": true,
           "subunitcolor": "#C8D4E3"
          },
          "hoverlabel": {
           "align": "left"
          },
          "hovermode": "closest",
          "mapbox": {
           "style": "light"
          },
          "paper_bgcolor": "white",
          "plot_bgcolor": "white",
          "polar": {
           "angularaxis": {
            "gridcolor": "#EBF0F8",
            "linecolor": "#EBF0F8",
            "ticks": ""
           },
           "bgcolor": "white",
           "radialaxis": {
            "gridcolor": "#EBF0F8",
            "linecolor": "#EBF0F8",
            "ticks": ""
           }
          },
          "scene": {
           "xaxis": {
            "backgroundcolor": "white",
            "gridcolor": "#DFE8F3",
            "gridwidth": 2,
            "linecolor": "#EBF0F8",
            "showbackground": true,
            "ticks": "",
            "zerolinecolor": "#EBF0F8"
           },
           "yaxis": {
            "backgroundcolor": "white",
            "gridcolor": "#DFE8F3",
            "gridwidth": 2,
            "linecolor": "#EBF0F8",
            "showbackground": true,
            "ticks": "",
            "zerolinecolor": "#EBF0F8"
           },
           "zaxis": {
            "backgroundcolor": "white",
            "gridcolor": "#DFE8F3",
            "gridwidth": 2,
            "linecolor": "#EBF0F8",
            "showbackground": true,
            "ticks": "",
            "zerolinecolor": "#EBF0F8"
           }
          },
          "shapedefaults": {
           "line": {
            "color": "#2a3f5f"
           }
          },
          "ternary": {
           "aaxis": {
            "gridcolor": "#DFE8F3",
            "linecolor": "#A2B1C6",
            "ticks": ""
           },
           "baxis": {
            "gridcolor": "#DFE8F3",
            "linecolor": "#A2B1C6",
            "ticks": ""
           },
           "bgcolor": "white",
           "caxis": {
            "gridcolor": "#DFE8F3",
            "linecolor": "#A2B1C6",
            "ticks": ""
           }
          },
          "title": {
           "x": 0.05
          },
          "xaxis": {
           "automargin": true,
           "gridcolor": "#EBF0F8",
           "linecolor": "#EBF0F8",
           "ticks": "",
           "title": {
            "standoff": 15
           },
           "zerolinecolor": "#EBF0F8",
           "zerolinewidth": 2
          },
          "yaxis": {
           "automargin": true,
           "gridcolor": "#EBF0F8",
           "linecolor": "#EBF0F8",
           "ticks": "",
           "title": {
            "standoff": 15
           },
           "zerolinecolor": "#EBF0F8",
           "zerolinewidth": 2
          }
         }
        },
        "title": {
         "text": "Engagement Sources"
        }
       }
      }
     },
     "metadata": {},
     "output_type": "display_data"
    }
   ],
   "source": [
    "#the distribution of engagement sources:\n",
    "\n",
    "engagement_metrics = ['Saves', 'Comments', 'Shares', 'Likes']\n",
    "engagement_counts = [df[metric].sum() for metric in engagement_metrics]\n",
    "\n",
    "colors = ['#FFB6C1', '#87CEFA', '#90EE90', '#FFDAB9']\n",
    "\n",
    "fig = px.pie(data_frame=df, names=engagement_metrics, \n",
    "             values=engagement_counts, \n",
    "             title='Engagement Sources',\n",
    "             color_discrete_sequence=colors)\n",
    "fig.show()\n",
    "\n",
    "\n",
    "\n",
    "\n",
    "\n"
   ]
  },
  {
   "cell_type": "code",
   "execution_count": 41,
   "metadata": {},
   "outputs": [
    {
     "data": {
      "application/vnd.plotly.v1+json": {
       "config": {
        "plotlyServerURL": "https://plot.ly"
       },
       "data": [
        {
         "hovertemplate": "Profile Visits=%{x}<br>Follows=%{y}<extra></extra>",
         "legendgroup": "",
         "marker": {
          "color": "#636efa",
          "symbol": "circle"
         },
         "mode": "markers",
         "name": "",
         "orientation": "v",
         "showlegend": false,
         "type": "scatter",
         "x": [
          35,
          48,
          62,
          23,
          8,
          9,
          26,
          12,
          36,
          31,
          29,
          15,
          8,
          20,
          181,
          17,
          16,
          21,
          77,
          10,
          9,
          11,
          144,
          14,
          10,
          19,
          69,
          11,
          19,
          9,
          57,
          13,
          11,
          24,
          81,
          4,
          7,
          14,
          18,
          8,
          330,
          21,
          19,
          32,
          19,
          21,
          14,
          30,
          39,
          42,
          31,
          20,
          12,
          22,
          306,
          13,
          26,
          16,
          15,
          15,
          39,
          21,
          8,
          45,
          50,
          37,
          25,
          347,
          26,
          48,
          16,
          26,
          17,
          52,
          22,
          41,
          155,
          12,
          22,
          20,
          23,
          25,
          17,
          16,
          21,
          77,
          10,
          14,
          30,
          39,
          42,
          31,
          14,
          10,
          19,
          69,
          11,
          19,
          9,
          38,
          42,
          92,
          75,
          21,
          26,
          39,
          74,
          467,
          24,
          70,
          22,
          46,
          61,
          237,
          73,
          20,
          34,
          148,
          611
         ],
         "xaxis": "x",
         "y": [
          2,
          10,
          12,
          8,
          0,
          2,
          0,
          6,
          4,
          6,
          4,
          0,
          2,
          4,
          42,
          6,
          2,
          2,
          30,
          0,
          0,
          24,
          100,
          2,
          4,
          6,
          6,
          6,
          2,
          2,
          20,
          2,
          4,
          8,
          26,
          2,
          2,
          4,
          0,
          2,
          94,
          8,
          18,
          10,
          4,
          4,
          4,
          4,
          18,
          38,
          10,
          12,
          4,
          4,
          74,
          0,
          6,
          6,
          0,
          6,
          12,
          10,
          8,
          8,
          46,
          12,
          10,
          94,
          6,
          10,
          6,
          4,
          12,
          16,
          12,
          8,
          32,
          8,
          16,
          6,
          10,
          10,
          6,
          2,
          2,
          30,
          0,
          4,
          4,
          18,
          38,
          10,
          2,
          4,
          6,
          6,
          6,
          2,
          2,
          14,
          8,
          14,
          28,
          18,
          12,
          34,
          26,
          260,
          16,
          96,
          20,
          30,
          58,
          100,
          80,
          18,
          10,
          214,
          228
         ],
         "yaxis": "y"
        },
        {
         "hovertemplate": "<b>OLS trendline</b><br>Follows = 0.400884 * Profile Visits + 0.46283<br>R<sup>2</sup>=0.727868<br><br>Profile Visits=%{x}<br>Follows=%{y} <b>(trend)</b><extra></extra>",
         "legendgroup": "",
         "marker": {
          "color": "#636efa",
          "symbol": "circle"
         },
         "mode": "lines",
         "name": "",
         "showlegend": false,
         "type": "scatter",
         "x": [
          4,
          7,
          8,
          8,
          8,
          8,
          9,
          9,
          9,
          9,
          10,
          10,
          10,
          10,
          11,
          11,
          11,
          11,
          12,
          12,
          12,
          13,
          13,
          14,
          14,
          14,
          14,
          14,
          15,
          15,
          15,
          16,
          16,
          16,
          16,
          17,
          17,
          17,
          18,
          19,
          19,
          19,
          19,
          19,
          19,
          20,
          20,
          20,
          20,
          21,
          21,
          21,
          21,
          21,
          21,
          22,
          22,
          22,
          22,
          23,
          23,
          24,
          24,
          25,
          25,
          26,
          26,
          26,
          26,
          26,
          29,
          30,
          30,
          31,
          31,
          31,
          32,
          34,
          35,
          36,
          37,
          38,
          39,
          39,
          39,
          39,
          41,
          42,
          42,
          42,
          45,
          46,
          48,
          48,
          50,
          52,
          57,
          61,
          62,
          69,
          69,
          70,
          73,
          74,
          75,
          77,
          77,
          81,
          92,
          144,
          148,
          155,
          181,
          237,
          306,
          330,
          347,
          467,
          611
         ],
         "xaxis": "x",
         "y": [
          2.0663650704225347,
          3.269016056338028,
          3.6698997183098596,
          3.6698997183098596,
          3.6698997183098596,
          3.6698997183098596,
          4.070783380281691,
          4.070783380281691,
          4.070783380281691,
          4.070783380281691,
          4.471667042253522,
          4.471667042253522,
          4.471667042253522,
          4.471667042253522,
          4.872550704225353,
          4.872550704225353,
          4.872550704225353,
          4.872550704225353,
          5.2734343661971845,
          5.2734343661971845,
          5.2734343661971845,
          5.674318028169016,
          5.674318028169016,
          6.0752016901408465,
          6.0752016901408465,
          6.0752016901408465,
          6.0752016901408465,
          6.0752016901408465,
          6.476085352112678,
          6.476085352112678,
          6.476085352112678,
          6.8769690140845094,
          6.8769690140845094,
          6.8769690140845094,
          6.8769690140845094,
          7.277852676056341,
          7.277852676056341,
          7.277852676056341,
          7.6787363380281715,
          8.079620000000004,
          8.079620000000004,
          8.079620000000004,
          8.079620000000004,
          8.079620000000004,
          8.079620000000004,
          8.480503661971834,
          8.480503661971834,
          8.480503661971834,
          8.480503661971834,
          8.881387323943665,
          8.881387323943665,
          8.881387323943665,
          8.881387323943665,
          8.881387323943665,
          8.881387323943665,
          9.282270985915497,
          9.282270985915497,
          9.282270985915497,
          9.282270985915497,
          9.683154647887328,
          9.683154647887328,
          10.084038309859158,
          10.084038309859158,
          10.48492197183099,
          10.48492197183099,
          10.885805633802821,
          10.885805633802821,
          10.885805633802821,
          10.885805633802821,
          10.885805633802821,
          12.088456619718315,
          12.489340281690147,
          12.489340281690147,
          12.890223943661978,
          12.890223943661978,
          12.890223943661978,
          13.291107605633808,
          14.092874929577471,
          14.493758591549303,
          14.894642253521134,
          15.295525915492965,
          15.696409577464797,
          16.097293239436627,
          16.097293239436627,
          16.097293239436627,
          16.097293239436627,
          16.89906056338029,
          17.29994422535212,
          17.29994422535212,
          17.29994422535212,
          18.502595211267614,
          18.903478873239447,
          19.705246197183108,
          19.705246197183108,
          20.507013521126773,
          21.308780845070434,
          23.31319915492959,
          24.916733802816914,
          25.317617464788746,
          28.123803098591566,
          28.123803098591566,
          28.524686760563394,
          29.727337746478888,
          30.12822140845072,
          30.529105070422553,
          31.330872394366214,
          31.330872394366214,
          32.93440704225354,
          37.34412732394368,
          58.190077746478906,
          59.79361239436623,
          62.59979802816905,
          73.02277323943666,
          95.47225830985921,
          123.13323098591556,
          132.7544388732395,
          139.56946112676064,
          187.67550056338038,
          245.4027478873241
         ],
         "yaxis": "y"
        }
       ],
       "layout": {
        "legend": {
         "tracegroupgap": 0
        },
        "template": {
         "data": {
          "bar": [
           {
            "error_x": {
             "color": "#2a3f5f"
            },
            "error_y": {
             "color": "#2a3f5f"
            },
            "marker": {
             "line": {
              "color": "white",
              "width": 0.5
             },
             "pattern": {
              "fillmode": "overlay",
              "size": 10,
              "solidity": 0.2
             }
            },
            "type": "bar"
           }
          ],
          "barpolar": [
           {
            "marker": {
             "line": {
              "color": "white",
              "width": 0.5
             },
             "pattern": {
              "fillmode": "overlay",
              "size": 10,
              "solidity": 0.2
             }
            },
            "type": "barpolar"
           }
          ],
          "carpet": [
           {
            "aaxis": {
             "endlinecolor": "#2a3f5f",
             "gridcolor": "#C8D4E3",
             "linecolor": "#C8D4E3",
             "minorgridcolor": "#C8D4E3",
             "startlinecolor": "#2a3f5f"
            },
            "baxis": {
             "endlinecolor": "#2a3f5f",
             "gridcolor": "#C8D4E3",
             "linecolor": "#C8D4E3",
             "minorgridcolor": "#C8D4E3",
             "startlinecolor": "#2a3f5f"
            },
            "type": "carpet"
           }
          ],
          "choropleth": [
           {
            "colorbar": {
             "outlinewidth": 0,
             "ticks": ""
            },
            "type": "choropleth"
           }
          ],
          "contour": [
           {
            "colorbar": {
             "outlinewidth": 0,
             "ticks": ""
            },
            "colorscale": [
             [
              0,
              "#0d0887"
             ],
             [
              0.1111111111111111,
              "#46039f"
             ],
             [
              0.2222222222222222,
              "#7201a8"
             ],
             [
              0.3333333333333333,
              "#9c179e"
             ],
             [
              0.4444444444444444,
              "#bd3786"
             ],
             [
              0.5555555555555556,
              "#d8576b"
             ],
             [
              0.6666666666666666,
              "#ed7953"
             ],
             [
              0.7777777777777778,
              "#fb9f3a"
             ],
             [
              0.8888888888888888,
              "#fdca26"
             ],
             [
              1,
              "#f0f921"
             ]
            ],
            "type": "contour"
           }
          ],
          "contourcarpet": [
           {
            "colorbar": {
             "outlinewidth": 0,
             "ticks": ""
            },
            "type": "contourcarpet"
           }
          ],
          "heatmap": [
           {
            "colorbar": {
             "outlinewidth": 0,
             "ticks": ""
            },
            "colorscale": [
             [
              0,
              "#0d0887"
             ],
             [
              0.1111111111111111,
              "#46039f"
             ],
             [
              0.2222222222222222,
              "#7201a8"
             ],
             [
              0.3333333333333333,
              "#9c179e"
             ],
             [
              0.4444444444444444,
              "#bd3786"
             ],
             [
              0.5555555555555556,
              "#d8576b"
             ],
             [
              0.6666666666666666,
              "#ed7953"
             ],
             [
              0.7777777777777778,
              "#fb9f3a"
             ],
             [
              0.8888888888888888,
              "#fdca26"
             ],
             [
              1,
              "#f0f921"
             ]
            ],
            "type": "heatmap"
           }
          ],
          "heatmapgl": [
           {
            "colorbar": {
             "outlinewidth": 0,
             "ticks": ""
            },
            "colorscale": [
             [
              0,
              "#0d0887"
             ],
             [
              0.1111111111111111,
              "#46039f"
             ],
             [
              0.2222222222222222,
              "#7201a8"
             ],
             [
              0.3333333333333333,
              "#9c179e"
             ],
             [
              0.4444444444444444,
              "#bd3786"
             ],
             [
              0.5555555555555556,
              "#d8576b"
             ],
             [
              0.6666666666666666,
              "#ed7953"
             ],
             [
              0.7777777777777778,
              "#fb9f3a"
             ],
             [
              0.8888888888888888,
              "#fdca26"
             ],
             [
              1,
              "#f0f921"
             ]
            ],
            "type": "heatmapgl"
           }
          ],
          "histogram": [
           {
            "marker": {
             "pattern": {
              "fillmode": "overlay",
              "size": 10,
              "solidity": 0.2
             }
            },
            "type": "histogram"
           }
          ],
          "histogram2d": [
           {
            "colorbar": {
             "outlinewidth": 0,
             "ticks": ""
            },
            "colorscale": [
             [
              0,
              "#0d0887"
             ],
             [
              0.1111111111111111,
              "#46039f"
             ],
             [
              0.2222222222222222,
              "#7201a8"
             ],
             [
              0.3333333333333333,
              "#9c179e"
             ],
             [
              0.4444444444444444,
              "#bd3786"
             ],
             [
              0.5555555555555556,
              "#d8576b"
             ],
             [
              0.6666666666666666,
              "#ed7953"
             ],
             [
              0.7777777777777778,
              "#fb9f3a"
             ],
             [
              0.8888888888888888,
              "#fdca26"
             ],
             [
              1,
              "#f0f921"
             ]
            ],
            "type": "histogram2d"
           }
          ],
          "histogram2dcontour": [
           {
            "colorbar": {
             "outlinewidth": 0,
             "ticks": ""
            },
            "colorscale": [
             [
              0,
              "#0d0887"
             ],
             [
              0.1111111111111111,
              "#46039f"
             ],
             [
              0.2222222222222222,
              "#7201a8"
             ],
             [
              0.3333333333333333,
              "#9c179e"
             ],
             [
              0.4444444444444444,
              "#bd3786"
             ],
             [
              0.5555555555555556,
              "#d8576b"
             ],
             [
              0.6666666666666666,
              "#ed7953"
             ],
             [
              0.7777777777777778,
              "#fb9f3a"
             ],
             [
              0.8888888888888888,
              "#fdca26"
             ],
             [
              1,
              "#f0f921"
             ]
            ],
            "type": "histogram2dcontour"
           }
          ],
          "mesh3d": [
           {
            "colorbar": {
             "outlinewidth": 0,
             "ticks": ""
            },
            "type": "mesh3d"
           }
          ],
          "parcoords": [
           {
            "line": {
             "colorbar": {
              "outlinewidth": 0,
              "ticks": ""
             }
            },
            "type": "parcoords"
           }
          ],
          "pie": [
           {
            "automargin": true,
            "type": "pie"
           }
          ],
          "scatter": [
           {
            "fillpattern": {
             "fillmode": "overlay",
             "size": 10,
             "solidity": 0.2
            },
            "type": "scatter"
           }
          ],
          "scatter3d": [
           {
            "line": {
             "colorbar": {
              "outlinewidth": 0,
              "ticks": ""
             }
            },
            "marker": {
             "colorbar": {
              "outlinewidth": 0,
              "ticks": ""
             }
            },
            "type": "scatter3d"
           }
          ],
          "scattercarpet": [
           {
            "marker": {
             "colorbar": {
              "outlinewidth": 0,
              "ticks": ""
             }
            },
            "type": "scattercarpet"
           }
          ],
          "scattergeo": [
           {
            "marker": {
             "colorbar": {
              "outlinewidth": 0,
              "ticks": ""
             }
            },
            "type": "scattergeo"
           }
          ],
          "scattergl": [
           {
            "marker": {
             "colorbar": {
              "outlinewidth": 0,
              "ticks": ""
             }
            },
            "type": "scattergl"
           }
          ],
          "scattermapbox": [
           {
            "marker": {
             "colorbar": {
              "outlinewidth": 0,
              "ticks": ""
             }
            },
            "type": "scattermapbox"
           }
          ],
          "scatterpolar": [
           {
            "marker": {
             "colorbar": {
              "outlinewidth": 0,
              "ticks": ""
             }
            },
            "type": "scatterpolar"
           }
          ],
          "scatterpolargl": [
           {
            "marker": {
             "colorbar": {
              "outlinewidth": 0,
              "ticks": ""
             }
            },
            "type": "scatterpolargl"
           }
          ],
          "scatterternary": [
           {
            "marker": {
             "colorbar": {
              "outlinewidth": 0,
              "ticks": ""
             }
            },
            "type": "scatterternary"
           }
          ],
          "surface": [
           {
            "colorbar": {
             "outlinewidth": 0,
             "ticks": ""
            },
            "colorscale": [
             [
              0,
              "#0d0887"
             ],
             [
              0.1111111111111111,
              "#46039f"
             ],
             [
              0.2222222222222222,
              "#7201a8"
             ],
             [
              0.3333333333333333,
              "#9c179e"
             ],
             [
              0.4444444444444444,
              "#bd3786"
             ],
             [
              0.5555555555555556,
              "#d8576b"
             ],
             [
              0.6666666666666666,
              "#ed7953"
             ],
             [
              0.7777777777777778,
              "#fb9f3a"
             ],
             [
              0.8888888888888888,
              "#fdca26"
             ],
             [
              1,
              "#f0f921"
             ]
            ],
            "type": "surface"
           }
          ],
          "table": [
           {
            "cells": {
             "fill": {
              "color": "#EBF0F8"
             },
             "line": {
              "color": "white"
             }
            },
            "header": {
             "fill": {
              "color": "#C8D4E3"
             },
             "line": {
              "color": "white"
             }
            },
            "type": "table"
           }
          ]
         },
         "layout": {
          "annotationdefaults": {
           "arrowcolor": "#2a3f5f",
           "arrowhead": 0,
           "arrowwidth": 1
          },
          "autotypenumbers": "strict",
          "coloraxis": {
           "colorbar": {
            "outlinewidth": 0,
            "ticks": ""
           }
          },
          "colorscale": {
           "diverging": [
            [
             0,
             "#8e0152"
            ],
            [
             0.1,
             "#c51b7d"
            ],
            [
             0.2,
             "#de77ae"
            ],
            [
             0.3,
             "#f1b6da"
            ],
            [
             0.4,
             "#fde0ef"
            ],
            [
             0.5,
             "#f7f7f7"
            ],
            [
             0.6,
             "#e6f5d0"
            ],
            [
             0.7,
             "#b8e186"
            ],
            [
             0.8,
             "#7fbc41"
            ],
            [
             0.9,
             "#4d9221"
            ],
            [
             1,
             "#276419"
            ]
           ],
           "sequential": [
            [
             0,
             "#0d0887"
            ],
            [
             0.1111111111111111,
             "#46039f"
            ],
            [
             0.2222222222222222,
             "#7201a8"
            ],
            [
             0.3333333333333333,
             "#9c179e"
            ],
            [
             0.4444444444444444,
             "#bd3786"
            ],
            [
             0.5555555555555556,
             "#d8576b"
            ],
            [
             0.6666666666666666,
             "#ed7953"
            ],
            [
             0.7777777777777778,
             "#fb9f3a"
            ],
            [
             0.8888888888888888,
             "#fdca26"
            ],
            [
             1,
             "#f0f921"
            ]
           ],
           "sequentialminus": [
            [
             0,
             "#0d0887"
            ],
            [
             0.1111111111111111,
             "#46039f"
            ],
            [
             0.2222222222222222,
             "#7201a8"
            ],
            [
             0.3333333333333333,
             "#9c179e"
            ],
            [
             0.4444444444444444,
             "#bd3786"
            ],
            [
             0.5555555555555556,
             "#d8576b"
            ],
            [
             0.6666666666666666,
             "#ed7953"
            ],
            [
             0.7777777777777778,
             "#fb9f3a"
            ],
            [
             0.8888888888888888,
             "#fdca26"
            ],
            [
             1,
             "#f0f921"
            ]
           ]
          },
          "colorway": [
           "#636efa",
           "#EF553B",
           "#00cc96",
           "#ab63fa",
           "#FFA15A",
           "#19d3f3",
           "#FF6692",
           "#B6E880",
           "#FF97FF",
           "#FECB52"
          ],
          "font": {
           "color": "#2a3f5f"
          },
          "geo": {
           "bgcolor": "white",
           "lakecolor": "white",
           "landcolor": "white",
           "showlakes": true,
           "showland": true,
           "subunitcolor": "#C8D4E3"
          },
          "hoverlabel": {
           "align": "left"
          },
          "hovermode": "closest",
          "mapbox": {
           "style": "light"
          },
          "paper_bgcolor": "white",
          "plot_bgcolor": "white",
          "polar": {
           "angularaxis": {
            "gridcolor": "#EBF0F8",
            "linecolor": "#EBF0F8",
            "ticks": ""
           },
           "bgcolor": "white",
           "radialaxis": {
            "gridcolor": "#EBF0F8",
            "linecolor": "#EBF0F8",
            "ticks": ""
           }
          },
          "scene": {
           "xaxis": {
            "backgroundcolor": "white",
            "gridcolor": "#DFE8F3",
            "gridwidth": 2,
            "linecolor": "#EBF0F8",
            "showbackground": true,
            "ticks": "",
            "zerolinecolor": "#EBF0F8"
           },
           "yaxis": {
            "backgroundcolor": "white",
            "gridcolor": "#DFE8F3",
            "gridwidth": 2,
            "linecolor": "#EBF0F8",
            "showbackground": true,
            "ticks": "",
            "zerolinecolor": "#EBF0F8"
           },
           "zaxis": {
            "backgroundcolor": "white",
            "gridcolor": "#DFE8F3",
            "gridwidth": 2,
            "linecolor": "#EBF0F8",
            "showbackground": true,
            "ticks": "",
            "zerolinecolor": "#EBF0F8"
           }
          },
          "shapedefaults": {
           "line": {
            "color": "#2a3f5f"
           }
          },
          "ternary": {
           "aaxis": {
            "gridcolor": "#DFE8F3",
            "linecolor": "#A2B1C6",
            "ticks": ""
           },
           "baxis": {
            "gridcolor": "#DFE8F3",
            "linecolor": "#A2B1C6",
            "ticks": ""
           },
           "bgcolor": "white",
           "caxis": {
            "gridcolor": "#DFE8F3",
            "linecolor": "#A2B1C6",
            "ticks": ""
           }
          },
          "title": {
           "x": 0.05
          },
          "xaxis": {
           "automargin": true,
           "gridcolor": "#EBF0F8",
           "linecolor": "#EBF0F8",
           "ticks": "",
           "title": {
            "standoff": 15
           },
           "zerolinecolor": "#EBF0F8",
           "zerolinewidth": 2
          },
          "yaxis": {
           "automargin": true,
           "gridcolor": "#EBF0F8",
           "linecolor": "#EBF0F8",
           "ticks": "",
           "title": {
            "standoff": 15
           },
           "zerolinecolor": "#EBF0F8",
           "zerolinewidth": 2
          }
         }
        },
        "title": {
         "text": "Profile Visits vs. Follows"
        },
        "xaxis": {
         "anchor": "y",
         "domain": [
          0,
          1
         ],
         "title": {
          "text": "Profile Visits"
         }
        },
        "yaxis": {
         "anchor": "x",
         "domain": [
          0,
          1
         ],
         "title": {
          "text": "Follows"
         }
        }
       }
      }
     },
     "metadata": {},
     "output_type": "display_data"
    }
   ],
   "source": [
    "fig = px.scatter(df, x='Profile Visits', y='Follows', trendline='ols', title='Profile Visits vs. Follows')\n",
    "fig.show()"
   ]
  },
  {
   "cell_type": "code",
   "execution_count": 42,
   "metadata": {},
   "outputs": [
    {
     "data": {
      "application/vnd.plotly.v1+json": {
       "config": {
        "plotlyServerURL": "https://plot.ly"
       },
       "data": [
        {
         "hovertemplate": "x: %{x}<br>y: %{y}<br>color: [%{z[0]}, %{z[1]}, %{z[2]}]<extra></extra>",
         "name": "0",
         "source": "data:image/png;base64,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",
         "type": "image",
         "xaxis": "x",
         "yaxis": "y"
        }
       ],
       "layout": {
        "template": {
         "data": {
          "bar": [
           {
            "error_x": {
             "color": "#2a3f5f"
            },
            "error_y": {
             "color": "#2a3f5f"
            },
            "marker": {
             "line": {
              "color": "white",
              "width": 0.5
             },
             "pattern": {
              "fillmode": "overlay",
              "size": 10,
              "solidity": 0.2
             }
            },
            "type": "bar"
           }
          ],
          "barpolar": [
           {
            "marker": {
             "line": {
              "color": "white",
              "width": 0.5
             },
             "pattern": {
              "fillmode": "overlay",
              "size": 10,
              "solidity": 0.2
             }
            },
            "type": "barpolar"
           }
          ],
          "carpet": [
           {
            "aaxis": {
             "endlinecolor": "#2a3f5f",
             "gridcolor": "#C8D4E3",
             "linecolor": "#C8D4E3",
             "minorgridcolor": "#C8D4E3",
             "startlinecolor": "#2a3f5f"
            },
            "baxis": {
             "endlinecolor": "#2a3f5f",
             "gridcolor": "#C8D4E3",
             "linecolor": "#C8D4E3",
             "minorgridcolor": "#C8D4E3",
             "startlinecolor": "#2a3f5f"
            },
            "type": "carpet"
           }
          ],
          "choropleth": [
           {
            "colorbar": {
             "outlinewidth": 0,
             "ticks": ""
            },
            "type": "choropleth"
           }
          ],
          "contour": [
           {
            "colorbar": {
             "outlinewidth": 0,
             "ticks": ""
            },
            "colorscale": [
             [
              0,
              "#0d0887"
             ],
             [
              0.1111111111111111,
              "#46039f"
             ],
             [
              0.2222222222222222,
              "#7201a8"
             ],
             [
              0.3333333333333333,
              "#9c179e"
             ],
             [
              0.4444444444444444,
              "#bd3786"
             ],
             [
              0.5555555555555556,
              "#d8576b"
             ],
             [
              0.6666666666666666,
              "#ed7953"
             ],
             [
              0.7777777777777778,
              "#fb9f3a"
             ],
             [
              0.8888888888888888,
              "#fdca26"
             ],
             [
              1,
              "#f0f921"
             ]
            ],
            "type": "contour"
           }
          ],
          "contourcarpet": [
           {
            "colorbar": {
             "outlinewidth": 0,
             "ticks": ""
            },
            "type": "contourcarpet"
           }
          ],
          "heatmap": [
           {
            "colorbar": {
             "outlinewidth": 0,
             "ticks": ""
            },
            "colorscale": [
             [
              0,
              "#0d0887"
             ],
             [
              0.1111111111111111,
              "#46039f"
             ],
             [
              0.2222222222222222,
              "#7201a8"
             ],
             [
              0.3333333333333333,
              "#9c179e"
             ],
             [
              0.4444444444444444,
              "#bd3786"
             ],
             [
              0.5555555555555556,
              "#d8576b"
             ],
             [
              0.6666666666666666,
              "#ed7953"
             ],
             [
              0.7777777777777778,
              "#fb9f3a"
             ],
             [
              0.8888888888888888,
              "#fdca26"
             ],
             [
              1,
              "#f0f921"
             ]
            ],
            "type": "heatmap"
           }
          ],
          "heatmapgl": [
           {
            "colorbar": {
             "outlinewidth": 0,
             "ticks": ""
            },
            "colorscale": [
             [
              0,
              "#0d0887"
             ],
             [
              0.1111111111111111,
              "#46039f"
             ],
             [
              0.2222222222222222,
              "#7201a8"
             ],
             [
              0.3333333333333333,
              "#9c179e"
             ],
             [
              0.4444444444444444,
              "#bd3786"
             ],
             [
              0.5555555555555556,
              "#d8576b"
             ],
             [
              0.6666666666666666,
              "#ed7953"
             ],
             [
              0.7777777777777778,
              "#fb9f3a"
             ],
             [
              0.8888888888888888,
              "#fdca26"
             ],
             [
              1,
              "#f0f921"
             ]
            ],
            "type": "heatmapgl"
           }
          ],
          "histogram": [
           {
            "marker": {
             "pattern": {
              "fillmode": "overlay",
              "size": 10,
              "solidity": 0.2
             }
            },
            "type": "histogram"
           }
          ],
          "histogram2d": [
           {
            "colorbar": {
             "outlinewidth": 0,
             "ticks": ""
            },
            "colorscale": [
             [
              0,
              "#0d0887"
             ],
             [
              0.1111111111111111,
              "#46039f"
             ],
             [
              0.2222222222222222,
              "#7201a8"
             ],
             [
              0.3333333333333333,
              "#9c179e"
             ],
             [
              0.4444444444444444,
              "#bd3786"
             ],
             [
              0.5555555555555556,
              "#d8576b"
             ],
             [
              0.6666666666666666,
              "#ed7953"
             ],
             [
              0.7777777777777778,
              "#fb9f3a"
             ],
             [
              0.8888888888888888,
              "#fdca26"
             ],
             [
              1,
              "#f0f921"
             ]
            ],
            "type": "histogram2d"
           }
          ],
          "histogram2dcontour": [
           {
            "colorbar": {
             "outlinewidth": 0,
             "ticks": ""
            },
            "colorscale": [
             [
              0,
              "#0d0887"
             ],
             [
              0.1111111111111111,
              "#46039f"
             ],
             [
              0.2222222222222222,
              "#7201a8"
             ],
             [
              0.3333333333333333,
              "#9c179e"
             ],
             [
              0.4444444444444444,
              "#bd3786"
             ],
             [
              0.5555555555555556,
              "#d8576b"
             ],
             [
              0.6666666666666666,
              "#ed7953"
             ],
             [
              0.7777777777777778,
              "#fb9f3a"
             ],
             [
              0.8888888888888888,
              "#fdca26"
             ],
             [
              1,
              "#f0f921"
             ]
            ],
            "type": "histogram2dcontour"
           }
          ],
          "mesh3d": [
           {
            "colorbar": {
             "outlinewidth": 0,
             "ticks": ""
            },
            "type": "mesh3d"
           }
          ],
          "parcoords": [
           {
            "line": {
             "colorbar": {
              "outlinewidth": 0,
              "ticks": ""
             }
            },
            "type": "parcoords"
           }
          ],
          "pie": [
           {
            "automargin": true,
            "type": "pie"
           }
          ],
          "scatter": [
           {
            "fillpattern": {
             "fillmode": "overlay",
             "size": 10,
             "solidity": 0.2
            },
            "type": "scatter"
           }
          ],
          "scatter3d": [
           {
            "line": {
             "colorbar": {
              "outlinewidth": 0,
              "ticks": ""
             }
            },
            "marker": {
             "colorbar": {
              "outlinewidth": 0,
              "ticks": ""
             }
            },
            "type": "scatter3d"
           }
          ],
          "scattercarpet": [
           {
            "marker": {
             "colorbar": {
              "outlinewidth": 0,
              "ticks": ""
             }
            },
            "type": "scattercarpet"
           }
          ],
          "scattergeo": [
           {
            "marker": {
             "colorbar": {
              "outlinewidth": 0,
              "ticks": ""
             }
            },
            "type": "scattergeo"
           }
          ],
          "scattergl": [
           {
            "marker": {
             "colorbar": {
              "outlinewidth": 0,
              "ticks": ""
             }
            },
            "type": "scattergl"
           }
          ],
          "scattermapbox": [
           {
            "marker": {
             "colorbar": {
              "outlinewidth": 0,
              "ticks": ""
             }
            },
            "type": "scattermapbox"
           }
          ],
          "scatterpolar": [
           {
            "marker": {
             "colorbar": {
              "outlinewidth": 0,
              "ticks": ""
             }
            },
            "type": "scatterpolar"
           }
          ],
          "scatterpolargl": [
           {
            "marker": {
             "colorbar": {
              "outlinewidth": 0,
              "ticks": ""
             }
            },
            "type": "scatterpolargl"
           }
          ],
          "scatterternary": [
           {
            "marker": {
             "colorbar": {
              "outlinewidth": 0,
              "ticks": ""
             }
            },
            "type": "scatterternary"
           }
          ],
          "surface": [
           {
            "colorbar": {
             "outlinewidth": 0,
             "ticks": ""
            },
            "colorscale": [
             [
              0,
              "#0d0887"
             ],
             [
              0.1111111111111111,
              "#46039f"
             ],
             [
              0.2222222222222222,
              "#7201a8"
             ],
             [
              0.3333333333333333,
              "#9c179e"
             ],
             [
              0.4444444444444444,
              "#bd3786"
             ],
             [
              0.5555555555555556,
              "#d8576b"
             ],
             [
              0.6666666666666666,
              "#ed7953"
             ],
             [
              0.7777777777777778,
              "#fb9f3a"
             ],
             [
              0.8888888888888888,
              "#fdca26"
             ],
             [
              1,
              "#f0f921"
             ]
            ],
            "type": "surface"
           }
          ],
          "table": [
           {
            "cells": {
             "fill": {
              "color": "#EBF0F8"
             },
             "line": {
              "color": "white"
             }
            },
            "header": {
             "fill": {
              "color": "#C8D4E3"
             },
             "line": {
              "color": "white"
             }
            },
            "type": "table"
           }
          ]
         },
         "layout": {
          "annotationdefaults": {
           "arrowcolor": "#2a3f5f",
           "arrowhead": 0,
           "arrowwidth": 1
          },
          "autotypenumbers": "strict",
          "coloraxis": {
           "colorbar": {
            "outlinewidth": 0,
            "ticks": ""
           }
          },
          "colorscale": {
           "diverging": [
            [
             0,
             "#8e0152"
            ],
            [
             0.1,
             "#c51b7d"
            ],
            [
             0.2,
             "#de77ae"
            ],
            [
             0.3,
             "#f1b6da"
            ],
            [
             0.4,
             "#fde0ef"
            ],
            [
             0.5,
             "#f7f7f7"
            ],
            [
             0.6,
             "#e6f5d0"
            ],
            [
             0.7,
             "#b8e186"
            ],
            [
             0.8,
             "#7fbc41"
            ],
            [
             0.9,
             "#4d9221"
            ],
            [
             1,
             "#276419"
            ]
           ],
           "sequential": [
            [
             0,
             "#0d0887"
            ],
            [
             0.1111111111111111,
             "#46039f"
            ],
            [
             0.2222222222222222,
             "#7201a8"
            ],
            [
             0.3333333333333333,
             "#9c179e"
            ],
            [
             0.4444444444444444,
             "#bd3786"
            ],
            [
             0.5555555555555556,
             "#d8576b"
            ],
            [
             0.6666666666666666,
             "#ed7953"
            ],
            [
             0.7777777777777778,
             "#fb9f3a"
            ],
            [
             0.8888888888888888,
             "#fdca26"
            ],
            [
             1,
             "#f0f921"
            ]
           ],
           "sequentialminus": [
            [
             0,
             "#0d0887"
            ],
            [
             0.1111111111111111,
             "#46039f"
            ],
            [
             0.2222222222222222,
             "#7201a8"
            ],
            [
             0.3333333333333333,
             "#9c179e"
            ],
            [
             0.4444444444444444,
             "#bd3786"
            ],
            [
             0.5555555555555556,
             "#d8576b"
            ],
            [
             0.6666666666666666,
             "#ed7953"
            ],
            [
             0.7777777777777778,
             "#fb9f3a"
            ],
            [
             0.8888888888888888,
             "#fdca26"
            ],
            [
             1,
             "#f0f921"
            ]
           ]
          },
          "colorway": [
           "#636efa",
           "#EF553B",
           "#00cc96",
           "#ab63fa",
           "#FFA15A",
           "#19d3f3",
           "#FF6692",
           "#B6E880",
           "#FF97FF",
           "#FECB52"
          ],
          "font": {
           "color": "#2a3f5f"
          },
          "geo": {
           "bgcolor": "white",
           "lakecolor": "white",
           "landcolor": "white",
           "showlakes": true,
           "showland": true,
           "subunitcolor": "#C8D4E3"
          },
          "hoverlabel": {
           "align": "left"
          },
          "hovermode": "closest",
          "mapbox": {
           "style": "light"
          },
          "paper_bgcolor": "white",
          "plot_bgcolor": "white",
          "polar": {
           "angularaxis": {
            "gridcolor": "#EBF0F8",
            "linecolor": "#EBF0F8",
            "ticks": ""
           },
           "bgcolor": "white",
           "radialaxis": {
            "gridcolor": "#EBF0F8",
            "linecolor": "#EBF0F8",
            "ticks": ""
           }
          },
          "scene": {
           "xaxis": {
            "backgroundcolor": "white",
            "gridcolor": "#DFE8F3",
            "gridwidth": 2,
            "linecolor": "#EBF0F8",
            "showbackground": true,
            "ticks": "",
            "zerolinecolor": "#EBF0F8"
           },
           "yaxis": {
            "backgroundcolor": "white",
            "gridcolor": "#DFE8F3",
            "gridwidth": 2,
            "linecolor": "#EBF0F8",
            "showbackground": true,
            "ticks": "",
            "zerolinecolor": "#EBF0F8"
           },
           "zaxis": {
            "backgroundcolor": "white",
            "gridcolor": "#DFE8F3",
            "gridwidth": 2,
            "linecolor": "#EBF0F8",
            "showbackground": true,
            "ticks": "",
            "zerolinecolor": "#EBF0F8"
           }
          },
          "shapedefaults": {
           "line": {
            "color": "#2a3f5f"
           }
          },
          "ternary": {
           "aaxis": {
            "gridcolor": "#DFE8F3",
            "linecolor": "#A2B1C6",
            "ticks": ""
           },
           "baxis": {
            "gridcolor": "#DFE8F3",
            "linecolor": "#A2B1C6",
            "ticks": ""
           },
           "bgcolor": "white",
           "caxis": {
            "gridcolor": "#DFE8F3",
            "linecolor": "#A2B1C6",
            "ticks": ""
           }
          },
          "title": {
           "x": 0.05
          },
          "xaxis": {
           "automargin": true,
           "gridcolor": "#EBF0F8",
           "linecolor": "#EBF0F8",
           "ticks": "",
           "title": {
            "standoff": 15
           },
           "zerolinecolor": "#EBF0F8",
           "zerolinewidth": 2
          },
          "yaxis": {
           "automargin": true,
           "gridcolor": "#EBF0F8",
           "linecolor": "#EBF0F8",
           "ticks": "",
           "title": {
            "standoff": 15
           },
           "zerolinecolor": "#EBF0F8",
           "zerolinewidth": 2
          }
         }
        },
        "title": {
         "text": "Hashtags Word Cloud"
        },
        "xaxis": {
         "anchor": "y",
         "domain": [
          0,
          1
         ]
        },
        "yaxis": {
         "anchor": "x",
         "domain": [
          0,
          1
         ]
        }
       }
      }
     },
     "metadata": {},
     "output_type": "display_data"
    }
   ],
   "source": [
    "from wordcloud import WordCloud\n",
    "\n",
    "hashtags = ' '.join(df['Hashtags'].astype(str))\n",
    "wordcloud = WordCloud().generate(hashtags)\n",
    "\n",
    "fig = px.imshow(wordcloud, title='Hashtags Word Cloud')\n",
    "fig.show()"
   ]
  },
  {
   "cell_type": "code",
   "execution_count": 44,
   "metadata": {},
   "outputs": [
    {
     "name": "stderr",
     "output_type": "stream",
     "text": [
      "/var/folders/m_/g6wnbv8j61lb0mjf2qpt8z7c0000gn/T/ipykernel_38210/3830481954.py:3: FutureWarning:\n",
      "\n",
      "The default value of numeric_only in DataFrame.corr is deprecated. In a future version, it will default to False. Select only valid columns or specify the value of numeric_only to silence this warning.\n",
      "\n"
     ]
    },
    {
     "data": {
      "application/vnd.plotly.v1+json": {
       "config": {
        "plotlyServerURL": "https://plot.ly"
       },
       "data": [
        {
         "colorscale": [
          [
           0,
           "rgb(103,0,31)"
          ],
          [
           0.1,
           "rgb(178,24,43)"
          ],
          [
           0.2,
           "rgb(214,96,77)"
          ],
          [
           0.3,
           "rgb(244,165,130)"
          ],
          [
           0.4,
           "rgb(253,219,199)"
          ],
          [
           0.5,
           "rgb(247,247,247)"
          ],
          [
           0.6,
           "rgb(209,229,240)"
          ],
          [
           0.7,
           "rgb(146,197,222)"
          ],
          [
           0.8,
           "rgb(67,147,195)"
          ],
          [
           0.9,
           "rgb(33,102,172)"
          ],
          [
           1,
           "rgb(5,48,97)"
          ]
         ],
         "type": "heatmap",
         "x": [
          "Impressions",
          "From Home",
          "From Hashtags",
          "From Explore",
          "From Other",
          "Saves",
          "Comments",
          "Shares",
          "Likes",
          "Profile Visits",
          "Follows"
         ],
         "y": [
          "Impressions",
          "From Home",
          "From Hashtags",
          "From Explore",
          "From Other",
          "Saves",
          "Comments",
          "Shares",
          "Likes",
          "Profile Visits",
          "Follows"
         ],
         "z": [
          [
           1,
           0.8446984764644079,
           0.5607600444158378,
           0.8936074202433567,
           0.5929604758091378,
           0.7792314114268593,
           -0.028523933548663824,
           0.6346751252181763,
           0.8498353377178177,
           0.7609809286546657,
           0.8893634430344086
          ],
          [
           0.8446984764644079,
           1,
           0.1775156543309878,
           0.800573110578866,
           0.5556659551465412,
           0.768817005684724,
           0.012716248342545502,
           0.6749850448685393,
           0.698329637893805,
           0.531076205366268,
           0.6726750588858736
          ],
          [
           0.5607600444158378,
           0.1775156543309878,
           1,
           0.1904532189703739,
           0.2296233181732429,
           0.30592870314657494,
           0.1614388259073108,
           0.21951145515685286,
           0.6621242000877943,
           0.6913449048454711,
           0.5554854735531087
          ],
          [
           0.8936074202433567,
           0.800573110578866,
           0.1904532189703739,
           1,
           0.49568473618614567,
           0.7478028035868068,
           -0.15856537914498336,
           0.6157309658741993,
           0.653699336224973,
           0.5318502558055156,
           0.7960189422044351
          ],
          [
           0.5929604758091378,
           0.5556659551465412,
           0.2296233181732429,
           0.49568473618614567,
           1,
           0.3319068864386735,
           -0.1087029734222875,
           0.15683375635736396,
           0.3935104122090607,
           0.6330799446255249,
           0.5467370225356449
          ],
          [
           0.7792314114268593,
           0.768817005684724,
           0.30592870314657494,
           0.7478028035868068,
           0.3319068864386735,
           1,
           -0.026912263707560984,
           0.860324185158795,
           0.8456432932068351,
           0.36062821319868793,
           0.6284608823148304
          ],
          [
           -0.028523933548663824,
           0.012716248342545502,
           0.1614388259073108,
           -0.15856537914498336,
           -0.1087029734222875,
           -0.026912263707560984,
           1,
           0.016932532855360494,
           0.1235861027264814,
           0.09671424134518669,
           -0.060630774375331827
          ],
          [
           0.6346751252181763,
           0.6749850448685393,
           0.21951145515685286,
           0.6157309658741993,
           0.15683375635736396,
           0.860324185158795,
           0.016932532855360494,
           1,
           0.707794002688105,
           0.24536082330737743,
           0.4930698051158401
          ],
          [
           0.8498353377178177,
           0.698329637893805,
           0.6621242000877943,
           0.653699336224973,
           0.3935104122090607,
           0.8456432932068351,
           0.1235861027264814,
           0.707794002688105,
           1,
           0.6261070345218044,
           0.746333165592919
          ],
          [
           0.7609809286546657,
           0.531076205366268,
           0.6913449048454711,
           0.5318502558055156,
           0.6330799446255249,
           0.36062821319868793,
           0.09671424134518669,
           0.24536082330737743,
           0.6261070345218044,
           1,
           0.8531517459145104
          ],
          [
           0.8893634430344086,
           0.6726750588858736,
           0.5554854735531087,
           0.7960189422044351,
           0.5467370225356449,
           0.6284608823148304,
           -0.060630774375331827,
           0.4930698051158401,
           0.746333165592919,
           0.8531517459145104,
           1
          ]
         ],
         "zmax": 1,
         "zmin": -1
        }
       ],
       "layout": {
        "template": {
         "data": {
          "bar": [
           {
            "error_x": {
             "color": "#2a3f5f"
            },
            "error_y": {
             "color": "#2a3f5f"
            },
            "marker": {
             "line": {
              "color": "white",
              "width": 0.5
             },
             "pattern": {
              "fillmode": "overlay",
              "size": 10,
              "solidity": 0.2
             }
            },
            "type": "bar"
           }
          ],
          "barpolar": [
           {
            "marker": {
             "line": {
              "color": "white",
              "width": 0.5
             },
             "pattern": {
              "fillmode": "overlay",
              "size": 10,
              "solidity": 0.2
             }
            },
            "type": "barpolar"
           }
          ],
          "carpet": [
           {
            "aaxis": {
             "endlinecolor": "#2a3f5f",
             "gridcolor": "#C8D4E3",
             "linecolor": "#C8D4E3",
             "minorgridcolor": "#C8D4E3",
             "startlinecolor": "#2a3f5f"
            },
            "baxis": {
             "endlinecolor": "#2a3f5f",
             "gridcolor": "#C8D4E3",
             "linecolor": "#C8D4E3",
             "minorgridcolor": "#C8D4E3",
             "startlinecolor": "#2a3f5f"
            },
            "type": "carpet"
           }
          ],
          "choropleth": [
           {
            "colorbar": {
             "outlinewidth": 0,
             "ticks": ""
            },
            "type": "choropleth"
           }
          ],
          "contour": [
           {
            "colorbar": {
             "outlinewidth": 0,
             "ticks": ""
            },
            "colorscale": [
             [
              0,
              "#0d0887"
             ],
             [
              0.1111111111111111,
              "#46039f"
             ],
             [
              0.2222222222222222,
              "#7201a8"
             ],
             [
              0.3333333333333333,
              "#9c179e"
             ],
             [
              0.4444444444444444,
              "#bd3786"
             ],
             [
              0.5555555555555556,
              "#d8576b"
             ],
             [
              0.6666666666666666,
              "#ed7953"
             ],
             [
              0.7777777777777778,
              "#fb9f3a"
             ],
             [
              0.8888888888888888,
              "#fdca26"
             ],
             [
              1,
              "#f0f921"
             ]
            ],
            "type": "contour"
           }
          ],
          "contourcarpet": [
           {
            "colorbar": {
             "outlinewidth": 0,
             "ticks": ""
            },
            "type": "contourcarpet"
           }
          ],
          "heatmap": [
           {
            "colorbar": {
             "outlinewidth": 0,
             "ticks": ""
            },
            "colorscale": [
             [
              0,
              "#0d0887"
             ],
             [
              0.1111111111111111,
              "#46039f"
             ],
             [
              0.2222222222222222,
              "#7201a8"
             ],
             [
              0.3333333333333333,
              "#9c179e"
             ],
             [
              0.4444444444444444,
              "#bd3786"
             ],
             [
              0.5555555555555556,
              "#d8576b"
             ],
             [
              0.6666666666666666,
              "#ed7953"
             ],
             [
              0.7777777777777778,
              "#fb9f3a"
             ],
             [
              0.8888888888888888,
              "#fdca26"
             ],
             [
              1,
              "#f0f921"
             ]
            ],
            "type": "heatmap"
           }
          ],
          "heatmapgl": [
           {
            "colorbar": {
             "outlinewidth": 0,
             "ticks": ""
            },
            "colorscale": [
             [
              0,
              "#0d0887"
             ],
             [
              0.1111111111111111,
              "#46039f"
             ],
             [
              0.2222222222222222,
              "#7201a8"
             ],
             [
              0.3333333333333333,
              "#9c179e"
             ],
             [
              0.4444444444444444,
              "#bd3786"
             ],
             [
              0.5555555555555556,
              "#d8576b"
             ],
             [
              0.6666666666666666,
              "#ed7953"
             ],
             [
              0.7777777777777778,
              "#fb9f3a"
             ],
             [
              0.8888888888888888,
              "#fdca26"
             ],
             [
              1,
              "#f0f921"
             ]
            ],
            "type": "heatmapgl"
           }
          ],
          "histogram": [
           {
            "marker": {
             "pattern": {
              "fillmode": "overlay",
              "size": 10,
              "solidity": 0.2
             }
            },
            "type": "histogram"
           }
          ],
          "histogram2d": [
           {
            "colorbar": {
             "outlinewidth": 0,
             "ticks": ""
            },
            "colorscale": [
             [
              0,
              "#0d0887"
             ],
             [
              0.1111111111111111,
              "#46039f"
             ],
             [
              0.2222222222222222,
              "#7201a8"
             ],
             [
              0.3333333333333333,
              "#9c179e"
             ],
             [
              0.4444444444444444,
              "#bd3786"
             ],
             [
              0.5555555555555556,
              "#d8576b"
             ],
             [
              0.6666666666666666,
              "#ed7953"
             ],
             [
              0.7777777777777778,
              "#fb9f3a"
             ],
             [
              0.8888888888888888,
              "#fdca26"
             ],
             [
              1,
              "#f0f921"
             ]
            ],
            "type": "histogram2d"
           }
          ],
          "histogram2dcontour": [
           {
            "colorbar": {
             "outlinewidth": 0,
             "ticks": ""
            },
            "colorscale": [
             [
              0,
              "#0d0887"
             ],
             [
              0.1111111111111111,
              "#46039f"
             ],
             [
              0.2222222222222222,
              "#7201a8"
             ],
             [
              0.3333333333333333,
              "#9c179e"
             ],
             [
              0.4444444444444444,
              "#bd3786"
             ],
             [
              0.5555555555555556,
              "#d8576b"
             ],
             [
              0.6666666666666666,
              "#ed7953"
             ],
             [
              0.7777777777777778,
              "#fb9f3a"
             ],
             [
              0.8888888888888888,
              "#fdca26"
             ],
             [
              1,
              "#f0f921"
             ]
            ],
            "type": "histogram2dcontour"
           }
          ],
          "mesh3d": [
           {
            "colorbar": {
             "outlinewidth": 0,
             "ticks": ""
            },
            "type": "mesh3d"
           }
          ],
          "parcoords": [
           {
            "line": {
             "colorbar": {
              "outlinewidth": 0,
              "ticks": ""
             }
            },
            "type": "parcoords"
           }
          ],
          "pie": [
           {
            "automargin": true,
            "type": "pie"
           }
          ],
          "scatter": [
           {
            "fillpattern": {
             "fillmode": "overlay",
             "size": 10,
             "solidity": 0.2
            },
            "type": "scatter"
           }
          ],
          "scatter3d": [
           {
            "line": {
             "colorbar": {
              "outlinewidth": 0,
              "ticks": ""
             }
            },
            "marker": {
             "colorbar": {
              "outlinewidth": 0,
              "ticks": ""
             }
            },
            "type": "scatter3d"
           }
          ],
          "scattercarpet": [
           {
            "marker": {
             "colorbar": {
              "outlinewidth": 0,
              "ticks": ""
             }
            },
            "type": "scattercarpet"
           }
          ],
          "scattergeo": [
           {
            "marker": {
             "colorbar": {
              "outlinewidth": 0,
              "ticks": ""
             }
            },
            "type": "scattergeo"
           }
          ],
          "scattergl": [
           {
            "marker": {
             "colorbar": {
              "outlinewidth": 0,
              "ticks": ""
             }
            },
            "type": "scattergl"
           }
          ],
          "scattermapbox": [
           {
            "marker": {
             "colorbar": {
              "outlinewidth": 0,
              "ticks": ""
             }
            },
            "type": "scattermapbox"
           }
          ],
          "scatterpolar": [
           {
            "marker": {
             "colorbar": {
              "outlinewidth": 0,
              "ticks": ""
             }
            },
            "type": "scatterpolar"
           }
          ],
          "scatterpolargl": [
           {
            "marker": {
             "colorbar": {
              "outlinewidth": 0,
              "ticks": ""
             }
            },
            "type": "scatterpolargl"
           }
          ],
          "scatterternary": [
           {
            "marker": {
             "colorbar": {
              "outlinewidth": 0,
              "ticks": ""
             }
            },
            "type": "scatterternary"
           }
          ],
          "surface": [
           {
            "colorbar": {
             "outlinewidth": 0,
             "ticks": ""
            },
            "colorscale": [
             [
              0,
              "#0d0887"
             ],
             [
              0.1111111111111111,
              "#46039f"
             ],
             [
              0.2222222222222222,
              "#7201a8"
             ],
             [
              0.3333333333333333,
              "#9c179e"
             ],
             [
              0.4444444444444444,
              "#bd3786"
             ],
             [
              0.5555555555555556,
              "#d8576b"
             ],
             [
              0.6666666666666666,
              "#ed7953"
             ],
             [
              0.7777777777777778,
              "#fb9f3a"
             ],
             [
              0.8888888888888888,
              "#fdca26"
             ],
             [
              1,
              "#f0f921"
             ]
            ],
            "type": "surface"
           }
          ],
          "table": [
           {
            "cells": {
             "fill": {
              "color": "#EBF0F8"
             },
             "line": {
              "color": "white"
             }
            },
            "header": {
             "fill": {
              "color": "#C8D4E3"
             },
             "line": {
              "color": "white"
             }
            },
            "type": "table"
           }
          ]
         },
         "layout": {
          "annotationdefaults": {
           "arrowcolor": "#2a3f5f",
           "arrowhead": 0,
           "arrowwidth": 1
          },
          "autotypenumbers": "strict",
          "coloraxis": {
           "colorbar": {
            "outlinewidth": 0,
            "ticks": ""
           }
          },
          "colorscale": {
           "diverging": [
            [
             0,
             "#8e0152"
            ],
            [
             0.1,
             "#c51b7d"
            ],
            [
             0.2,
             "#de77ae"
            ],
            [
             0.3,
             "#f1b6da"
            ],
            [
             0.4,
             "#fde0ef"
            ],
            [
             0.5,
             "#f7f7f7"
            ],
            [
             0.6,
             "#e6f5d0"
            ],
            [
             0.7,
             "#b8e186"
            ],
            [
             0.8,
             "#7fbc41"
            ],
            [
             0.9,
             "#4d9221"
            ],
            [
             1,
             "#276419"
            ]
           ],
           "sequential": [
            [
             0,
             "#0d0887"
            ],
            [
             0.1111111111111111,
             "#46039f"
            ],
            [
             0.2222222222222222,
             "#7201a8"
            ],
            [
             0.3333333333333333,
             "#9c179e"
            ],
            [
             0.4444444444444444,
             "#bd3786"
            ],
            [
             0.5555555555555556,
             "#d8576b"
            ],
            [
             0.6666666666666666,
             "#ed7953"
            ],
            [
             0.7777777777777778,
             "#fb9f3a"
            ],
            [
             0.8888888888888888,
             "#fdca26"
            ],
            [
             1,
             "#f0f921"
            ]
           ],
           "sequentialminus": [
            [
             0,
             "#0d0887"
            ],
            [
             0.1111111111111111,
             "#46039f"
            ],
            [
             0.2222222222222222,
             "#7201a8"
            ],
            [
             0.3333333333333333,
             "#9c179e"
            ],
            [
             0.4444444444444444,
             "#bd3786"
            ],
            [
             0.5555555555555556,
             "#d8576b"
            ],
            [
             0.6666666666666666,
             "#ed7953"
            ],
            [
             0.7777777777777778,
             "#fb9f3a"
            ],
            [
             0.8888888888888888,
             "#fdca26"
            ],
            [
             1,
             "#f0f921"
            ]
           ]
          },
          "colorway": [
           "#636efa",
           "#EF553B",
           "#00cc96",
           "#ab63fa",
           "#FFA15A",
           "#19d3f3",
           "#FF6692",
           "#B6E880",
           "#FF97FF",
           "#FECB52"
          ],
          "font": {
           "color": "#2a3f5f"
          },
          "geo": {
           "bgcolor": "white",
           "lakecolor": "white",
           "landcolor": "white",
           "showlakes": true,
           "showland": true,
           "subunitcolor": "#C8D4E3"
          },
          "hoverlabel": {
           "align": "left"
          },
          "hovermode": "closest",
          "mapbox": {
           "style": "light"
          },
          "paper_bgcolor": "white",
          "plot_bgcolor": "white",
          "polar": {
           "angularaxis": {
            "gridcolor": "#EBF0F8",
            "linecolor": "#EBF0F8",
            "ticks": ""
           },
           "bgcolor": "white",
           "radialaxis": {
            "gridcolor": "#EBF0F8",
            "linecolor": "#EBF0F8",
            "ticks": ""
           }
          },
          "scene": {
           "xaxis": {
            "backgroundcolor": "white",
            "gridcolor": "#DFE8F3",
            "gridwidth": 2,
            "linecolor": "#EBF0F8",
            "showbackground": true,
            "ticks": "",
            "zerolinecolor": "#EBF0F8"
           },
           "yaxis": {
            "backgroundcolor": "white",
            "gridcolor": "#DFE8F3",
            "gridwidth": 2,
            "linecolor": "#EBF0F8",
            "showbackground": true,
            "ticks": "",
            "zerolinecolor": "#EBF0F8"
           },
           "zaxis": {
            "backgroundcolor": "white",
            "gridcolor": "#DFE8F3",
            "gridwidth": 2,
            "linecolor": "#EBF0F8",
            "showbackground": true,
            "ticks": "",
            "zerolinecolor": "#EBF0F8"
           }
          },
          "shapedefaults": {
           "line": {
            "color": "#2a3f5f"
           }
          },
          "ternary": {
           "aaxis": {
            "gridcolor": "#DFE8F3",
            "linecolor": "#A2B1C6",
            "ticks": ""
           },
           "baxis": {
            "gridcolor": "#DFE8F3",
            "linecolor": "#A2B1C6",
            "ticks": ""
           },
           "bgcolor": "white",
           "caxis": {
            "gridcolor": "#DFE8F3",
            "linecolor": "#A2B1C6",
            "ticks": ""
           }
          },
          "title": {
           "x": 0.05
          },
          "xaxis": {
           "automargin": true,
           "gridcolor": "#EBF0F8",
           "linecolor": "#EBF0F8",
           "ticks": "",
           "title": {
            "standoff": 15
           },
           "zerolinecolor": "#EBF0F8",
           "zerolinewidth": 2
          },
          "yaxis": {
           "automargin": true,
           "gridcolor": "#EBF0F8",
           "linecolor": "#EBF0F8",
           "ticks": "",
           "title": {
            "standoff": 15
           },
           "zerolinecolor": "#EBF0F8",
           "zerolinewidth": 2
          }
         }
        },
        "title": {
         "text": "Correlation Matrix"
        },
        "xaxis": {
         "title": {
          "text": "Features"
         }
        },
        "yaxis": {
         "title": {
          "text": "Features"
         }
        }
       }
      }
     },
     "metadata": {},
     "output_type": "display_data"
    }
   ],
   "source": [
    "#the correlation between all the features:\n",
    "\n",
    "corr_matrix = df.corr()\n",
    "\n",
    "fig = go.Figure(data=go.Heatmap(z=corr_matrix.values,\n",
    "                               x=corr_matrix.columns,\n",
    "                               y=corr_matrix.index,\n",
    "                               colorscale='RdBu',\n",
    "                               zmin=-1,\n",
    "                               zmax=1))\n",
    "\n",
    "fig.update_layout(title='Correlation Matrix',\n",
    "                  xaxis_title='Features',\n",
    "                  yaxis_title='Features')\n",
    "\n",
    "fig.show()"
   ]
  },
  {
   "cell_type": "code",
   "execution_count": 45,
   "metadata": {},
   "outputs": [
    {
     "data": {
      "application/vnd.plotly.v1+json": {
       "config": {
        "plotlyServerURL": "https://plot.ly"
       },
       "data": [
        {
         "alignmentgroup": "True",
         "hovertemplate": "Hashtag=%{x}<br>Count=%{y}<extra></extra>",
         "legendgroup": "",
         "marker": {
          "color": "#636efa",
          "pattern": {
           "shape": ""
          }
         },
         "name": "",
         "offsetgroup": "",
         "orientation": "v",
         "showlegend": false,
         "textposition": "auto",
         "type": "bar",
         "x": [
          "#thecleverprogrammer",
          "#amankharwal",
          "#python",
          "#machinelearning",
          "#pythonprogramming",
          "#datascience",
          "#ai",
          "#pythonprojects",
          "#artificialintelligence",
          "#data",
          "#dataanalytics",
          "#datascientist",
          "#pythoncode",
          "#dataanalysis",
          "#deeplearning",
          "#datascienceprojects",
          "#machinelearningprojects",
          "#programming",
          "#technology",
          "#coding",
          "#tech",
          "#computerscience",
          "#bigdata",
          "#pythonlearning",
          "#pythoncoding",
          "#pythondeveloper",
          "#datavisualization",
          "#pythonprogrammer",
          "#analytics",
          "#business",
          "#statistics",
          "#machinelearningalgorithms",
          "#dataanalyst",
          "#webdevelopment",
          "#algorithm",
          "#software",
          "#naturallanguageprocessing",
          "#algorithms",
          "#nlp",
          "#neuralnetwork",
          "#ml",
          "#database",
          "#javascript",
          "#code",
          "#coder",
          "#programmer",
          "#java",
          "#softwaredeveloper",
          "#codinglife",
          "#sentimentanalysis",
          "#sentiment",
          "#webdeveloper",
          "#css",
          "#html",
          "#machinelearningmodels",
          "#developer",
          "#timeseriesanalysis",
          "#iot",
          "#analysis",
          "#timeseriesmalaysia",
          "#businessintelligence",
          "#datasciencejobs",
          "#datasciencetraining",
          "#datascienceeducation",
          "#datasciencecourse",
          "#datamining",
          "#time",
          "#timeseries",
          "#php",
          "#programminglife",
          "#hacking",
          "#programmingmemes",
          "#programmers",
          "#neuralnetworks",
          "#webdesign",
          "#dataviz",
          "#linux",
          "#casestudy",
          "#businessmodel",
          "#zomato",
          "#money",
          "#interview",
          "#finance",
          "#powerbi",
          "#tensorflow",
          "#job",
          "#artificialintelligenceai",
          "#investing",
          "#trading",
          "#stockmarket",
          "#healthcare",
          "#health",
          "#covid",
          "#investment",
          "#cryptocurrency",
          "#bitcoin",
          "#dataanalysisprojects",
          "#businessanalytics",
          "#python3",
          "#roadmap",
          "#codinginterview",
          "#pythonprogramminglanguage",
          "#otp",
          "#innovation",
          "#recommendationsystem",
          "#recommendations",
          "#recommended",
          "#otpverification",
          "#projects",
          "#casestudies",
          "#amazonfinds",
          "#security",
          "#cybersecurity",
          "#network",
          "#internet",
          "#cloud",
          "#recommendation",
          "#careergoals",
          "#jobsearch",
          "#work",
          "#tableau",
          "#stocks",
          "#forex",
          "#candlestick",
          "#candlestickcharts",
          "#career",
          "#jobs",
          "#stressdetection",
          "#education",
          "#success",
          "#motivation",
          "#clustering",
          "#careerdevelopment",
          "#careeradvice",
          "#digitalmarketing",
          "#media",
          "#socialmedia",
          "#IT",
          "#marketing",
          "#students",
          "#resume",
          "#goals",
          "#careers",
          "#stress",
          "#sql",
          "#pythonbooks",
          "#mysql",
          "#softskills",
          "#instagramreach",
          "#instagram",
          "#ukraine",
          "#pythonprogram",
          "#whatsapp",
          "@codergallery",
          "#google",
          "#news",
          "#flipkart",
          "#bookstagram",
          "#alexnet",
          "#bigdataanalytics",
          "#qrcodes",
          "#datascienceinterview",
          "#facebook",
          "#boxplots"
         ],
         "xaxis": "x",
         "y": [
          117,
          117,
          109,
          97,
          95,
          94,
          91,
          90,
          89,
          88,
          87,
          83,
          78,
          77,
          75,
          43,
          43,
          26,
          25,
          24,
          23,
          21,
          20,
          19,
          19,
          19,
          19,
          19,
          16,
          16,
          14,
          13,
          12,
          10,
          9,
          9,
          9,
          9,
          9,
          8,
          8,
          7,
          7,
          7,
          7,
          7,
          7,
          7,
          7,
          7,
          7,
          7,
          7,
          7,
          7,
          7,
          6,
          6,
          6,
          6,
          6,
          6,
          6,
          6,
          6,
          6,
          6,
          6,
          5,
          5,
          5,
          5,
          5,
          5,
          5,
          5,
          5,
          4,
          4,
          4,
          4,
          4,
          4,
          4,
          4,
          4,
          4,
          4,
          3,
          3,
          3,
          3,
          3,
          3,
          3,
          3,
          3,
          3,
          2,
          2,
          2,
          2,
          2,
          2,
          2,
          2,
          2,
          2,
          2,
          2,
          2,
          2,
          2,
          2,
          2,
          2,
          2,
          2,
          2,
          2,
          2,
          2,
          2,
          2,
          2,
          2,
          2,
          2,
          2,
          2,
          2,
          2,
          2,
          2,
          2,
          2,
          2,
          2,
          2,
          2,
          2,
          2,
          2,
          2,
          1,
          1,
          1,
          1,
          1,
          1,
          1,
          1,
          1,
          1,
          1,
          1,
          1,
          1,
          1,
          1,
          1,
          1,
          1,
          1
         ],
         "yaxis": "y"
        }
       ],
       "layout": {
        "barmode": "relative",
        "legend": {
         "tracegroupgap": 0
        },
        "template": {
         "data": {
          "bar": [
           {
            "error_x": {
             "color": "#2a3f5f"
            },
            "error_y": {
             "color": "#2a3f5f"
            },
            "marker": {
             "line": {
              "color": "white",
              "width": 0.5
             },
             "pattern": {
              "fillmode": "overlay",
              "size": 10,
              "solidity": 0.2
             }
            },
            "type": "bar"
           }
          ],
          "barpolar": [
           {
            "marker": {
             "line": {
              "color": "white",
              "width": 0.5
             },
             "pattern": {
              "fillmode": "overlay",
              "size": 10,
              "solidity": 0.2
             }
            },
            "type": "barpolar"
           }
          ],
          "carpet": [
           {
            "aaxis": {
             "endlinecolor": "#2a3f5f",
             "gridcolor": "#C8D4E3",
             "linecolor": "#C8D4E3",
             "minorgridcolor": "#C8D4E3",
             "startlinecolor": "#2a3f5f"
            },
            "baxis": {
             "endlinecolor": "#2a3f5f",
             "gridcolor": "#C8D4E3",
             "linecolor": "#C8D4E3",
             "minorgridcolor": "#C8D4E3",
             "startlinecolor": "#2a3f5f"
            },
            "type": "carpet"
           }
          ],
          "choropleth": [
           {
            "colorbar": {
             "outlinewidth": 0,
             "ticks": ""
            },
            "type": "choropleth"
           }
          ],
          "contour": [
           {
            "colorbar": {
             "outlinewidth": 0,
             "ticks": ""
            },
            "colorscale": [
             [
              0,
              "#0d0887"
             ],
             [
              0.1111111111111111,
              "#46039f"
             ],
             [
              0.2222222222222222,
              "#7201a8"
             ],
             [
              0.3333333333333333,
              "#9c179e"
             ],
             [
              0.4444444444444444,
              "#bd3786"
             ],
             [
              0.5555555555555556,
              "#d8576b"
             ],
             [
              0.6666666666666666,
              "#ed7953"
             ],
             [
              0.7777777777777778,
              "#fb9f3a"
             ],
             [
              0.8888888888888888,
              "#fdca26"
             ],
             [
              1,
              "#f0f921"
             ]
            ],
            "type": "contour"
           }
          ],
          "contourcarpet": [
           {
            "colorbar": {
             "outlinewidth": 0,
             "ticks": ""
            },
            "type": "contourcarpet"
           }
          ],
          "heatmap": [
           {
            "colorbar": {
             "outlinewidth": 0,
             "ticks": ""
            },
            "colorscale": [
             [
              0,
              "#0d0887"
             ],
             [
              0.1111111111111111,
              "#46039f"
             ],
             [
              0.2222222222222222,
              "#7201a8"
             ],
             [
              0.3333333333333333,
              "#9c179e"
             ],
             [
              0.4444444444444444,
              "#bd3786"
             ],
             [
              0.5555555555555556,
              "#d8576b"
             ],
             [
              0.6666666666666666,
              "#ed7953"
             ],
             [
              0.7777777777777778,
              "#fb9f3a"
             ],
             [
              0.8888888888888888,
              "#fdca26"
             ],
             [
              1,
              "#f0f921"
             ]
            ],
            "type": "heatmap"
           }
          ],
          "heatmapgl": [
           {
            "colorbar": {
             "outlinewidth": 0,
             "ticks": ""
            },
            "colorscale": [
             [
              0,
              "#0d0887"
             ],
             [
              0.1111111111111111,
              "#46039f"
             ],
             [
              0.2222222222222222,
              "#7201a8"
             ],
             [
              0.3333333333333333,
              "#9c179e"
             ],
             [
              0.4444444444444444,
              "#bd3786"
             ],
             [
              0.5555555555555556,
              "#d8576b"
             ],
             [
              0.6666666666666666,
              "#ed7953"
             ],
             [
              0.7777777777777778,
              "#fb9f3a"
             ],
             [
              0.8888888888888888,
              "#fdca26"
             ],
             [
              1,
              "#f0f921"
             ]
            ],
            "type": "heatmapgl"
           }
          ],
          "histogram": [
           {
            "marker": {
             "pattern": {
              "fillmode": "overlay",
              "size": 10,
              "solidity": 0.2
             }
            },
            "type": "histogram"
           }
          ],
          "histogram2d": [
           {
            "colorbar": {
             "outlinewidth": 0,
             "ticks": ""
            },
            "colorscale": [
             [
              0,
              "#0d0887"
             ],
             [
              0.1111111111111111,
              "#46039f"
             ],
             [
              0.2222222222222222,
              "#7201a8"
             ],
             [
              0.3333333333333333,
              "#9c179e"
             ],
             [
              0.4444444444444444,
              "#bd3786"
             ],
             [
              0.5555555555555556,
              "#d8576b"
             ],
             [
              0.6666666666666666,
              "#ed7953"
             ],
             [
              0.7777777777777778,
              "#fb9f3a"
             ],
             [
              0.8888888888888888,
              "#fdca26"
             ],
             [
              1,
              "#f0f921"
             ]
            ],
            "type": "histogram2d"
           }
          ],
          "histogram2dcontour": [
           {
            "colorbar": {
             "outlinewidth": 0,
             "ticks": ""
            },
            "colorscale": [
             [
              0,
              "#0d0887"
             ],
             [
              0.1111111111111111,
              "#46039f"
             ],
             [
              0.2222222222222222,
              "#7201a8"
             ],
             [
              0.3333333333333333,
              "#9c179e"
             ],
             [
              0.4444444444444444,
              "#bd3786"
             ],
             [
              0.5555555555555556,
              "#d8576b"
             ],
             [
              0.6666666666666666,
              "#ed7953"
             ],
             [
              0.7777777777777778,
              "#fb9f3a"
             ],
             [
              0.8888888888888888,
              "#fdca26"
             ],
             [
              1,
              "#f0f921"
             ]
            ],
            "type": "histogram2dcontour"
           }
          ],
          "mesh3d": [
           {
            "colorbar": {
             "outlinewidth": 0,
             "ticks": ""
            },
            "type": "mesh3d"
           }
          ],
          "parcoords": [
           {
            "line": {
             "colorbar": {
              "outlinewidth": 0,
              "ticks": ""
             }
            },
            "type": "parcoords"
           }
          ],
          "pie": [
           {
            "automargin": true,
            "type": "pie"
           }
          ],
          "scatter": [
           {
            "fillpattern": {
             "fillmode": "overlay",
             "size": 10,
             "solidity": 0.2
            },
            "type": "scatter"
           }
          ],
          "scatter3d": [
           {
            "line": {
             "colorbar": {
              "outlinewidth": 0,
              "ticks": ""
             }
            },
            "marker": {
             "colorbar": {
              "outlinewidth": 0,
              "ticks": ""
             }
            },
            "type": "scatter3d"
           }
          ],
          "scattercarpet": [
           {
            "marker": {
             "colorbar": {
              "outlinewidth": 0,
              "ticks": ""
             }
            },
            "type": "scattercarpet"
           }
          ],
          "scattergeo": [
           {
            "marker": {
             "colorbar": {
              "outlinewidth": 0,
              "ticks": ""
             }
            },
            "type": "scattergeo"
           }
          ],
          "scattergl": [
           {
            "marker": {
             "colorbar": {
              "outlinewidth": 0,
              "ticks": ""
             }
            },
            "type": "scattergl"
           }
          ],
          "scattermapbox": [
           {
            "marker": {
             "colorbar": {
              "outlinewidth": 0,
              "ticks": ""
             }
            },
            "type": "scattermapbox"
           }
          ],
          "scatterpolar": [
           {
            "marker": {
             "colorbar": {
              "outlinewidth": 0,
              "ticks": ""
             }
            },
            "type": "scatterpolar"
           }
          ],
          "scatterpolargl": [
           {
            "marker": {
             "colorbar": {
              "outlinewidth": 0,
              "ticks": ""
             }
            },
            "type": "scatterpolargl"
           }
          ],
          "scatterternary": [
           {
            "marker": {
             "colorbar": {
              "outlinewidth": 0,
              "ticks": ""
             }
            },
            "type": "scatterternary"
           }
          ],
          "surface": [
           {
            "colorbar": {
             "outlinewidth": 0,
             "ticks": ""
            },
            "colorscale": [
             [
              0,
              "#0d0887"
             ],
             [
              0.1111111111111111,
              "#46039f"
             ],
             [
              0.2222222222222222,
              "#7201a8"
             ],
             [
              0.3333333333333333,
              "#9c179e"
             ],
             [
              0.4444444444444444,
              "#bd3786"
             ],
             [
              0.5555555555555556,
              "#d8576b"
             ],
             [
              0.6666666666666666,
              "#ed7953"
             ],
             [
              0.7777777777777778,
              "#fb9f3a"
             ],
             [
              0.8888888888888888,
              "#fdca26"
             ],
             [
              1,
              "#f0f921"
             ]
            ],
            "type": "surface"
           }
          ],
          "table": [
           {
            "cells": {
             "fill": {
              "color": "#EBF0F8"
             },
             "line": {
              "color": "white"
             }
            },
            "header": {
             "fill": {
              "color": "#C8D4E3"
             },
             "line": {
              "color": "white"
             }
            },
            "type": "table"
           }
          ]
         },
         "layout": {
          "annotationdefaults": {
           "arrowcolor": "#2a3f5f",
           "arrowhead": 0,
           "arrowwidth": 1
          },
          "autotypenumbers": "strict",
          "coloraxis": {
           "colorbar": {
            "outlinewidth": 0,
            "ticks": ""
           }
          },
          "colorscale": {
           "diverging": [
            [
             0,
             "#8e0152"
            ],
            [
             0.1,
             "#c51b7d"
            ],
            [
             0.2,
             "#de77ae"
            ],
            [
             0.3,
             "#f1b6da"
            ],
            [
             0.4,
             "#fde0ef"
            ],
            [
             0.5,
             "#f7f7f7"
            ],
            [
             0.6,
             "#e6f5d0"
            ],
            [
             0.7,
             "#b8e186"
            ],
            [
             0.8,
             "#7fbc41"
            ],
            [
             0.9,
             "#4d9221"
            ],
            [
             1,
             "#276419"
            ]
           ],
           "sequential": [
            [
             0,
             "#0d0887"
            ],
            [
             0.1111111111111111,
             "#46039f"
            ],
            [
             0.2222222222222222,
             "#7201a8"
            ],
            [
             0.3333333333333333,
             "#9c179e"
            ],
            [
             0.4444444444444444,
             "#bd3786"
            ],
            [
             0.5555555555555556,
             "#d8576b"
            ],
            [
             0.6666666666666666,
             "#ed7953"
            ],
            [
             0.7777777777777778,
             "#fb9f3a"
            ],
            [
             0.8888888888888888,
             "#fdca26"
            ],
            [
             1,
             "#f0f921"
            ]
           ],
           "sequentialminus": [
            [
             0,
             "#0d0887"
            ],
            [
             0.1111111111111111,
             "#46039f"
            ],
            [
             0.2222222222222222,
             "#7201a8"
            ],
            [
             0.3333333333333333,
             "#9c179e"
            ],
            [
             0.4444444444444444,
             "#bd3786"
            ],
            [
             0.5555555555555556,
             "#d8576b"
            ],
            [
             0.6666666666666666,
             "#ed7953"
            ],
            [
             0.7777777777777778,
             "#fb9f3a"
            ],
            [
             0.8888888888888888,
             "#fdca26"
            ],
            [
             1,
             "#f0f921"
            ]
           ]
          },
          "colorway": [
           "#636efa",
           "#EF553B",
           "#00cc96",
           "#ab63fa",
           "#FFA15A",
           "#19d3f3",
           "#FF6692",
           "#B6E880",
           "#FF97FF",
           "#FECB52"
          ],
          "font": {
           "color": "#2a3f5f"
          },
          "geo": {
           "bgcolor": "white",
           "lakecolor": "white",
           "landcolor": "white",
           "showlakes": true,
           "showland": true,
           "subunitcolor": "#C8D4E3"
          },
          "hoverlabel": {
           "align": "left"
          },
          "hovermode": "closest",
          "mapbox": {
           "style": "light"
          },
          "paper_bgcolor": "white",
          "plot_bgcolor": "white",
          "polar": {
           "angularaxis": {
            "gridcolor": "#EBF0F8",
            "linecolor": "#EBF0F8",
            "ticks": ""
           },
           "bgcolor": "white",
           "radialaxis": {
            "gridcolor": "#EBF0F8",
            "linecolor": "#EBF0F8",
            "ticks": ""
           }
          },
          "scene": {
           "xaxis": {
            "backgroundcolor": "white",
            "gridcolor": "#DFE8F3",
            "gridwidth": 2,
            "linecolor": "#EBF0F8",
            "showbackground": true,
            "ticks": "",
            "zerolinecolor": "#EBF0F8"
           },
           "yaxis": {
            "backgroundcolor": "white",
            "gridcolor": "#DFE8F3",
            "gridwidth": 2,
            "linecolor": "#EBF0F8",
            "showbackground": true,
            "ticks": "",
            "zerolinecolor": "#EBF0F8"
           },
           "zaxis": {
            "backgroundcolor": "white",
            "gridcolor": "#DFE8F3",
            "gridwidth": 2,
            "linecolor": "#EBF0F8",
            "showbackground": true,
            "ticks": "",
            "zerolinecolor": "#EBF0F8"
           }
          },
          "shapedefaults": {
           "line": {
            "color": "#2a3f5f"
           }
          },
          "ternary": {
           "aaxis": {
            "gridcolor": "#DFE8F3",
            "linecolor": "#A2B1C6",
            "ticks": ""
           },
           "baxis": {
            "gridcolor": "#DFE8F3",
            "linecolor": "#A2B1C6",
            "ticks": ""
           },
           "bgcolor": "white",
           "caxis": {
            "gridcolor": "#DFE8F3",
            "linecolor": "#A2B1C6",
            "ticks": ""
           }
          },
          "title": {
           "x": 0.05
          },
          "xaxis": {
           "automargin": true,
           "gridcolor": "#EBF0F8",
           "linecolor": "#EBF0F8",
           "ticks": "",
           "title": {
            "standoff": 15
           },
           "zerolinecolor": "#EBF0F8",
           "zerolinewidth": 2
          },
          "yaxis": {
           "automargin": true,
           "gridcolor": "#EBF0F8",
           "linecolor": "#EBF0F8",
           "ticks": "",
           "title": {
            "standoff": 15
           },
           "zerolinecolor": "#EBF0F8",
           "zerolinewidth": 2
          }
         }
        },
        "title": {
         "text": "Distribution of Hashtags"
        },
        "xaxis": {
         "anchor": "y",
         "domain": [
          0,
          1
         ],
         "title": {
          "text": "Hashtag"
         }
        },
        "yaxis": {
         "anchor": "x",
         "domain": [
          0,
          1
         ],
         "title": {
          "text": "Count"
         }
        }
       }
      }
     },
     "metadata": {},
     "output_type": "display_data"
    }
   ],
   "source": [
    "# Create a list to store all hashtags\n",
    "all_hashtags = []\n",
    "\n",
    "# Iterate through each row in the 'Hashtags' column\n",
    "for row in df['Hashtags']:\n",
    "    hashtags = str(row).split()\n",
    "    hashtags = [tag.strip() for tag in hashtags]\n",
    "    all_hashtags.extend(hashtags)\n",
    "\n",
    "# Create a pandas DataFrame to store the hashtag distribution\n",
    "hashtag_distribution = pd.Series(all_hashtags).value_counts().reset_index()\n",
    "hashtag_distribution.columns = ['Hashtag', 'Count']\n",
    "\n",
    "fig = px.bar(hashtag_distribution, x='Hashtag', \n",
    "             y='Count', title='Distribution of Hashtags')\n",
    "fig.show()"
   ]
  },
  {
   "cell_type": "code",
   "execution_count": 46,
   "metadata": {},
   "outputs": [
    {
     "data": {
      "application/vnd.plotly.v1+json": {
       "config": {
        "plotlyServerURL": "https://plot.ly"
       },
       "data": [
        {
         "alignmentgroup": "True",
         "hovertemplate": "Hashtag=%{x}<br>Likes=%{y}<extra></extra>",
         "legendgroup": "",
         "marker": {
          "color": "#636efa",
          "pattern": {
           "shape": ""
          }
         },
         "name": "",
         "offsetgroup": "",
         "orientation": "v",
         "showlegend": false,
         "textposition": "auto",
         "type": "bar",
         "x": [
          "#finance",
          "#money",
          "#business",
          "#investing",
          "#investment",
          "#trading",
          "#stockmarket",
          "#data",
          "#datascience",
          "#dataanalysis",
          "#dataanalytics",
          "#datascientist",
          "#machinelearning",
          "#python",
          "#pythonprogramming",
          "#pythonprojects",
          "#pythoncode",
          "#artificialintelligence",
          "#ai",
          "#dataanalyst",
          "#amankharwal",
          "#thecleverprogrammer",
          "#healthcare",
          "#health",
          "#covid",
          "#deeplearning",
          "#machinelearningprojects",
          "#datascienceprojects",
          "#machinelearningmodels",
          "#pythonlearning",
          "#pythondeveloper",
          "#pythoncoding",
          "#pythonprogrammer",
          "#datavisualization",
          "#bigdata",
          "#dataviz",
          "#analytics",
          "#technology",
          "#programming",
          "#statistics",
          "#coding",
          "#businessintelligence",
          "#datamining",
          "#tech",
          "#computerscience",
          "#tableau",
          "#database",
          "#algorithm",
          "#algorithms",
          "#machinelearningalgorithms",
          "#ml",
          "#softskills",
          "#stocks",
          "#forex",
          "#candlestick",
          "#candlestickcharts",
          "#pythonbooks",
          "#bookstagram",
          "#powerbi",
          "#dataanalysisprojects",
          "#businessanalytics",
          "#neuralnetwork",
          "#neuralnetworks",
          "#tensorflow",
          "#artificialintelligenceai",
          "#alexnet",
          "#sentimentanalysis",
          "#sentiment",
          "#nlp",
          "#naturallanguageprocessing",
          "#timeseries",
          "#time",
          "#timeseriesanalysis",
          "#iot",
          "#analysis",
          "#timeseriesmalaysia",
          "#career",
          "#job",
          "#jobs",
          "#jobsearch",
          "#education",
          "#success",
          "#careergoals",
          "#motivation",
          "#work",
          "#careerdevelopment",
          "#careers",
          "#goals",
          "#resume",
          "#students",
          "#careeradvice",
          "#marketing",
          "#digitalmarketing",
          "#media",
          "#socialmedia",
          "#IT",
          "#webdevelopment",
          "#stress",
          "#stressdetection",
          "#zomato",
          "#casestudy",
          "#businessmodel",
          "#boxplots",
          "#programmer",
          "#developer",
          "#javascript",
          "#code",
          "#coder",
          "#java",
          "#html",
          "#css",
          "#webdeveloper",
          "#software",
          "#codinglife",
          "#softwaredeveloper",
          "#linux",
          "#programmingmemes",
          "#webdesign",
          "#programmers",
          "#php",
          "#programminglife",
          "#hacking",
          "#bitcoin",
          "#cryptocurrency",
          "#projects",
          "#casestudies",
          "#amazonfinds",
          "#security",
          "#cybersecurity",
          "#network",
          "#internet",
          "#cloud",
          "#innovation",
          "#google",
          "#facebook",
          "#interview",
          "#datascienceinterview",
          "#otp",
          "#otpverification",
          "#qrcodes",
          "#bigdataanalytics",
          "#recommended",
          "#recommendations",
          "#recommendationsystem",
          "#recommendation",
          "#codinginterview",
          "#flipkart",
          "#news",
          "#pythonprogram",
          "@codergallery",
          "#whatsapp",
          "#roadmap",
          "#ukraine",
          "#instagram",
          "#instagramreach",
          "#datasciencejobs",
          "#datasciencetraining",
          "#datascienceeducation",
          "#datasciencecourse",
          "#sql",
          "#mysql",
          "#python3",
          "#pythonprogramminglanguage",
          "#clustering"
         ],
         "xaxis": "x",
         "y": [
          529,
          529,
          2012,
          529,
          380,
          380,
          380,
          15077,
          16311,
          13801,
          15283,
          14703,
          16509,
          18238,
          16251,
          16818,
          14239,
          15515,
          15733,
          1845,
          20462,
          20462,
          729,
          729,
          729,
          13204,
          8458,
          8458,
          761,
          3659,
          3659,
          3659,
          3659,
          2382,
          2671,
          567,
          2001,
          3187,
          3355,
          1766,
          3129,
          728,
          728,
          2961,
          2818,
          265,
          887,
          1615,
          1615,
          2065,
          1058,
          144,
          218,
          218,
          218,
          218,
          124,
          124,
          529,
          387,
          387,
          1120,
          600,
          450,
          450,
          81,
          1057,
          1057,
          1238,
          1238,
          812,
          812,
          812,
          812,
          812,
          812,
          410,
          680,
          410,
          410,
          410,
          410,
          410,
          410,
          410,
          410,
          410,
          410,
          410,
          410,
          410,
          410,
          410,
          410,
          410,
          410,
          1456,
          302,
          302,
          328,
          328,
          328,
          76,
          878,
          878,
          878,
          878,
          878,
          878,
          878,
          878,
          878,
          1113,
          878,
          878,
          608,
          608,
          608,
          608,
          608,
          608,
          608,
          390,
          390,
          302,
          302,
          184,
          235,
          235,
          235,
          235,
          235,
          235,
          150,
          85,
          600,
          180,
          272,
          272,
          167,
          142,
          373,
          373,
          373,
          373,
          270,
          94,
          96,
          118,
          118,
          178,
          525,
          203,
          171,
          171,
          1814,
          1814,
          1814,
          1814,
          308,
          308,
          296,
          296,
          240
         ],
         "yaxis": "y"
        }
       ],
       "layout": {
        "barmode": "relative",
        "legend": {
         "tracegroupgap": 0
        },
        "template": {
         "data": {
          "bar": [
           {
            "error_x": {
             "color": "#2a3f5f"
            },
            "error_y": {
             "color": "#2a3f5f"
            },
            "marker": {
             "line": {
              "color": "white",
              "width": 0.5
             },
             "pattern": {
              "fillmode": "overlay",
              "size": 10,
              "solidity": 0.2
             }
            },
            "type": "bar"
           }
          ],
          "barpolar": [
           {
            "marker": {
             "line": {
              "color": "white",
              "width": 0.5
             },
             "pattern": {
              "fillmode": "overlay",
              "size": 10,
              "solidity": 0.2
             }
            },
            "type": "barpolar"
           }
          ],
          "carpet": [
           {
            "aaxis": {
             "endlinecolor": "#2a3f5f",
             "gridcolor": "#C8D4E3",
             "linecolor": "#C8D4E3",
             "minorgridcolor": "#C8D4E3",
             "startlinecolor": "#2a3f5f"
            },
            "baxis": {
             "endlinecolor": "#2a3f5f",
             "gridcolor": "#C8D4E3",
             "linecolor": "#C8D4E3",
             "minorgridcolor": "#C8D4E3",
             "startlinecolor": "#2a3f5f"
            },
            "type": "carpet"
           }
          ],
          "choropleth": [
           {
            "colorbar": {
             "outlinewidth": 0,
             "ticks": ""
            },
            "type": "choropleth"
           }
          ],
          "contour": [
           {
            "colorbar": {
             "outlinewidth": 0,
             "ticks": ""
            },
            "colorscale": [
             [
              0,
              "#0d0887"
             ],
             [
              0.1111111111111111,
              "#46039f"
             ],
             [
              0.2222222222222222,
              "#7201a8"
             ],
             [
              0.3333333333333333,
              "#9c179e"
             ],
             [
              0.4444444444444444,
              "#bd3786"
             ],
             [
              0.5555555555555556,
              "#d8576b"
             ],
             [
              0.6666666666666666,
              "#ed7953"
             ],
             [
              0.7777777777777778,
              "#fb9f3a"
             ],
             [
              0.8888888888888888,
              "#fdca26"
             ],
             [
              1,
              "#f0f921"
             ]
            ],
            "type": "contour"
           }
          ],
          "contourcarpet": [
           {
            "colorbar": {
             "outlinewidth": 0,
             "ticks": ""
            },
            "type": "contourcarpet"
           }
          ],
          "heatmap": [
           {
            "colorbar": {
             "outlinewidth": 0,
             "ticks": ""
            },
            "colorscale": [
             [
              0,
              "#0d0887"
             ],
             [
              0.1111111111111111,
              "#46039f"
             ],
             [
              0.2222222222222222,
              "#7201a8"
             ],
             [
              0.3333333333333333,
              "#9c179e"
             ],
             [
              0.4444444444444444,
              "#bd3786"
             ],
             [
              0.5555555555555556,
              "#d8576b"
             ],
             [
              0.6666666666666666,
              "#ed7953"
             ],
             [
              0.7777777777777778,
              "#fb9f3a"
             ],
             [
              0.8888888888888888,
              "#fdca26"
             ],
             [
              1,
              "#f0f921"
             ]
            ],
            "type": "heatmap"
           }
          ],
          "heatmapgl": [
           {
            "colorbar": {
             "outlinewidth": 0,
             "ticks": ""
            },
            "colorscale": [
             [
              0,
              "#0d0887"
             ],
             [
              0.1111111111111111,
              "#46039f"
             ],
             [
              0.2222222222222222,
              "#7201a8"
             ],
             [
              0.3333333333333333,
              "#9c179e"
             ],
             [
              0.4444444444444444,
              "#bd3786"
             ],
             [
              0.5555555555555556,
              "#d8576b"
             ],
             [
              0.6666666666666666,
              "#ed7953"
             ],
             [
              0.7777777777777778,
              "#fb9f3a"
             ],
             [
              0.8888888888888888,
              "#fdca26"
             ],
             [
              1,
              "#f0f921"
             ]
            ],
            "type": "heatmapgl"
           }
          ],
          "histogram": [
           {
            "marker": {
             "pattern": {
              "fillmode": "overlay",
              "size": 10,
              "solidity": 0.2
             }
            },
            "type": "histogram"
           }
          ],
          "histogram2d": [
           {
            "colorbar": {
             "outlinewidth": 0,
             "ticks": ""
            },
            "colorscale": [
             [
              0,
              "#0d0887"
             ],
             [
              0.1111111111111111,
              "#46039f"
             ],
             [
              0.2222222222222222,
              "#7201a8"
             ],
             [
              0.3333333333333333,
              "#9c179e"
             ],
             [
              0.4444444444444444,
              "#bd3786"
             ],
             [
              0.5555555555555556,
              "#d8576b"
             ],
             [
              0.6666666666666666,
              "#ed7953"
             ],
             [
              0.7777777777777778,
              "#fb9f3a"
             ],
             [
              0.8888888888888888,
              "#fdca26"
             ],
             [
              1,
              "#f0f921"
             ]
            ],
            "type": "histogram2d"
           }
          ],
          "histogram2dcontour": [
           {
            "colorbar": {
             "outlinewidth": 0,
             "ticks": ""
            },
            "colorscale": [
             [
              0,
              "#0d0887"
             ],
             [
              0.1111111111111111,
              "#46039f"
             ],
             [
              0.2222222222222222,
              "#7201a8"
             ],
             [
              0.3333333333333333,
              "#9c179e"
             ],
             [
              0.4444444444444444,
              "#bd3786"
             ],
             [
              0.5555555555555556,
              "#d8576b"
             ],
             [
              0.6666666666666666,
              "#ed7953"
             ],
             [
              0.7777777777777778,
              "#fb9f3a"
             ],
             [
              0.8888888888888888,
              "#fdca26"
             ],
             [
              1,
              "#f0f921"
             ]
            ],
            "type": "histogram2dcontour"
           }
          ],
          "mesh3d": [
           {
            "colorbar": {
             "outlinewidth": 0,
             "ticks": ""
            },
            "type": "mesh3d"
           }
          ],
          "parcoords": [
           {
            "line": {
             "colorbar": {
              "outlinewidth": 0,
              "ticks": ""
             }
            },
            "type": "parcoords"
           }
          ],
          "pie": [
           {
            "automargin": true,
            "type": "pie"
           }
          ],
          "scatter": [
           {
            "fillpattern": {
             "fillmode": "overlay",
             "size": 10,
             "solidity": 0.2
            },
            "type": "scatter"
           }
          ],
          "scatter3d": [
           {
            "line": {
             "colorbar": {
              "outlinewidth": 0,
              "ticks": ""
             }
            },
            "marker": {
             "colorbar": {
              "outlinewidth": 0,
              "ticks": ""
             }
            },
            "type": "scatter3d"
           }
          ],
          "scattercarpet": [
           {
            "marker": {
             "colorbar": {
              "outlinewidth": 0,
              "ticks": ""
             }
            },
            "type": "scattercarpet"
           }
          ],
          "scattergeo": [
           {
            "marker": {
             "colorbar": {
              "outlinewidth": 0,
              "ticks": ""
             }
            },
            "type": "scattergeo"
           }
          ],
          "scattergl": [
           {
            "marker": {
             "colorbar": {
              "outlinewidth": 0,
              "ticks": ""
             }
            },
            "type": "scattergl"
           }
          ],
          "scattermapbox": [
           {
            "marker": {
             "colorbar": {
              "outlinewidth": 0,
              "ticks": ""
             }
            },
            "type": "scattermapbox"
           }
          ],
          "scatterpolar": [
           {
            "marker": {
             "colorbar": {
              "outlinewidth": 0,
              "ticks": ""
             }
            },
            "type": "scatterpolar"
           }
          ],
          "scatterpolargl": [
           {
            "marker": {
             "colorbar": {
              "outlinewidth": 0,
              "ticks": ""
             }
            },
            "type": "scatterpolargl"
           }
          ],
          "scatterternary": [
           {
            "marker": {
             "colorbar": {
              "outlinewidth": 0,
              "ticks": ""
             }
            },
            "type": "scatterternary"
           }
          ],
          "surface": [
           {
            "colorbar": {
             "outlinewidth": 0,
             "ticks": ""
            },
            "colorscale": [
             [
              0,
              "#0d0887"
             ],
             [
              0.1111111111111111,
              "#46039f"
             ],
             [
              0.2222222222222222,
              "#7201a8"
             ],
             [
              0.3333333333333333,
              "#9c179e"
             ],
             [
              0.4444444444444444,
              "#bd3786"
             ],
             [
              0.5555555555555556,
              "#d8576b"
             ],
             [
              0.6666666666666666,
              "#ed7953"
             ],
             [
              0.7777777777777778,
              "#fb9f3a"
             ],
             [
              0.8888888888888888,
              "#fdca26"
             ],
             [
              1,
              "#f0f921"
             ]
            ],
            "type": "surface"
           }
          ],
          "table": [
           {
            "cells": {
             "fill": {
              "color": "#EBF0F8"
             },
             "line": {
              "color": "white"
             }
            },
            "header": {
             "fill": {
              "color": "#C8D4E3"
             },
             "line": {
              "color": "white"
             }
            },
            "type": "table"
           }
          ]
         },
         "layout": {
          "annotationdefaults": {
           "arrowcolor": "#2a3f5f",
           "arrowhead": 0,
           "arrowwidth": 1
          },
          "autotypenumbers": "strict",
          "coloraxis": {
           "colorbar": {
            "outlinewidth": 0,
            "ticks": ""
           }
          },
          "colorscale": {
           "diverging": [
            [
             0,
             "#8e0152"
            ],
            [
             0.1,
             "#c51b7d"
            ],
            [
             0.2,
             "#de77ae"
            ],
            [
             0.3,
             "#f1b6da"
            ],
            [
             0.4,
             "#fde0ef"
            ],
            [
             0.5,
             "#f7f7f7"
            ],
            [
             0.6,
             "#e6f5d0"
            ],
            [
             0.7,
             "#b8e186"
            ],
            [
             0.8,
             "#7fbc41"
            ],
            [
             0.9,
             "#4d9221"
            ],
            [
             1,
             "#276419"
            ]
           ],
           "sequential": [
            [
             0,
             "#0d0887"
            ],
            [
             0.1111111111111111,
             "#46039f"
            ],
            [
             0.2222222222222222,
             "#7201a8"
            ],
            [
             0.3333333333333333,
             "#9c179e"
            ],
            [
             0.4444444444444444,
             "#bd3786"
            ],
            [
             0.5555555555555556,
             "#d8576b"
            ],
            [
             0.6666666666666666,
             "#ed7953"
            ],
            [
             0.7777777777777778,
             "#fb9f3a"
            ],
            [
             0.8888888888888888,
             "#fdca26"
            ],
            [
             1,
             "#f0f921"
            ]
           ],
           "sequentialminus": [
            [
             0,
             "#0d0887"
            ],
            [
             0.1111111111111111,
             "#46039f"
            ],
            [
             0.2222222222222222,
             "#7201a8"
            ],
            [
             0.3333333333333333,
             "#9c179e"
            ],
            [
             0.4444444444444444,
             "#bd3786"
            ],
            [
             0.5555555555555556,
             "#d8576b"
            ],
            [
             0.6666666666666666,
             "#ed7953"
            ],
            [
             0.7777777777777778,
             "#fb9f3a"
            ],
            [
             0.8888888888888888,
             "#fdca26"
            ],
            [
             1,
             "#f0f921"
            ]
           ]
          },
          "colorway": [
           "#636efa",
           "#EF553B",
           "#00cc96",
           "#ab63fa",
           "#FFA15A",
           "#19d3f3",
           "#FF6692",
           "#B6E880",
           "#FF97FF",
           "#FECB52"
          ],
          "font": {
           "color": "#2a3f5f"
          },
          "geo": {
           "bgcolor": "white",
           "lakecolor": "white",
           "landcolor": "white",
           "showlakes": true,
           "showland": true,
           "subunitcolor": "#C8D4E3"
          },
          "hoverlabel": {
           "align": "left"
          },
          "hovermode": "closest",
          "mapbox": {
           "style": "light"
          },
          "paper_bgcolor": "white",
          "plot_bgcolor": "white",
          "polar": {
           "angularaxis": {
            "gridcolor": "#EBF0F8",
            "linecolor": "#EBF0F8",
            "ticks": ""
           },
           "bgcolor": "white",
           "radialaxis": {
            "gridcolor": "#EBF0F8",
            "linecolor": "#EBF0F8",
            "ticks": ""
           }
          },
          "scene": {
           "xaxis": {
            "backgroundcolor": "white",
            "gridcolor": "#DFE8F3",
            "gridwidth": 2,
            "linecolor": "#EBF0F8",
            "showbackground": true,
            "ticks": "",
            "zerolinecolor": "#EBF0F8"
           },
           "yaxis": {
            "backgroundcolor": "white",
            "gridcolor": "#DFE8F3",
            "gridwidth": 2,
            "linecolor": "#EBF0F8",
            "showbackground": true,
            "ticks": "",
            "zerolinecolor": "#EBF0F8"
           },
           "zaxis": {
            "backgroundcolor": "white",
            "gridcolor": "#DFE8F3",
            "gridwidth": 2,
            "linecolor": "#EBF0F8",
            "showbackground": true,
            "ticks": "",
            "zerolinecolor": "#EBF0F8"
           }
          },
          "shapedefaults": {
           "line": {
            "color": "#2a3f5f"
           }
          },
          "ternary": {
           "aaxis": {
            "gridcolor": "#DFE8F3",
            "linecolor": "#A2B1C6",
            "ticks": ""
           },
           "baxis": {
            "gridcolor": "#DFE8F3",
            "linecolor": "#A2B1C6",
            "ticks": ""
           },
           "bgcolor": "white",
           "caxis": {
            "gridcolor": "#DFE8F3",
            "linecolor": "#A2B1C6",
            "ticks": ""
           }
          },
          "title": {
           "x": 0.05
          },
          "xaxis": {
           "automargin": true,
           "gridcolor": "#EBF0F8",
           "linecolor": "#EBF0F8",
           "ticks": "",
           "title": {
            "standoff": 15
           },
           "zerolinecolor": "#EBF0F8",
           "zerolinewidth": 2
          },
          "yaxis": {
           "automargin": true,
           "gridcolor": "#EBF0F8",
           "linecolor": "#EBF0F8",
           "ticks": "",
           "title": {
            "standoff": 15
           },
           "zerolinecolor": "#EBF0F8",
           "zerolinewidth": 2
          }
         }
        },
        "title": {
         "text": "Likes Distribution for Each Hashtag"
        },
        "xaxis": {
         "anchor": "y",
         "domain": [
          0,
          1
         ],
         "title": {
          "text": "Hashtag"
         }
        },
        "yaxis": {
         "anchor": "x",
         "domain": [
          0,
          1
         ],
         "title": {
          "text": "Likes"
         }
        }
       }
      }
     },
     "metadata": {},
     "output_type": "display_data"
    },
    {
     "data": {
      "application/vnd.plotly.v1+json": {
       "config": {
        "plotlyServerURL": "https://plot.ly"
       },
       "data": [
        {
         "alignmentgroup": "True",
         "hovertemplate": "Hashtag=%{x}<br>Impressions=%{y}<extra></extra>",
         "legendgroup": "",
         "marker": {
          "color": "#636efa",
          "pattern": {
           "shape": ""
          }
         },
         "name": "",
         "offsetgroup": "",
         "orientation": "v",
         "showlegend": false,
         "textposition": "auto",
         "type": "bar",
         "x": [
          "#finance",
          "#money",
          "#business",
          "#investing",
          "#investment",
          "#trading",
          "#stockmarket",
          "#data",
          "#datascience",
          "#dataanalysis",
          "#dataanalytics",
          "#datascientist",
          "#machinelearning",
          "#python",
          "#pythonprogramming",
          "#pythonprojects",
          "#pythoncode",
          "#artificialintelligence",
          "#ai",
          "#dataanalyst",
          "#amankharwal",
          "#thecleverprogrammer",
          "#healthcare",
          "#health",
          "#covid",
          "#deeplearning",
          "#machinelearningprojects",
          "#datascienceprojects",
          "#machinelearningmodels",
          "#pythonlearning",
          "#pythondeveloper",
          "#pythoncoding",
          "#pythonprogrammer",
          "#datavisualization",
          "#bigdata",
          "#dataviz",
          "#analytics",
          "#technology",
          "#programming",
          "#statistics",
          "#coding",
          "#businessintelligence",
          "#datamining",
          "#tech",
          "#computerscience",
          "#tableau",
          "#database",
          "#algorithm",
          "#algorithms",
          "#machinelearningalgorithms",
          "#ml",
          "#softskills",
          "#stocks",
          "#forex",
          "#candlestick",
          "#candlestickcharts",
          "#pythonbooks",
          "#bookstagram",
          "#powerbi",
          "#dataanalysisprojects",
          "#businessanalytics",
          "#neuralnetwork",
          "#neuralnetworks",
          "#tensorflow",
          "#artificialintelligenceai",
          "#alexnet",
          "#sentimentanalysis",
          "#sentiment",
          "#nlp",
          "#naturallanguageprocessing",
          "#timeseries",
          "#time",
          "#timeseriesanalysis",
          "#iot",
          "#analysis",
          "#timeseriesmalaysia",
          "#career",
          "#job",
          "#jobs",
          "#jobsearch",
          "#education",
          "#success",
          "#careergoals",
          "#motivation",
          "#work",
          "#careerdevelopment",
          "#careers",
          "#goals",
          "#resume",
          "#students",
          "#careeradvice",
          "#marketing",
          "#digitalmarketing",
          "#media",
          "#socialmedia",
          "#IT",
          "#webdevelopment",
          "#stress",
          "#stressdetection",
          "#zomato",
          "#casestudy",
          "#businessmodel",
          "#boxplots",
          "#programmer",
          "#developer",
          "#javascript",
          "#code",
          "#coder",
          "#java",
          "#html",
          "#css",
          "#webdeveloper",
          "#software",
          "#codinglife",
          "#softwaredeveloper",
          "#linux",
          "#programmingmemes",
          "#webdesign",
          "#programmers",
          "#php",
          "#programminglife",
          "#hacking",
          "#bitcoin",
          "#cryptocurrency",
          "#projects",
          "#casestudies",
          "#amazonfinds",
          "#security",
          "#cybersecurity",
          "#network",
          "#internet",
          "#cloud",
          "#innovation",
          "#google",
          "#facebook",
          "#interview",
          "#datascienceinterview",
          "#otp",
          "#otpverification",
          "#qrcodes",
          "#bigdataanalytics",
          "#recommended",
          "#recommendations",
          "#recommendationsystem",
          "#recommendation",
          "#codinginterview",
          "#flipkart",
          "#news",
          "#pythonprogram",
          "@codergallery",
          "#whatsapp",
          "#roadmap",
          "#ukraine",
          "#instagram",
          "#instagramreach",
          "#datasciencejobs",
          "#datasciencetraining",
          "#datascienceeducation",
          "#datasciencecourse",
          "#sql",
          "#mysql",
          "#python3",
          "#pythonprogramminglanguage",
          "#clustering"
         ],
         "xaxis": "x",
         "y": [
          14224,
          14224,
          51387,
          14224,
          9757,
          9757,
          9757,
          484761,
          524640,
          457923,
          497787,
          483746,
          532627,
          578243,
          525346,
          567608,
          470276,
          506190,
          512027,
          47051,
          672166,
          672166,
          18292,
          18292,
          18292,
          445317,
          297427,
          297427,
          27201,
          135901,
          135901,
          135901,
          135901,
          64864,
          70884,
          15438,
          53464,
          85523,
          90132,
          47283,
          83264,
          17971,
          17971,
          78655,
          75019,
          6506,
          22088,
          57289,
          57289,
          71529,
          30316,
          3884,
          5837,
          5837,
          5837,
          5837,
          3541,
          3541,
          13389,
          9401,
          9401,
          31660,
          18529,
          14240,
          14240,
          2218,
          34102,
          34102,
          42567,
          42567,
          22444,
          22444,
          22444,
          22444,
          22444,
          22444,
          8004,
          14856,
          8004,
          8004,
          8004,
          8004,
          8004,
          8004,
          8004,
          8004,
          8004,
          8004,
          8004,
          8004,
          8004,
          8004,
          8004,
          8004,
          8004,
          8004,
          35456,
          12336,
          12336,
          10844,
          10844,
          10844,
          2064,
          22843,
          22843,
          22843,
          22843,
          22843,
          22843,
          22843,
          22843,
          22843,
          29024,
          22843,
          22843,
          15991,
          15991,
          15991,
          15991,
          15991,
          15991,
          15991,
          14121,
          14121,
          7848,
          7848,
          6030,
          6181,
          6181,
          6181,
          6181,
          6181,
          6181,
          3854,
          2327,
          16139,
          4998,
          8030,
          8030,
          3786,
          3988,
          10036,
          10036,
          10036,
          10036,
          6852,
          3601,
          3525,
          2957,
          2957,
          5538,
          10682,
          8001,
          7231,
          7231,
          86691,
          86691,
          86691,
          86691,
          17713,
          17713,
          15991,
          15991,
          9870
         ],
         "yaxis": "y"
        }
       ],
       "layout": {
        "barmode": "relative",
        "legend": {
         "tracegroupgap": 0
        },
        "template": {
         "data": {
          "bar": [
           {
            "error_x": {
             "color": "#2a3f5f"
            },
            "error_y": {
             "color": "#2a3f5f"
            },
            "marker": {
             "line": {
              "color": "white",
              "width": 0.5
             },
             "pattern": {
              "fillmode": "overlay",
              "size": 10,
              "solidity": 0.2
             }
            },
            "type": "bar"
           }
          ],
          "barpolar": [
           {
            "marker": {
             "line": {
              "color": "white",
              "width": 0.5
             },
             "pattern": {
              "fillmode": "overlay",
              "size": 10,
              "solidity": 0.2
             }
            },
            "type": "barpolar"
           }
          ],
          "carpet": [
           {
            "aaxis": {
             "endlinecolor": "#2a3f5f",
             "gridcolor": "#C8D4E3",
             "linecolor": "#C8D4E3",
             "minorgridcolor": "#C8D4E3",
             "startlinecolor": "#2a3f5f"
            },
            "baxis": {
             "endlinecolor": "#2a3f5f",
             "gridcolor": "#C8D4E3",
             "linecolor": "#C8D4E3",
             "minorgridcolor": "#C8D4E3",
             "startlinecolor": "#2a3f5f"
            },
            "type": "carpet"
           }
          ],
          "choropleth": [
           {
            "colorbar": {
             "outlinewidth": 0,
             "ticks": ""
            },
            "type": "choropleth"
           }
          ],
          "contour": [
           {
            "colorbar": {
             "outlinewidth": 0,
             "ticks": ""
            },
            "colorscale": [
             [
              0,
              "#0d0887"
             ],
             [
              0.1111111111111111,
              "#46039f"
             ],
             [
              0.2222222222222222,
              "#7201a8"
             ],
             [
              0.3333333333333333,
              "#9c179e"
             ],
             [
              0.4444444444444444,
              "#bd3786"
             ],
             [
              0.5555555555555556,
              "#d8576b"
             ],
             [
              0.6666666666666666,
              "#ed7953"
             ],
             [
              0.7777777777777778,
              "#fb9f3a"
             ],
             [
              0.8888888888888888,
              "#fdca26"
             ],
             [
              1,
              "#f0f921"
             ]
            ],
            "type": "contour"
           }
          ],
          "contourcarpet": [
           {
            "colorbar": {
             "outlinewidth": 0,
             "ticks": ""
            },
            "type": "contourcarpet"
           }
          ],
          "heatmap": [
           {
            "colorbar": {
             "outlinewidth": 0,
             "ticks": ""
            },
            "colorscale": [
             [
              0,
              "#0d0887"
             ],
             [
              0.1111111111111111,
              "#46039f"
             ],
             [
              0.2222222222222222,
              "#7201a8"
             ],
             [
              0.3333333333333333,
              "#9c179e"
             ],
             [
              0.4444444444444444,
              "#bd3786"
             ],
             [
              0.5555555555555556,
              "#d8576b"
             ],
             [
              0.6666666666666666,
              "#ed7953"
             ],
             [
              0.7777777777777778,
              "#fb9f3a"
             ],
             [
              0.8888888888888888,
              "#fdca26"
             ],
             [
              1,
              "#f0f921"
             ]
            ],
            "type": "heatmap"
           }
          ],
          "heatmapgl": [
           {
            "colorbar": {
             "outlinewidth": 0,
             "ticks": ""
            },
            "colorscale": [
             [
              0,
              "#0d0887"
             ],
             [
              0.1111111111111111,
              "#46039f"
             ],
             [
              0.2222222222222222,
              "#7201a8"
             ],
             [
              0.3333333333333333,
              "#9c179e"
             ],
             [
              0.4444444444444444,
              "#bd3786"
             ],
             [
              0.5555555555555556,
              "#d8576b"
             ],
             [
              0.6666666666666666,
              "#ed7953"
             ],
             [
              0.7777777777777778,
              "#fb9f3a"
             ],
             [
              0.8888888888888888,
              "#fdca26"
             ],
             [
              1,
              "#f0f921"
             ]
            ],
            "type": "heatmapgl"
           }
          ],
          "histogram": [
           {
            "marker": {
             "pattern": {
              "fillmode": "overlay",
              "size": 10,
              "solidity": 0.2
             }
            },
            "type": "histogram"
           }
          ],
          "histogram2d": [
           {
            "colorbar": {
             "outlinewidth": 0,
             "ticks": ""
            },
            "colorscale": [
             [
              0,
              "#0d0887"
             ],
             [
              0.1111111111111111,
              "#46039f"
             ],
             [
              0.2222222222222222,
              "#7201a8"
             ],
             [
              0.3333333333333333,
              "#9c179e"
             ],
             [
              0.4444444444444444,
              "#bd3786"
             ],
             [
              0.5555555555555556,
              "#d8576b"
             ],
             [
              0.6666666666666666,
              "#ed7953"
             ],
             [
              0.7777777777777778,
              "#fb9f3a"
             ],
             [
              0.8888888888888888,
              "#fdca26"
             ],
             [
              1,
              "#f0f921"
             ]
            ],
            "type": "histogram2d"
           }
          ],
          "histogram2dcontour": [
           {
            "colorbar": {
             "outlinewidth": 0,
             "ticks": ""
            },
            "colorscale": [
             [
              0,
              "#0d0887"
             ],
             [
              0.1111111111111111,
              "#46039f"
             ],
             [
              0.2222222222222222,
              "#7201a8"
             ],
             [
              0.3333333333333333,
              "#9c179e"
             ],
             [
              0.4444444444444444,
              "#bd3786"
             ],
             [
              0.5555555555555556,
              "#d8576b"
             ],
             [
              0.6666666666666666,
              "#ed7953"
             ],
             [
              0.7777777777777778,
              "#fb9f3a"
             ],
             [
              0.8888888888888888,
              "#fdca26"
             ],
             [
              1,
              "#f0f921"
             ]
            ],
            "type": "histogram2dcontour"
           }
          ],
          "mesh3d": [
           {
            "colorbar": {
             "outlinewidth": 0,
             "ticks": ""
            },
            "type": "mesh3d"
           }
          ],
          "parcoords": [
           {
            "line": {
             "colorbar": {
              "outlinewidth": 0,
              "ticks": ""
             }
            },
            "type": "parcoords"
           }
          ],
          "pie": [
           {
            "automargin": true,
            "type": "pie"
           }
          ],
          "scatter": [
           {
            "fillpattern": {
             "fillmode": "overlay",
             "size": 10,
             "solidity": 0.2
            },
            "type": "scatter"
           }
          ],
          "scatter3d": [
           {
            "line": {
             "colorbar": {
              "outlinewidth": 0,
              "ticks": ""
             }
            },
            "marker": {
             "colorbar": {
              "outlinewidth": 0,
              "ticks": ""
             }
            },
            "type": "scatter3d"
           }
          ],
          "scattercarpet": [
           {
            "marker": {
             "colorbar": {
              "outlinewidth": 0,
              "ticks": ""
             }
            },
            "type": "scattercarpet"
           }
          ],
          "scattergeo": [
           {
            "marker": {
             "colorbar": {
              "outlinewidth": 0,
              "ticks": ""
             }
            },
            "type": "scattergeo"
           }
          ],
          "scattergl": [
           {
            "marker": {
             "colorbar": {
              "outlinewidth": 0,
              "ticks": ""
             }
            },
            "type": "scattergl"
           }
          ],
          "scattermapbox": [
           {
            "marker": {
             "colorbar": {
              "outlinewidth": 0,
              "ticks": ""
             }
            },
            "type": "scattermapbox"
           }
          ],
          "scatterpolar": [
           {
            "marker": {
             "colorbar": {
              "outlinewidth": 0,
              "ticks": ""
             }
            },
            "type": "scatterpolar"
           }
          ],
          "scatterpolargl": [
           {
            "marker": {
             "colorbar": {
              "outlinewidth": 0,
              "ticks": ""
             }
            },
            "type": "scatterpolargl"
           }
          ],
          "scatterternary": [
           {
            "marker": {
             "colorbar": {
              "outlinewidth": 0,
              "ticks": ""
             }
            },
            "type": "scatterternary"
           }
          ],
          "surface": [
           {
            "colorbar": {
             "outlinewidth": 0,
             "ticks": ""
            },
            "colorscale": [
             [
              0,
              "#0d0887"
             ],
             [
              0.1111111111111111,
              "#46039f"
             ],
             [
              0.2222222222222222,
              "#7201a8"
             ],
             [
              0.3333333333333333,
              "#9c179e"
             ],
             [
              0.4444444444444444,
              "#bd3786"
             ],
             [
              0.5555555555555556,
              "#d8576b"
             ],
             [
              0.6666666666666666,
              "#ed7953"
             ],
             [
              0.7777777777777778,
              "#fb9f3a"
             ],
             [
              0.8888888888888888,
              "#fdca26"
             ],
             [
              1,
              "#f0f921"
             ]
            ],
            "type": "surface"
           }
          ],
          "table": [
           {
            "cells": {
             "fill": {
              "color": "#EBF0F8"
             },
             "line": {
              "color": "white"
             }
            },
            "header": {
             "fill": {
              "color": "#C8D4E3"
             },
             "line": {
              "color": "white"
             }
            },
            "type": "table"
           }
          ]
         },
         "layout": {
          "annotationdefaults": {
           "arrowcolor": "#2a3f5f",
           "arrowhead": 0,
           "arrowwidth": 1
          },
          "autotypenumbers": "strict",
          "coloraxis": {
           "colorbar": {
            "outlinewidth": 0,
            "ticks": ""
           }
          },
          "colorscale": {
           "diverging": [
            [
             0,
             "#8e0152"
            ],
            [
             0.1,
             "#c51b7d"
            ],
            [
             0.2,
             "#de77ae"
            ],
            [
             0.3,
             "#f1b6da"
            ],
            [
             0.4,
             "#fde0ef"
            ],
            [
             0.5,
             "#f7f7f7"
            ],
            [
             0.6,
             "#e6f5d0"
            ],
            [
             0.7,
             "#b8e186"
            ],
            [
             0.8,
             "#7fbc41"
            ],
            [
             0.9,
             "#4d9221"
            ],
            [
             1,
             "#276419"
            ]
           ],
           "sequential": [
            [
             0,
             "#0d0887"
            ],
            [
             0.1111111111111111,
             "#46039f"
            ],
            [
             0.2222222222222222,
             "#7201a8"
            ],
            [
             0.3333333333333333,
             "#9c179e"
            ],
            [
             0.4444444444444444,
             "#bd3786"
            ],
            [
             0.5555555555555556,
             "#d8576b"
            ],
            [
             0.6666666666666666,
             "#ed7953"
            ],
            [
             0.7777777777777778,
             "#fb9f3a"
            ],
            [
             0.8888888888888888,
             "#fdca26"
            ],
            [
             1,
             "#f0f921"
            ]
           ],
           "sequentialminus": [
            [
             0,
             "#0d0887"
            ],
            [
             0.1111111111111111,
             "#46039f"
            ],
            [
             0.2222222222222222,
             "#7201a8"
            ],
            [
             0.3333333333333333,
             "#9c179e"
            ],
            [
             0.4444444444444444,
             "#bd3786"
            ],
            [
             0.5555555555555556,
             "#d8576b"
            ],
            [
             0.6666666666666666,
             "#ed7953"
            ],
            [
             0.7777777777777778,
             "#fb9f3a"
            ],
            [
             0.8888888888888888,
             "#fdca26"
            ],
            [
             1,
             "#f0f921"
            ]
           ]
          },
          "colorway": [
           "#636efa",
           "#EF553B",
           "#00cc96",
           "#ab63fa",
           "#FFA15A",
           "#19d3f3",
           "#FF6692",
           "#B6E880",
           "#FF97FF",
           "#FECB52"
          ],
          "font": {
           "color": "#2a3f5f"
          },
          "geo": {
           "bgcolor": "white",
           "lakecolor": "white",
           "landcolor": "white",
           "showlakes": true,
           "showland": true,
           "subunitcolor": "#C8D4E3"
          },
          "hoverlabel": {
           "align": "left"
          },
          "hovermode": "closest",
          "mapbox": {
           "style": "light"
          },
          "paper_bgcolor": "white",
          "plot_bgcolor": "white",
          "polar": {
           "angularaxis": {
            "gridcolor": "#EBF0F8",
            "linecolor": "#EBF0F8",
            "ticks": ""
           },
           "bgcolor": "white",
           "radialaxis": {
            "gridcolor": "#EBF0F8",
            "linecolor": "#EBF0F8",
            "ticks": ""
           }
          },
          "scene": {
           "xaxis": {
            "backgroundcolor": "white",
            "gridcolor": "#DFE8F3",
            "gridwidth": 2,
            "linecolor": "#EBF0F8",
            "showbackground": true,
            "ticks": "",
            "zerolinecolor": "#EBF0F8"
           },
           "yaxis": {
            "backgroundcolor": "white",
            "gridcolor": "#DFE8F3",
            "gridwidth": 2,
            "linecolor": "#EBF0F8",
            "showbackground": true,
            "ticks": "",
            "zerolinecolor": "#EBF0F8"
           },
           "zaxis": {
            "backgroundcolor": "white",
            "gridcolor": "#DFE8F3",
            "gridwidth": 2,
            "linecolor": "#EBF0F8",
            "showbackground": true,
            "ticks": "",
            "zerolinecolor": "#EBF0F8"
           }
          },
          "shapedefaults": {
           "line": {
            "color": "#2a3f5f"
           }
          },
          "ternary": {
           "aaxis": {
            "gridcolor": "#DFE8F3",
            "linecolor": "#A2B1C6",
            "ticks": ""
           },
           "baxis": {
            "gridcolor": "#DFE8F3",
            "linecolor": "#A2B1C6",
            "ticks": ""
           },
           "bgcolor": "white",
           "caxis": {
            "gridcolor": "#DFE8F3",
            "linecolor": "#A2B1C6",
            "ticks": ""
           }
          },
          "title": {
           "x": 0.05
          },
          "xaxis": {
           "automargin": true,
           "gridcolor": "#EBF0F8",
           "linecolor": "#EBF0F8",
           "ticks": "",
           "title": {
            "standoff": 15
           },
           "zerolinecolor": "#EBF0F8",
           "zerolinewidth": 2
          },
          "yaxis": {
           "automargin": true,
           "gridcolor": "#EBF0F8",
           "linecolor": "#EBF0F8",
           "ticks": "",
           "title": {
            "standoff": 15
           },
           "zerolinecolor": "#EBF0F8",
           "zerolinewidth": 2
          }
         }
        },
        "title": {
         "text": "Impressions Distribution for Each Hashtag"
        },
        "xaxis": {
         "anchor": "y",
         "domain": [
          0,
          1
         ],
         "title": {
          "text": "Hashtag"
         }
        },
        "yaxis": {
         "anchor": "x",
         "domain": [
          0,
          1
         ],
         "title": {
          "text": "Impressions"
         }
        }
       }
      }
     },
     "metadata": {},
     "output_type": "display_data"
    }
   ],
   "source": [
    "# Create a dictionary to store the likes and impressions for each hashtag\n",
    "hashtag_likes = {}\n",
    "hashtag_impressions = {}\n",
    "\n",
    "# Iterate through each row in the dataset\n",
    "for index, row in df.iterrows():\n",
    "    hashtags = str(row['Hashtags']).split()\n",
    "    for hashtag in hashtags:\n",
    "        hashtag = hashtag.strip()\n",
    "        if hashtag not in hashtag_likes:\n",
    "            hashtag_likes[hashtag] = 0\n",
    "            hashtag_impressions[hashtag] = 0\n",
    "        hashtag_likes[hashtag] += row['Likes']\n",
    "        hashtag_impressions[hashtag] += row['Impressions']\n",
    "\n",
    "# Create a DataFrame for likes distribution\n",
    "likes_distribution = pd.DataFrame(list(hashtag_likes.items()), columns=['Hashtag', 'Likes'])\n",
    "\n",
    "# Create a DataFrame for impressions distribution\n",
    "impressions_distribution = pd.DataFrame(list(hashtag_impressions.items()), columns=['Hashtag', 'Impressions'])\n",
    "\n",
    "fig_likes = px.bar(likes_distribution, x='Hashtag', y='Likes', \n",
    "                   title='Likes Distribution for Each Hashtag')\n",
    "\n",
    "fig_impressions = px.bar(impressions_distribution, x='Hashtag', \n",
    "                         y='Impressions', \n",
    "                         title='Impressions Distribution for Each Hashtag')\n",
    "\n",
    "fig_likes.show()\n",
    "fig_impressions.show()"
   ]
  },
  {
   "cell_type": "code",
   "execution_count": null,
   "metadata": {},
   "outputs": [],
   "source": []
  }
 ],
 "metadata": {
  "kernelspec": {
   "display_name": "Python 3",
   "language": "python",
   "name": "python3"
  },
  "language_info": {
   "codemirror_mode": {
    "name": "ipython",
    "version": 3
   },
   "file_extension": ".py",
   "mimetype": "text/x-python",
   "name": "python",
   "nbconvert_exporter": "python",
   "pygments_lexer": "ipython3",
   "version": "3.9.16"
  },
  "orig_nbformat": 4
 },
 "nbformat": 4,
 "nbformat_minor": 2
}
